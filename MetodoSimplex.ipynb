{
 "cells": [
  {
   "cell_type": "markdown",
   "metadata": {},
   "source": [
    "## Método Simplex\n",
    "------------\n",
    "#### Realizado por Michael Adolfo Huerta Ramirez\n",
    "##### Consideraciones\n",
    "- \n",
    "- "
   ]
  },
  {
   "cell_type": "markdown",
   "metadata": {},
   "source": [
    "### Paso 1: Modelación mediante programacion lineal\n",
    "\n",
    "- X<sub>1</sub> = Cantidad de mesas a producir (unidades)\n",
    "- X<sub>2</sub> = Cantidad de sillas a producir (unidades)\n",
    "- X<sub>3</sub> = Cantidad de camas a producir (unidades)\n",
    "- X<sub>4</sub> = Cantidad de bibliotecas a producir (unidades)\n",
    "\n",
    "-------------\n",
    "\n",
    "Restricciones:\n",
    "\n",
    "2X<sub>1</sub> + 1X<sub>2</sub> + 1X<sub>3</sub> + 2X<sub>4</sub> <= 24\n",
    "<br>\n",
    "2X<sub>1</sub> + 2X<sub>2</sub> + 1X<sub>3</sub>  <= 20\n",
    "<br>\n",
    "2X<sub>3</sub> + 2X<sub>4</sub> <= 20\n",
    "<br>\n",
    "4X<sub>4</sub> <= 16\n",
    "\n",
    "\n",
    "-----------\n",
    "\n",
    "Función Objetivo:\n",
    "\n",
    "Z<sub>MAX</sub> = 20000"
   ]
  },
  {
   "cell_type": "code",
   "execution_count": null,
   "metadata": {},
   "outputs": [],
   "source": []
  }
 ],
 "metadata": {
  "language_info": {
   "name": "python"
  },
  "orig_nbformat": 4
 },
 "nbformat": 4,
 "nbformat_minor": 2
}
