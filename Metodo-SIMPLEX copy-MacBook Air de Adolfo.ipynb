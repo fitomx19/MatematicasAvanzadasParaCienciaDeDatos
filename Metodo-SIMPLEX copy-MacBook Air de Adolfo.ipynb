{
 "cells": [
  {
   "cell_type": "markdown",
   "id": "f190a455",
   "metadata": {},
   "source": [
    "### Matematícas Avanzadas para la Ciencia de Datos\n",
    "Por Michael Adolfo Huerta Ramírez"
   ]
  },
  {
   "cell_type": "markdown",
   "id": "85bfe5da",
   "metadata": {},
   "source": [
    "#### Metodo Simplex"
   ]
  },
  {
   "cell_type": "markdown",
   "id": "d6b4eca3",
   "metadata": {},
   "source": [
    "Para resolver un problema de programación lineal, debemos seguir los siguientes pasos:\n",
    "\n",
    "- Elegir las incógnitas o variables de decisión.\n",
    "\n",
    "- Escribir la función objetivo en función de los datos del problema.\n",
    "\n",
    "- Escribir las restricciones en forma de sistema de inecuaciones.\n",
    "\n",
    "- Averiguar el conjunto de soluciones factibles representando gráficamente las restricciones.\n",
    "\n",
    "- Calcular las coordenadas de los vértices del recinto de soluciones factibles (si son pocos).\n",
    "\n",
    "- Calcular el valor de la función objetivo en cada uno de los vértices para ver en cuál de ellos presenta el valor máximo o mínimo según nos pida el problema (hay que tener en cuenta aquí la posible no existencia de solución)."
   ]
  },
  {
   "cell_type": "code",
   "execution_count": 1,
   "id": "966861d1",
   "metadata": {},
   "outputs": [
    {
     "name": "stdout",
     "output_type": "stream",
     "text": [
      "Funcion a Maximizar\n",
      "[1, 1, 3]\n"
     ]
    }
   ],
   "source": [
    "import numpy as np \n",
    "#Crearemos un arreglo donde el primer valor sera Z con relacion que quede de la forma\n",
    " # z = 10X_1 + 20X_2\n",
    "Funcion_a_maximizar = []\n",
    "\n",
    "#variable de paro\n",
    "x = True\n",
    "contador = 0\n",
    "informacion_paso = \"z\"\n",
    "\n",
    "while(x == True):\n",
    "    if(contador != 0):\n",
    "        informacion_paso = \"X_\" + str(contador)\n",
    "        \n",
    "            \n",
    "    variable_entrada = input('Introduce el valor ' + informacion_paso +' de la funcion dada, presiona (X) si terminaste')\n",
    "    contador +=1\n",
    "    if(variable_entrada.lower() == 'x'):\n",
    "        x = False\n",
    "    else:\n",
    "         Funcion_a_maximizar.append(int(variable_entrada))\n",
    "   \n",
    "\n",
    "print(\"Funcion a Maximizar\")\n",
    "print(Funcion_a_maximizar)\n",
    "\n"
   ]
  },
  {
   "cell_type": "code",
   "execution_count": 2,
   "id": "0f2f7fbb",
   "metadata": {},
   "outputs": [],
   "source": [
    "#Crearemos las restricciones para este sistema\n",
    "#Estara limitado hasta un máximo de 5 restricciones\n",
    "\n",
    "#primero para 3 restricciones\n",
    "def restriccion():\n",
    "    restriccion = []\n",
    "    #variable de paro\n",
    "    x = True\n",
    "    contador = 1\n",
    "    informacion_paso = \"\"\n",
    "\n",
    "    while(x == True):\n",
    "        \n",
    "        informacion_paso = \"X_\" + str(contador)\n",
    "\n",
    "        print(\"Escribe 0 si quieres que la variable este vacia\")\n",
    "        variable_entrada = input('Introduce el valor ' + informacion_paso +' de la funcion dada, presiona (X) si terminaste')\n",
    "        contador +=1\n",
    "        if(variable_entrada.lower() == 'x'):\n",
    "            x = False\n",
    "        else:\n",
    "             restriccion.append(int(variable_entrada))\n",
    "\n",
    "    desigualdad = input('Escribe el valor de la desigualdad')\n",
    "    restriccion.append(int(desigualdad))\n",
    "    \n",
    "    print(\"Valor de la restriccion\")\n",
    "    print(restriccion)\n",
    "    return restriccion"
   ]
  },
  {
   "cell_type": "markdown",
   "id": "f2e7053d",
   "metadata": {},
   "source": [
    "Registro de restricciones"
   ]
  },
  {
   "cell_type": "code",
   "execution_count": null,
   "id": "5a8644ba",
   "metadata": {},
   "outputs": [],
   "source": [
    "#Total de restricciones\n",
    "print(\"Introduce la primera restriccion\")\n",
    "restriccion_1 = restriccion()\n",
    "print(\"Introduce la segunda restriccion\")\n",
    "restriccion_2 = restriccion()\n",
    "print(\"Introduce la tercera restriccion\")\n",
    "restriccion_3 = restriccion()"
   ]
  },
  {
   "cell_type": "code",
   "execution_count": 2,
   "id": "5dde63ac",
   "metadata": {},
   "outputs": [],
   "source": [
    "#Usamos estos valores para la muestra\n",
    "restriccion_1 = [-1,1,4]\n",
    "restriccion_2 = [-1,2,12]\n",
    "restriccion_3 = [1,1,10]"
   ]
  },
  {
   "cell_type": "markdown",
   "id": "dad55fe6",
   "metadata": {},
   "source": [
    "Validador de restricciones"
   ]
  },
  {
   "cell_type": "code",
   "execution_count": 4,
   "id": "98310bba",
   "metadata": {},
   "outputs": [
    {
     "name": "stdout",
     "output_type": "stream",
     "text": [
      "Las longitudes de las restricciones son correctas, continuemos: \n"
     ]
    }
   ],
   "source": [
    "if(len(restriccion_1) == len(restriccion_2) and len(restriccion_2) == len(restriccion_3)):\n",
    "    print(\"Las longitudes de las restricciones son correctas, continuemos: \")\n",
    "else:\n",
    "    print(\"Selecciona diferentes restricciones\")"
   ]
  },
  {
   "cell_type": "markdown",
   "id": "371ad9a6",
   "metadata": {},
   "source": [
    "Creacion de la tabla $SIMPLEX$"
   ]
  },
  {
   "cell_type": "markdown",
   "id": "b0d839c7",
   "metadata": {},
   "source": [
    "| Variables Basicas | Z | $$X_1$$ | $$X_2$$ | C.R\n",
    "| --- | --- | --- | --- | --- |\n",
    "| $$S_1$$  | 0 | -1 | 1 | 4 |\n",
    "| $$S_2$$  | 0 | -1 | 2 | 12 |\n",
    "| $$S_3$$  | 0 | 1 | 1 | 10 |\n",
    "| $$Z$$    | 1 | -1 | -3 | 0 |"
   ]
  },
  {
   "cell_type": "code",
   "execution_count": 3,
   "id": "2bd4651a",
   "metadata": {},
   "outputs": [
    {
     "name": "stdout",
     "output_type": "stream",
     "text": [
      "Valor de la funcion Z transformada: \n",
      "[1, -1, -3]\n",
      "Valor Minimo: -3 En el indice: 2\n"
     ]
    }
   ],
   "source": [
    "#zNegativa  es la primera funcion , la Funcion_a_maximizar en valores negativos donde\n",
    "\n",
    "# Z -20X_1 -10X_2\n",
    "\n",
    "F_a_M_Transformada = []\n",
    "\n",
    "for x in range(len(Funcion_a_maximizar)):\n",
    "    valores = 0\n",
    "    if(x == 0):\n",
    "        valores = int(Funcion_a_maximizar[x])\n",
    "    else:\n",
    "        valores = int(Funcion_a_maximizar[x])*-1\n",
    "    F_a_M_Transformada.append(valores)\n",
    "    \n",
    "print(\"Valor de la funcion Z transformada: \")    \n",
    "print(F_a_M_Transformada)\n",
    "    \n",
    "min_value = min(F_a_M_Transformada)\n",
    "print('Valor Minimo:', min_value, \"En el indice:\", F_a_M_Transformada.index(min_value))  \n",
    "    "
   ]
  },
  {
   "cell_type": "markdown",
   "id": "9725e1a4",
   "metadata": {},
   "source": [
    "Despúes agregaremos las variables pivotes"
   ]
  },
  {
   "cell_type": "markdown",
   "id": "b628d41b",
   "metadata": {},
   "source": [
    "| Variables Basicas | Z | $$X_1$$ | $$X_2$$ | $$S_1$$| $$S_2$$ | $$S_2$$ | C.R\n",
    "| --- | --- | --- | --- | --- | --- | --- | --- |\n",
    "| $$S_1$$  | 0 | -1 | 1 | 1 | 0 |  0 | 4\n",
    "| $$S_2$$  | 0 | -1 | 2 | 0 | 1 | 0  | 12\n",
    "| $$S_3$$  | 0 | 1| 1 | 0 | 0 | 1  | 10\n",
    "| $$Z$$    | 1 | -1 | -3 | 0 | 0 | 0 | 0"
   ]
  },
  {
   "cell_type": "code",
   "execution_count": 4,
   "id": "354b5ab6",
   "metadata": {},
   "outputs": [
    {
     "name": "stdout",
     "output_type": "stream",
     "text": [
      "[0, -1, 1]\n",
      "[0, -1, 2]\n",
      "[0, 1, 1]\n",
      "[ 0 -1  1  1  0  0  4]\n"
     ]
    }
   ],
   "source": [
    "#asignamos las restricciones a variables s , para despues agregar las variables pivote\n",
    "s1 = (restriccion_1)\n",
    "s2 = (restriccion_2)\n",
    "s3 = (restriccion_3)\n",
    "\n",
    "#seleccionamos el ultimo elemento\n",
    "s1_utlimo = (s1[-1])\n",
    "s2_utlimo = (s2[-1])\n",
    "s3_utlimo = (s3[-1])\n",
    "\n",
    "#quitamos por mientras el ultimo valor\n",
    "s1.pop()\n",
    "s2.pop()\n",
    "s3.pop()\n",
    "\n",
    "#creamos las listas pivote\n",
    "pivote_1 = [1,0,0]\n",
    "pivote_2 = [0,1,0]\n",
    "pivote_3 = [0,0,1]\n",
    "pivote_4 = [0,0,0,0]\n",
    "#añadimos los valores 0 al inicio de cada lista s    \n",
    "s1 = [0, *s1]\n",
    "s2 = [0, *s2]\n",
    "s3 = [0, *s3]\n",
    "    \n",
    "    \n",
    "#observamos como van las listas\n",
    "print(s1)\n",
    "print(s2)\n",
    "print(s3)\n",
    "\n",
    "#s1 = []\n",
    "#s2 = []\n",
    "#s3 = []\n",
    "\n",
    "#añadir valores pivote\n",
    "\n",
    "s1.extend(pivote_1)\n",
    "s2.extend(pivote_2)\n",
    "s3.extend(pivote_3)\n",
    "F_a_M_Transformada.extend(pivote_4)\n",
    "\n",
    "#añadir ultimo valor\n",
    "s1.append(s1_utlimo)\n",
    "s2.append(s2_utlimo)\n",
    "s3.append(s3_utlimo)\n",
    "\n",
    "#creamos un arreglo que despues volveremos a usar\n",
    "ss1 = np.array(s1)\n",
    "ss2 = np.array(s2)\n",
    "ss3 = np.array(s3)\n",
    "print(ss1)"
   ]
  },
  {
   "cell_type": "code",
   "execution_count": 7,
   "id": "bb7e76c7",
   "metadata": {},
   "outputs": [],
   "source": [
    "# metodo para limpiar las listas\n",
    "#s1.clear()\n",
    "#s2.clear()\n",
    "#s3.clear()\n"
   ]
  },
  {
   "cell_type": "code",
   "execution_count": 5,
   "id": "43abd27f",
   "metadata": {},
   "outputs": [],
   "source": [
    "#metodo para agregar todas las listas dentro de una para luego transformarla en matriz\n",
    "lista_general = s1.extend(s2)\n",
    "lista_general = s1.extend(s3)\n"
   ]
  },
  {
   "cell_type": "code",
   "execution_count": 6,
   "id": "2247bbbc",
   "metadata": {},
   "outputs": [],
   "source": [
    "#agregamos la columna z\n",
    "lista_general = s1.extend(F_a_M_Transformada)"
   ]
  },
  {
   "cell_type": "code",
   "execution_count": 7,
   "id": "8a6b57c3",
   "metadata": {},
   "outputs": [
    {
     "name": "stdout",
     "output_type": "stream",
     "text": [
      "[0, -1, 1, 1, 0, 0, 4, 0, -1, 2, 0, 1, 0, 12, 0, 1, 1, 0, 0, 1, 10, 1, -1, -3, 0, 0, 0, 0]\n"
     ]
    }
   ],
   "source": [
    "lista_matriz = []\n",
    "lista_matriz = s1\n",
    "print(lista_matriz)"
   ]
  },
  {
   "cell_type": "code",
   "execution_count": 8,
   "id": "2bc1dd1a",
   "metadata": {},
   "outputs": [
    {
     "name": "stdout",
     "output_type": "stream",
     "text": [
      "[[ 0 -1  1  1  0  0  4]\n",
      " [ 0 -1  2  0  1  0 12]\n",
      " [ 0  1  1  0  0  1 10]\n",
      " [ 1 -1 -3  0  0  0  0]]\n"
     ]
    }
   ],
   "source": [
    "\n",
    "x = np.array(lista_matriz).reshape(4,7)\n",
    "print(x)"
   ]
  },
  {
   "cell_type": "markdown",
   "id": "847539a3",
   "metadata": {},
   "source": [
    "Nota: El objetivo es encontrar la columna pivote que tenga el valor más negativo en la funcion $Z$ para optener el valor óptimo"
   ]
  },
  {
   "cell_type": "markdown",
   "id": "be840f18",
   "metadata": {},
   "source": [
    "En este caso como vimos arriba se encontro la columna $X_2$\n",
    "<br></br>\n",
    "\n",
    "|$$X_2$$|\n",
    "|---|\n",
    "|1|\n",
    "|2|\n",
    "|1|\n",
    "|-3|"
   ]
  },
  {
   "cell_type": "markdown",
   "id": "2032439a",
   "metadata": {},
   "source": [
    "Ahora se divide el elemento $CR$ entre el elemento pivote que le corresponde:\n",
    "<br>\n",
    "$Z$ no se divide debido a que siempre es $0$\n"
   ]
  },
  {
   "cell_type": "markdown",
   "id": "2a0a24ba",
   "metadata": {},
   "source": [
    "$\\frac{4}{1} = 4$\n",
    "<br>\n",
    "\n",
    "$\\frac{12}{2} = 6$\n",
    "<br>\n",
    "\n",
    "$\\frac{10}{1} = 10$"
   ]
  },
  {
   "cell_type": "code",
   "execution_count": 9,
   "id": "dd4f34a0",
   "metadata": {},
   "outputs": [
    {
     "data": {
      "text/html": [
       "<div>\n",
       "<style scoped>\n",
       "    .dataframe tbody tr th:only-of-type {\n",
       "        vertical-align: middle;\n",
       "    }\n",
       "\n",
       "    .dataframe tbody tr th {\n",
       "        vertical-align: top;\n",
       "    }\n",
       "\n",
       "    .dataframe thead th {\n",
       "        text-align: right;\n",
       "    }\n",
       "</style>\n",
       "<table border=\"1\" class=\"dataframe\">\n",
       "  <thead>\n",
       "    <tr style=\"text-align: right;\">\n",
       "      <th></th>\n",
       "      <th>0</th>\n",
       "      <th>1</th>\n",
       "      <th>2</th>\n",
       "      <th>3</th>\n",
       "      <th>4</th>\n",
       "      <th>5</th>\n",
       "      <th>6</th>\n",
       "    </tr>\n",
       "  </thead>\n",
       "  <tbody>\n",
       "    <tr>\n",
       "      <th>0</th>\n",
       "      <td>0</td>\n",
       "      <td>-1</td>\n",
       "      <td>1</td>\n",
       "      <td>1</td>\n",
       "      <td>0</td>\n",
       "      <td>0</td>\n",
       "      <td>4</td>\n",
       "    </tr>\n",
       "    <tr>\n",
       "      <th>1</th>\n",
       "      <td>0</td>\n",
       "      <td>-1</td>\n",
       "      <td>2</td>\n",
       "      <td>0</td>\n",
       "      <td>1</td>\n",
       "      <td>0</td>\n",
       "      <td>12</td>\n",
       "    </tr>\n",
       "    <tr>\n",
       "      <th>2</th>\n",
       "      <td>0</td>\n",
       "      <td>1</td>\n",
       "      <td>1</td>\n",
       "      <td>0</td>\n",
       "      <td>0</td>\n",
       "      <td>1</td>\n",
       "      <td>10</td>\n",
       "    </tr>\n",
       "    <tr>\n",
       "      <th>3</th>\n",
       "      <td>1</td>\n",
       "      <td>-1</td>\n",
       "      <td>-3</td>\n",
       "      <td>0</td>\n",
       "      <td>0</td>\n",
       "      <td>0</td>\n",
       "      <td>0</td>\n",
       "    </tr>\n",
       "  </tbody>\n",
       "</table>\n",
       "</div>"
      ],
      "text/plain": [
       "   0  1  2  3  4  5   6\n",
       "0  0 -1  1  1  0  0   4\n",
       "1  0 -1  2  0  1  0  12\n",
       "2  0  1  1  0  0  1  10\n",
       "3  1 -1 -3  0  0  0   0"
      ]
     },
     "execution_count": 9,
     "metadata": {},
     "output_type": "execute_result"
    }
   ],
   "source": [
    "import pandas as pd\n",
    "\n",
    "#Podemos visualizarlo de mejor manera con un daframe en pandas\n",
    "\n",
    "df = pd.DataFrame(data=x )\n",
    "df"
   ]
  },
  {
   "cell_type": "markdown",
   "id": "ea7e665b",
   "metadata": {},
   "source": [
    "Recordemos que el menor valor de z estaba en la posicion de indice 2 , por lo cual usaremos esa lista para dividir"
   ]
  },
  {
   "cell_type": "code",
   "execution_count": 10,
   "id": "78958d7c",
   "metadata": {},
   "outputs": [
    {
     "name": "stdout",
     "output_type": "stream",
     "text": [
      "4.0\n",
      "6.0\n",
      "10.0\n",
      "Valor Minimo: 4.0 En el indice: 2\n"
     ]
    }
   ],
   "source": [
    "#resultado operacion =>\n",
    "\n",
    "fila_a_dividir = df[2]\n",
    "valor_minimo_iteracion_1 = []\n",
    "\n",
    "for x in range(len(fila_a_dividir)-1):\n",
    "    print(df[6][x]/fila_a_dividir[x])\n",
    "    valor_minimo_iteracion_1.append(df[6][x]/fila_a_dividir[x])\n",
    "    \n",
    "#eliminamos valor z \n",
    "min_value_i = min(valor_minimo_iteracion_1)    \n",
    "print('Valor Minimo:', min_value_i, \"En el indice:\", F_a_M_Transformada.index(min_value)) \n",
    "    "
   ]
  },
  {
   "cell_type": "markdown",
   "id": "41cd2b7d",
   "metadata": {},
   "source": [
    "El valor 2 es el número 8 , posicionado en la fila 1 columna 2"
   ]
  },
  {
   "cell_type": "markdown",
   "id": "a286385f",
   "metadata": {},
   "source": [
    "| Variables Basicas | Z | $$X_1$$ | $$X_2$$ | $$S_1$$| $$S_2$$ | $$S_3$$ | C.R\n",
    "| --- | --- | --- | --- | --- | --- | --- | --- |\n",
    "| $$S_1$$  | 0 | -1 | 1 | 1 | 0 |  0 | 4\n",
    "| $$X_2$$  | 0/1 | -1/1 | 2/1 | 0/1 | 1/1 | 0/1  | 12/1\n",
    "| $$S_3$$  | 0 | 1 | 1 | 0 | 0 | 1  | 10\n",
    "| $$Z$$    | 1 | -1 | -3 | 0 | 0 | 0 | 0"
   ]
  },
  {
   "cell_type": "code",
   "execution_count": 11,
   "id": "c9f0bfa9",
   "metadata": {},
   "outputs": [
    {
     "name": "stdout",
     "output_type": "stream",
     "text": [
      "[0.0, -1.0, 2.0, 0.0, 1.0, 0.0, 12.0]\n"
     ]
    }
   ],
   "source": [
    "#division de fila x_2 entre 8 que es el valor pivote\n",
    "FE = []\n",
    "for v in range(len(ss2)):\n",
    "    division = ss2[v] / 1\n",
    "    FE.append(division)\n",
    "print(FE)"
   ]
  },
  {
   "cell_type": "markdown",
   "id": "089c338a",
   "metadata": {},
   "source": [
    "Ahora crearemos las nuevas tablas con la funcion:\n",
    "<br>\n",
    "Fila Vieja $S_n - (CPFVS_n * F.E)$ \n",
    "<br>\n",
    "Por ejemplo:"
   ]
  },
  {
   "cell_type": "code",
   "execution_count": 12,
   "id": "404cd23b",
   "metadata": {},
   "outputs": [
    {
     "name": "stdout",
     "output_type": "stream",
     "text": [
      "[ 0 -1  1  1  0  0  4]\n",
      "[1, 1, 1, 1, 1, 1, 1]\n"
     ]
    }
   ],
   "source": [
    "#sabemos que el indice dos es donde vamos a seleccionar el valor pivote, dentro de la fila S_1\n",
    "# el valor de X_2 es = 2 entonces vamos a crear un arreglo con ese valor para ejecutar la operacion\n",
    "\n",
    "#Fila Vieja S_1\n",
    "print(ss1)\n",
    "CPVFS_1 = []\n",
    "for u in range(len(ss1)):\n",
    "    CPVFS_1.append(1)\n",
    "print(CPVFS_1)    "
   ]
  },
  {
   "cell_type": "code",
   "execution_count": 18,
   "id": "92a5c998",
   "metadata": {},
   "outputs": [],
   "source": [
    "#Una vez que ya tenemos todas nuestras variables podemos empezar a operarlas ss1 - (CPVFS_1*F.E)"
   ]
  },
  {
   "cell_type": "code",
   "execution_count": 13,
   "id": "33264fbd",
   "metadata": {},
   "outputs": [
    {
     "name": "stdout",
     "output_type": "stream",
     "text": [
      "[0.0, 0.0, -1.0, 1.0, -1.0, 0.0, -8.0]\n"
     ]
    }
   ],
   "source": [
    "fila_nuevaS1 = []\n",
    "for f in range(len(ss1)):\n",
    "    operacion = ss1[f] - (CPVFS_1[f]*FE[f])\n",
    "    fila_nuevaS1.append(operacion)\n",
    "print(fila_nuevaS1)    "
   ]
  },
  {
   "cell_type": "code",
   "execution_count": 21,
   "id": "261ba3bb",
   "metadata": {},
   "outputs": [],
   "source": [
    "#Ahora que ya tenemos la nueva fila S1 operaremos para S3 bajo el mismo fundamento para asi obtener los valores "
   ]
  },
  {
   "cell_type": "code",
   "execution_count": 14,
   "id": "b8200702",
   "metadata": {},
   "outputs": [
    {
     "name": "stdout",
     "output_type": "stream",
     "text": [
      "[ 0  1  1  0  0  1 10]\n",
      "[1, 1, 1, 1, 1, 1, 1]\n",
      "[0.0, 2.0, -1.0, 0.0, -1.0, 1.0, -2.0]\n"
     ]
    }
   ],
   "source": [
    "#sabemos que el indice dos es donde vamos a seleccionar el valor pivote, dentro de la fila S_3\n",
    "# el valor de X_2 es = 2 entonces vamos a crear un arreglo con ese valor para ejecutar la operacion\n",
    "\n",
    "#Fila Vieja S_3\n",
    "print(ss3)\n",
    "CPVFS_3 = []\n",
    "for u in range(len(ss3)):\n",
    "    CPVFS_3.append(1)\n",
    "print(CPVFS_3)  \n",
    "\n",
    "fila_nuevaS3 = []\n",
    "for f in range(len(ss3)):\n",
    "    operacion = ss3[f] - (CPVFS_3[f]*FE[f])\n",
    "    fila_nuevaS3.append(operacion)\n",
    "print(fila_nuevaS3)    "
   ]
  },
  {
   "cell_type": "markdown",
   "id": "9eb50a17",
   "metadata": {},
   "source": [
    "Por ultimo haremos esto para el valor Z  recordemos que el valor pivote en dentro de la fila z corresponde a $-20$"
   ]
  },
  {
   "cell_type": "code",
   "execution_count": 15,
   "id": "28daedcf",
   "metadata": {},
   "outputs": [
    {
     "name": "stdout",
     "output_type": "stream",
     "text": [
      "[ 1 -1 -3  0  0  0  0]\n",
      "[-3, -3, -3, -3, -3, -3, -3]\n",
      "[1.0, -4.0, 3.0, 0.0, 3.0, 0.0, 36.0]\n"
     ]
    }
   ],
   "source": [
    "#Fila Vieja Z\n",
    "zs = np.array(F_a_M_Transformada)\n",
    "print(zs)\n",
    "CPVFz = []\n",
    "for u in range(len(zs)):\n",
    "    CPVFz.append(-3)\n",
    "print(CPVFz)  \n",
    "\n",
    "fila_nuevaz = []\n",
    "for f in range(len(zs)):\n",
    "    operacion = zs[f] - (CPVFz[f]*FE[f])\n",
    "    fila_nuevaz.append(operacion)\n",
    "print(fila_nuevaz)    "
   ]
  },
  {
   "cell_type": "markdown",
   "id": "befb9041",
   "metadata": {},
   "source": [
    "- Ahora ordenemos de nuevo las tablas\n",
    "\n",
    "<br>\n",
    "\n",
    "##### Tabla Simplex #2\n",
    "| Variables Basicas | Z | $$X_1$$ | $$X_2$$ | $$S_1$$| $$S_2$$ | $$S_3$$ | C.R\n",
    "| --- | --- | --- | --- | --- | --- | --- | --- |\n",
    "| $$S_1$$  | 0 | 2 | 0 | 1 | -1/4 |  0 | 15\n",
    "| $$X_2$$  | 0 | 1 | 1 | 0 | 1/8 | 0  | 5/2\n",
    "| $$S_3$$  | 0 | -2 | 0 | 0 | -1/4 | 1  | 5\n",
    "| $$Z$$    | 1 | 10 | 0 | 0 | 5/2 | 0 | 50\n"
   ]
  },
  {
   "cell_type": "code",
   "execution_count": 16,
   "id": "d5934410",
   "metadata": {},
   "outputs": [
    {
     "name": "stdout",
     "output_type": "stream",
     "text": [
      "[0.0, 0.0, -1.0, 1.0, -1.0, 0.0, -8.0]\n",
      "[0.0, -1.0, 2.0, 0.0, 1.0, 0.0, 12.0]\n",
      "[0.0, 2.0, -1.0, 0.0, -1.0, 1.0, -2.0]\n",
      "[1.0, -4.0, 3.0, 0.0, 3.0, 0.0, 36.0]\n"
     ]
    }
   ],
   "source": [
    "#Aqui pueden reajustarlas con reshape\n",
    "print(fila_nuevaS1)    \n",
    "print(FE)\n",
    "print(fila_nuevaS3) \n",
    "print(fila_nuevaz) "
   ]
  },
  {
   "cell_type": "markdown",
   "id": "88fb777e",
   "metadata": {},
   "source": [
    "Corroboramos que ya no existan valores negativos en $Z$"
   ]
  },
  {
   "cell_type": "code",
   "execution_count": 17,
   "id": "cac266af",
   "metadata": {},
   "outputs": [
    {
     "name": "stdout",
     "output_type": "stream",
     "text": [
      "Puede optimizarse más\n",
      "Encontramos la opcion optima\n"
     ]
    }
   ],
   "source": [
    "contador = 0\n",
    "for w in fila_nuevaz:\n",
    "    \n",
    "    if(w<0):\n",
    "        print(\"Puede optimizarse más\")\n",
    "        contador = 1\n",
    "    else: \n",
    "        contador = 0\n",
    "if(contador == 0):\n",
    "    print(\"Encontramos la opcion optima\")"
   ]
  },
  {
   "cell_type": "markdown",
   "id": "3f1250cd",
   "metadata": {},
   "source": [
    "Se tiene que hacer otra iteracion más"
   ]
  },
  {
   "cell_type": "code",
   "execution_count": 22,
   "id": "95a45d87",
   "metadata": {},
   "outputs": [
    {
     "data": {
      "text/plain": [
       "0.0"
      ]
     },
     "execution_count": 22,
     "metadata": {},
     "output_type": "execute_result"
    }
   ],
   "source": []
  },
  {
   "cell_type": "code",
   "execution_count": 27,
   "id": "8e0321bc",
   "metadata": {},
   "outputs": [
    {
     "name": "stdout",
     "output_type": "stream",
     "text": [
      "0.0\n",
      "0.0\n",
      "-0.5\n",
      "0.5\n",
      "-0.5\n",
      "0.0\n",
      "-4.0\n",
      "[0.0, 0.0, -0.5, 0.5, -0.5, 0.0, -4.0]\n"
     ]
    }
   ],
   "source": [
    "FE2 = []\n",
    "for v in range(len(fila_nuevaS1)):\n",
    "    division = fila_nuevaS1[v] / 2\n",
    "    print(division)\n",
    "    FE2.append(division)\n",
    "print(FE2)"
   ]
  },
  {
   "cell_type": "markdown",
   "id": "49bbb1d3",
   "metadata": {},
   "source": [
    "Los valores finales seran los C.R que encontramos en la funcion $X_2$ y en la funcion $Z$ "
   ]
  },
  {
   "cell_type": "code",
   "execution_count": 18,
   "id": "808a74b4",
   "metadata": {},
   "outputs": [
    {
     "name": "stdout",
     "output_type": "stream",
     "text": [
      "[12.0]\n",
      "[36.0]\n"
     ]
    }
   ],
   "source": [
    "print(FE[-1:])\n",
    "print(fila_nuevaz[-1:])"
   ]
  },
  {
   "cell_type": "markdown",
   "id": "9c227947",
   "metadata": {},
   "source": [
    "Reemplazando en la funcion original tenemos que:\n",
    "\n",
    " <br>\n",
    " \n",
    " $X_2$ <-  $5/2$ \n",
    " $Z$   <-   50    \n",
    " \n",
    " <br>\n",
    " \n",
    " $Z = 10 X_1 + 20X_2$\n",
    " \n",
    " <br>\n",
    " \n",
    " $50 = 10(0) + 20(5/2)$\n",
    " \n",
    " $50=50$"
   ]
  },
  {
   "cell_type": "markdown",
   "id": "3bbc3ca3",
   "metadata": {},
   "source": [
    "#### Listo! \n",
    "Ya tenemos nuestra solución"
   ]
  },
  {
   "cell_type": "code",
   "execution_count": null,
   "id": "74923208",
   "metadata": {},
   "outputs": [],
   "source": []
  },
  {
   "cell_type": "code",
   "execution_count": null,
   "id": "75aa3f67",
   "metadata": {},
   "outputs": [],
   "source": []
  }
 ],
 "metadata": {
  "kernelspec": {
   "display_name": "Python 3.9.7 ('base')",
   "language": "python",
   "name": "python3"
  },
  "language_info": {
   "codemirror_mode": {
    "name": "ipython",
    "version": 3
   },
   "file_extension": ".py",
   "mimetype": "text/x-python",
   "name": "python",
   "nbconvert_exporter": "python",
   "pygments_lexer": "ipython3",
   "version": "3.9.7"
  },
  "vscode": {
   "interpreter": {
    "hash": "12e7b2db913c7cced4d5bf71ce365c438f2053887e824f813caa9208ccef4b13"
   }
  }
 },
 "nbformat": 4,
 "nbformat_minor": 5
}
