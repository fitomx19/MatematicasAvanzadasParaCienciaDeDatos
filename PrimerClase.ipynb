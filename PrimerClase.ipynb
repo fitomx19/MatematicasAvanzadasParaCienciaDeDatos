{
 "cells": [
  {
   "cell_type": "code",
   "execution_count": 13,
   "metadata": {},
   "outputs": [],
   "source": [
    "import math\n",
    "import numpy as np"
   ]
  },
  {
   "cell_type": "code",
   "execution_count": 12,
   "metadata": {},
   "outputs": [
    {
     "name": "stdout",
     "output_type": "stream",
     "text": [
      "El numero ingresado es:  11 cm y es equivalente a:  4.330708661417323 pulgadas\n",
      "El numero ingresado es:  11 cm y es equivalente a:  4.330708661417323 pulgadas\n"
     ]
    },
    {
     "data": {
      "text/plain": [
       "4.330708661417323"
      ]
     },
     "execution_count": 12,
     "metadata": {},
     "output_type": "execute_result"
    }
   ],
   "source": [
    "x = input(\"Ingrese un numero: \")\n",
    "#print(x)\n",
    "\n",
    "#cm a pulgadas\n",
    "def funcionPro(cm):\n",
    "    Inch = int(cm)/2.54\n",
    "    print(\"El numero ingresado es: \", cm, \"cm y es equivalente a: \", Inch, \"pulgadas\")\n",
    "    return Inch\n",
    "\n",
    "printFunction = funcionPro(x)\n",
    "funcionPro(x)\n"
   ]
  },
  {
   "cell_type": "code",
   "execution_count": 16,
   "metadata": {},
   "outputs": [
    {
     "name": "stdout",
     "output_type": "stream",
     "text": [
      "[1, 2, 3, 4]\n"
     ]
    }
   ],
   "source": [
    "### estructas de datos\n",
    "\n",
    "#Listas\n",
    "A=[1,2,3,4,5]\n",
    "print(A[1:4])"
   ]
  },
  {
   "cell_type": "code",
   "execution_count": 18,
   "metadata": {},
   "outputs": [
    {
     "data": {
      "text/plain": [
       "32"
      ]
     },
     "execution_count": 18,
     "metadata": {},
     "output_type": "execute_result"
    }
   ],
   "source": [
    "C = [1,2,3]\n",
    "D = [4,5,6]\n",
    "E = np.dot(C,D)\n",
    "\n"
   ]
  }
 ],
 "metadata": {
  "kernelspec": {
   "display_name": "Python 3.9.7 ('base')",
   "language": "python",
   "name": "python3"
  },
  "language_info": {
   "codemirror_mode": {
    "name": "ipython",
    "version": 3
   },
   "file_extension": ".py",
   "mimetype": "text/x-python",
   "name": "python",
   "nbconvert_exporter": "python",
   "pygments_lexer": "ipython3",
   "version": "3.9.7"
  },
  "orig_nbformat": 4,
  "vscode": {
   "interpreter": {
    "hash": "12e7b2db913c7cced4d5bf71ce365c438f2053887e824f813caa9208ccef4b13"
   }
  }
 },
 "nbformat": 4,
 "nbformat_minor": 2
}
