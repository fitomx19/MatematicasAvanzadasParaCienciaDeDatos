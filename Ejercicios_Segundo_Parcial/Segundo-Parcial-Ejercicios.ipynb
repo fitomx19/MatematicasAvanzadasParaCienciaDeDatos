{
 "cells": [
  {
   "cell_type": "markdown",
   "metadata": {},
   "source": [
    "### Ejercicios Segundo Parcial"
   ]
  },
  {
   "cell_type": "markdown",
   "metadata": {},
   "source": [
    "Problemas; 6.1, 6.2, 6.6, 6.7, 6.10, 6.14, 6.22, 6.27, 6.29, 6.30, 6.43, 6.44,\n",
    "6.47, 6.49, 6.52, 6.53"
   ]
  },
  {
   "cell_type": "markdown",
   "metadata": {},
   "source": [
    "Considera el siguiente problema ->\n",
    "<br> \n",
    "<br>\n",
    "Maximiza \n",
    "<br>\n",
    "$-x_1 + 2x_2$\n",
    "<br>\n",
    "Sujeto a \n",
    "\n",
    "$3x_1 + 4x_2 < 12$\n",
    "<br>\n",
    "$2x_1 - x_2 > 2$\n",
    "$x_1$ , $x_2 > 0 $\n"
   ]
  },
  {
   "cell_type": "markdown",
   "metadata": {},
   "source": [
    "<p>Resolver por método gráfico -></p>\n",
    "<center><img src=\"./captura_1.jpg\" style=\"width:500px\"></center>"
   ]
  },
  {
   "cell_type": "code",
   "execution_count": 2,
   "metadata": {},
   "outputs": [
    {
     "name": "stdout",
     "output_type": "stream",
     "text": [
      "Primal:  1.4545454545454544\n"
     ]
    }
   ],
   "source": [
    "from dual_simplex import to_objective_function_value,simplex,dual_simplex_method\n",
    "c = [-1, 2, 0, 0]\n",
    "A = [\n",
    "    [3, 4, 1, 0],\n",
    "    [-2, 1, 0, 1]\n",
    "    ]\n",
    "b = [12, -2]\n",
    "\n",
    "primal = to_objective_function_value(c, simplex(c, A, b))\n",
    "print('Primal: ', primal)"
   ]
  },
  {
   "cell_type": "code",
   "execution_count": 27,
   "metadata": {},
   "outputs": [
    {
     "data": {
      "text/plain": [
       "[1.8181818181818181, 1.6363636363636362, 0, 0]"
      ]
     },
     "execution_count": 27,
     "metadata": {},
     "output_type": "execute_result"
    }
   ],
   "source": [
    "primer_resultado = simplex(c,A,b)\n",
    "primer_resultado"
   ]
  },
  {
   "cell_type": "code",
   "execution_count": 30,
   "metadata": {},
   "outputs": [
    {
     "name": "stdout",
     "output_type": "stream",
     "text": [
      "Dual:  1.0\n"
     ]
    }
   ],
   "source": [
    "ca = [12,-2,0,0]\n",
    "Aa = [\n",
    "    [3,-2, 1, 0],\n",
    "    [4,1, 0, 1]\n",
    "]\n",
    "ba = [-1,2] \n",
    "\n",
    "dualb = to_objective_function_value(c, dual_simplex_method(ca, Aa, ba))\n",
    "print('Dual: ', dualb)"
   ]
  },
  {
   "cell_type": "code",
   "execution_count": 31,
   "metadata": {},
   "outputs": [
    {
     "data": {
      "text/plain": [
       "[0, 0.5, 0, 1.5]"
      ]
     },
     "execution_count": 31,
     "metadata": {},
     "output_type": "execute_result"
    }
   ],
   "source": [
    "dual_simplex_method(ca,Aa,ba)"
   ]
  },
  {
   "cell_type": "markdown",
   "metadata": {},
   "source": [
    "Como tal en este ejercicio no fue posible pasarlo a primal dual => debido a la restriccion de 2"
   ]
  },
  {
   "cell_type": "markdown",
   "metadata": {},
   "source": [
    "<p>Ejemplo de resolver primal dual -></p>\n",
    "<center><img src=\"./captura_2.jpg\" style=\"width:500px\"></center>"
   ]
  },
  {
   "cell_type": "markdown",
   "metadata": {},
   "source": [
    "Consideral el siguiente problema\n",
    "<br>"
   ]
  },
  {
   "cell_type": "markdown",
   "metadata": {},
   "source": [
    "Minimizar\n",
    "<br>\n",
    "$2x_1 + 3x_2 + 5x_3 + 6x_4$\n",
    "Sujeto a\n",
    "<br> \n",
    "$x_1+2x_2+3x_3+x_4>2$\n",
    "<br>\n",
    "$-2x_1+2x_2-x_3+3x_4<-3$\n",
    "<br>\n",
    "$x_1,x_2,x_3,x_4>0$"
   ]
  },
  {
   "cell_type": "code",
   "execution_count": 33,
   "metadata": {},
   "outputs": [
    {
     "name": "stdout",
     "output_type": "stream",
     "text": [
      "Primal:  4.0\n"
     ]
    }
   ],
   "source": [
    "c2 = [2,3,5,6, 0, 0]\n",
    "A2 = [\n",
    "    [1,2,3,4, 1, 0],\n",
    "    [1,-1,1,-3, 0, 1]\n",
    "    ]\n",
    "b2 = [2, 3]\n",
    "\n",
    "primal2 = to_objective_function_value(c2, simplex(c2, A2, b2))\n",
    "print('Primal: ', primal2)"
   ]
  },
  {
   "cell_type": "code",
   "execution_count": 34,
   "metadata": {},
   "outputs": [
    {
     "data": {
      "text/plain": [
       "[2.0, 0, 0, 0, 0, 1.0]"
      ]
     },
     "execution_count": 34,
     "metadata": {},
     "output_type": "execute_result"
    }
   ],
   "source": [
    "simplex(c2, A2, b2)"
   ]
  },
  {
   "cell_type": "code",
   "execution_count": 35,
   "metadata": {},
   "outputs": [
    {
     "name": "stdout",
     "output_type": "stream",
     "text": [
      "Dual:  0\n"
     ]
    },
    {
     "name": "stderr",
     "output_type": "stream",
     "text": [
      "c:\\Users\\Adolfo\\OneDrive - Instituto Politecnico Nacional\\MatematicasAvanzadasCienciaDatos\\Ejercicios_Segundo_Parcial\\dual_simplex.py:46: VisibleDeprecationWarning: Creating an ndarray from ragged nested sequences (which is a list-or-tuple of lists-or-tuples-or ndarrays with different lengths or shapes) is deprecated. If you meant to do this, you must specify 'dtype=object' when creating the ndarray.\n",
      "  columns = np.array(tableau).T\n"
     ]
    }
   ],
   "source": [
    "ca = [-2-3,0,0,0,0]\n",
    "Aa = [\n",
    "    [-1-2,1,0,0,0],\n",
    "    [-2,1,0,1,0,0],\n",
    "    [-3-1,0,0,1,0],\n",
    "    [-1,3,0,0,0,1]\n",
    "]\n",
    "ba = [2,3,5,6] \n",
    "\n",
    "dualb = to_objective_function_value(c, dual_simplex_method(ca, Aa, ba))\n",
    "print('Dual: ', dualb)"
   ]
  },
  {
   "cell_type": "markdown",
   "metadata": {},
   "source": [
    "No se puede resolver geometricamente , da desbordado => continuamos al siguiente ejercicio"
   ]
  },
  {
   "cell_type": "markdown",
   "metadata": {},
   "source": [
    "6.6 Considera el siguiente problema\n",
    "\n",
    "$10x_1 + 24x_2 + 20x_3 +20x_4 +25x_5 $\n",
    "<br>\n",
    "$x_1 + x_2 + 2x_3 + 3x_4 + 5x_5 < 19$\n",
    "<br>\n",
    "$2x_1 + 4x_2 + 3x_3 + 2x_4 + x_5 < 57$\n",
    "<br>\n",
    "$x_1,x_2,x_3,x_4,x_5 > 0$"
   ]
  },
  {
   "cell_type": "markdown",
   "metadata": {
    "notebookRunGroups": {
     "groupValue": "2"
    }
   },
   "source": [
    "a) Escribe el problema dual y verifica que ($w_1$ , $w_2$ ) = (4,5) es una solucion feasible.\n"
   ]
  },
  {
   "cell_type": "markdown",
   "metadata": {},
   "source": [
    "-------------------------------------"
   ]
  },
  {
   "cell_type": "markdown",
   "metadata": {},
   "source": [
    "Minimizar \n",
    "\n",
    "$19w_1 + 57w_2$\n",
    "<br>\n",
    "$w_1 + 2w_2 > 10$\n",
    "<br>\n",
    "$w_1 +4w_2 > 24$\n",
    "<br>\n",
    "$2w_1 + 3w_2 > 20$\n",
    "<br>\n",
    "$3w_1 + 2w_2 > 20$\n",
    "<br>\n",
    "$5w_1 + w_2 > 25$\n",
    "<br>\n",
    "$w_1,w_2,>0$"
   ]
  },
  {
   "cell_type": "markdown",
   "metadata": {},
   "source": [
    "4 + 2(5) = 14>10 ---> satisface la restriccion\n",
    "<br>\n",
    "4 + 4(5) = 24>24 ---> satisface la restriccion\n",
    "<br>\n",
    "2(4) + 3(5) = 23 > 20 ---> satisface la restriccion\n",
    "<br>\n",
    "3(4) + 2(5) = 22 > 20 ---> satisface la restriccion\n",
    "<br>\n",
    "5(4) + 5 = 25 > 25 \n",
    "<br>\n",
    "por lo tanto ( $w_1$ , $w_2$ ) = (4,5) es feasible para el dual"
   ]
  },
  {
   "cell_type": "markdown",
   "metadata": {},
   "source": [
    "b) Usa la informacion en parte (a) para derivar una solucion optima para ambas , primal y dual "
   ]
  },
  {
   "cell_type": "code",
   "execution_count": 17,
   "metadata": {},
   "outputs": [
    {
     "name": "stdout",
     "output_type": "stream",
     "text": [
      "Primal:  361.0\n"
     ]
    }
   ],
   "source": [
    "c3 = [10,24,20,20,25,0,0]\n",
    "A3 = [\n",
    "    [1,1,2,3,5,1,0],\n",
    "    [2,4,3,2,1,0,1]\n",
    "    ]\n",
    "b3 = [19, 57]\n",
    "\n",
    "primal3 = to_objective_function_value(c3, simplex(c3, A3, b3))\n",
    "print('Primal: ', primal3)"
   ]
  },
  {
   "cell_type": "markdown",
   "metadata": {},
   "source": [
    "cambiar a negativos las restricciones debido a que cambia a funcion maximizar -> minimizar"
   ]
  },
  {
   "cell_type": "code",
   "execution_count": 12,
   "metadata": {},
   "outputs": [
    {
     "name": "stdout",
     "output_type": "stream",
     "text": [
      "Dual:  361.0\n"
     ]
    }
   ],
   "source": [
    "ca = [19,57,0,0,0,0,0]\n",
    "Aa = [\n",
    "    [-1,-2,1,0,0,0,0],\n",
    "    [-1,-4,0,1,0,0,0],\n",
    "    [-2,-3,0,0,1,0,0],\n",
    "    [-3,-2,0,0,0,1,0],\n",
    "    [-5,-1,0,0,0,0,1]   \n",
    "]\n",
    "ba = [-10,-24,-20,-20,-25]\n",
    "\n",
    "dualb = to_objective_function_value(ca, dual_simplex_method(ca, Aa, ba))\n",
    "print('Dual: ', dualb)"
   ]
  },
  {
   "cell_type": "markdown",
   "metadata": {},
   "source": [
    "6.7 .- Considera el siguiente problema de programacion lineal"
   ]
  },
  {
   "cell_type": "markdown",
   "metadata": {},
   "source": [
    "P Minimizar $6X_1 + 2X_2$\n",
    "<br>\n",
    "Sujeto a:\n",
    "<br>\n",
    "$X_1 + 2X_2 > 3$\n",
    "<br>\n",
    "$x_2>0$\n",
    "<br>\n",
    "$x_1$ sin restricciones "
   ]
  },
  {
   "cell_type": "markdown",
   "metadata": {},
   "source": [
    "Para minimizar\n",
    "<br>\n",
    "P = $6x_1 + 2x_2$\n",
    "<br>\n",
    "Asumimos un plano de 2D  de x1 y x2 to plot linear inequalities and get the common solution."
   ]
  },
  {
   "cell_type": "markdown",
   "metadata": {},
   "source": [
    "Sujetos a las restricciones que son:\n",
    "<br>\n",
    "$x_1 + 2x_2 > 3$ (1)\n",
    "<br>\n",
    "$x_2 > 0$ (2)\n",
    "<br>\n",
    "A(3,0)\n",
    "<br>\n",
    "B(0,1.5)\n",
    "<br>\n",
    "P = 6(3) + 0 \n",
    "<br>\n",
    "P = 18\n",
    "<br>\n",
    "P = 6(0) + 2(1.5)\n",
    "<br>\n",
    "P = 3\n",
    "<br>\n",
    "P es minimo en el punto B cuando $x_1 = 0$ , $x_2 = 1.5$\n",
    "<br>\n",
    "Dada el problmea lineal para minimizar p sujeto a las constantes son consistentes de dos variables $x_!$ y $x_2$ asi que asumimos un plano 2D con ejes x1 y x2 , dado a ciertos problema.\n",
    "\n",
    "-------------------\n"
   ]
  },
  {
   "cell_type": "markdown",
   "metadata": {},
   "source": [
    "6.10 \n",
    "Consider the problem: Minimize ex subject to Ax =b, x > 0 where m = n , c = b' and A = A'. Show that if there exists an X0 such that Ax0 = b, then X0 is an optimal point. (Hint. Use duality.)"
   ]
  },
  {
   "cell_type": "markdown",
   "metadata": {},
   "source": [
    "Sujeto a\n",
    "<br>\n",
    "Ax = b, x > 0\n",
    "<br>\n",
    "Donde m=n,c = b', A = A'\n",
    "<br>\n",
    "\n",
    "Desde la minimizacion necesitamos convertir a la forma estandar para obtener su dual\n",
    "<br>\n",
    "maximizar - c´x\n",
    "<br>\n",
    "Dado que Ax = b, x > 0\n",
    "<br>\n",
    "A si que su dual esta dado\n",
    "<br>\n",
    "Minimizado\n",
    "<br>\n",
    "Sujeto a A'y = c', y > 0\n",
    "<br>\n",
    "Desde que nos dieron c=b', A = A'\n",
    "<br>\n",
    "A si que dual se convierte en\n",
    "<br>\n",
    "minimizar cy\n",
    "<br>\n",
    "Sujeto a Ay = b, y>O\n",
    "<br>\n",
    "Clearly constraints of primal and dual are same so we can replace y by x in the dual so dual becomes\n",
    "<br>\n",
    "minimize cx\n",
    "<br>\n",
    "Subject to Ax = b, x>0\n",
    "<br>\n",
    "Now it was given that there exists  such that Axo = b,X>0 clearly  satisfies condition of fesibility so  is feasible solution of the primal.\n",
    "<br>\n",
    "Clearly this also satisfies constraints of the dual problem so  is also a feasible solution to the dual.\n",
    "<br>\n",
    "Now using theorem of duality\n",
    "<br>\n",
    "If x and y are feasible solutions of the primal and dual and cx = by, then x and y must be optimal solutions to the primal and dual\n",
    "<br>\n",
    "And we have c=b given\n",
    "<br>\n",
    "So CXo = bxo\n",
    "<br>\n",
    "Hence must be optimal solution to the primal and dual.\n",
    "\n",
    "--------------------------"
   ]
  },
  {
   "cell_type": "markdown",
   "metadata": {},
   "source": [
    "6.14\n",
    "The Sewel Manufacturing Company produces two types of reclining chairs\n",
    "for sale in the Northeast. Two basic types of skilled labor are involved\n",
    "—assembly and finishing. One unit of the top-of-the-line recliner requires\n",
    "f hours of assembly, 1 hour of finishing, and sells for a profit of $20. A\n",
    "unit of the second-line recliner requires 1/2 hour of assembly, 1\\2 hour of\n",
    "finishing, and sells for a profit of $12. Presently there are 100 assembly\n",
    "hours and 80 finishing hours available to the company. The company is\n",
    "involved in labor negotiations concerning salary modifications for the\n",
    "coming year. You are asked to provide the company with indications of the\n",
    "worth of an hour of assembly worker's time and an hour of finishing\n",
    "worker's time."
   ]
  },
  {
   "cell_type": "markdown",
   "metadata": {},
   "source": [
    "Considera el numero de el tope de la linea reclinada sera x y la segunda linea reclinada sera y\n",
    "<br>\n",
    "Una unidad de el tope de la line del reclinado toma 2 horas en ensamblar y una hora en terminar. La ganancia en venderlo es de 20\n",
    "<br>\n",
    "El numero total de ensambaje es de 100 y 80 horas eso implica que $3/2x + 1y < 100 $ y $ 1/2x + 1/2y < 80 $"
   ]
  },
  {
   "cell_type": "markdown",
   "metadata": {},
   "source": [
    "La ganancia esta dada por = $f(x,y)$ = $ 20x + 12y $"
   ]
  },
  {
   "cell_type": "markdown",
   "metadata": {},
   "source": [
    "<p>Ejemplo de resolver primal dual -></p>\n",
    "<center><img src=\"./captura_3.jpg\" style=\"width:500px\"></center>"
   ]
  },
  {
   "cell_type": "markdown",
   "metadata": {},
   "source": [
    "20(66.67)+12(0)=1333.33"
   ]
  },
  {
   "cell_type": "markdown",
   "metadata": {},
   "source": [
    "Observamos que solo necesitamos la primer linea de produccion , la segunda es innecesaria y mas cara\n",
    "<br>\n",
    "Utilizando una regla de 3, sabemos que  3/2 = 1333.33 entonces:\n",
    "<BR>\n",
    "1 hora de trabajo de ensabmbador esta dada por 888.886666667/100 = 8.88 dolares\n",
    "<br>\n",
    "1 hora de acabados de trabajador esta dado por 888.886666667/80 = 11 dolares\n",
    "\n",
    "------------------\n"
   ]
  },
  {
   "cell_type": "markdown",
   "metadata": {},
   "source": [
    "6.22 \n",
    "Two players are involved in a competitive game. One player, called the row\n",
    "player, has two strategies available; the other player, called the column\n",
    "player, has three strategies available. If the row player selects strategy /' and\n",
    "the column player selects strategy y, the payoff to the row player is c^ and\n",
    "the payoff to the column player is —\n",
    "Cy. Thus the column player loses what\n",
    "the row player wins and vice versa—a two-person zero-sum game. The\n",
    "following matrix gives the payoffs to the row player."
   ]
  },
  {
   "cell_type": "markdown",
   "metadata": {},
   "source": [
    "La neta esta se las debo , esta bien largota :cccccccc "
   ]
  },
  {
   "cell_type": "markdown",
   "metadata": {},
   "source": [
    "6.27 Solve the following problem by the dual simplex method.\n",
    "<br>\n",
    "Maximize $—4x_1, —6x_2 —18x_3$\n",
    "<br>\n",
    "Subject to \n",
    "<br>\n",
    "$x_1 + 3x_3 >3$\n",
    "<br>\n",
    "$x_2 + 2x_3 > 4 $\n",
    "<br>\n",
    "$x_1, x_2,x_3 > 0$\n",
    "<br>\n",
    "Give the optimal values of all the primal and dual variables. Demonstrate\n",
    "that complementary slackness holds.\n",
    "\n",
    "--------\n"
   ]
  },
  {
   "cell_type": "markdown",
   "metadata": {},
   "source": [
    "Hay que esperar que me la contesten los dudes de la india"
   ]
  },
  {
   "cell_type": "markdown",
   "metadata": {},
   "source": [
    "6.29 Solve the following linear program by the dual simplex method."
   ]
  },
  {
   "cell_type": "markdown",
   "metadata": {},
   "source": [
    "$2x_1 + 3x_2 + 5x_3 + 6x_4$\n",
    "<br>\n",
    "Sujeto a \n",
    "<br>\n",
    "$x_1 + 2x_2 + 3x_3 + x_4 > 2$\n",
    "<br>\n",
    "$-2x_1 + x_2 -x_3 + 3x_4 > -3$\n",
    "<br>\n",
    "$x_1 , x_2 , x_3 , x_4 > 0$"
   ]
  },
  {
   "cell_type": "code",
   "execution_count": 30,
   "metadata": {},
   "outputs": [
    {
     "name": "stdout",
     "output_type": "stream",
     "text": [
      "Primal:  12.0\n"
     ]
    }
   ],
   "source": [
    "c3 = [2,3,5,6,0,0]\n",
    "A3 = [\n",
    "    [1,2,3,1,1,0],\n",
    "    [2,-1,1,-3,0,1]\n",
    "    ]\n",
    "b3 = [2,3]\n",
    "\n",
    "primal3 = to_objective_function_value(c3, simplex(c3, A3, b3))\n",
    "print('Primal: ', primal3)"
   ]
  },
  {
   "cell_type": "code",
   "execution_count": 22,
   "metadata": {},
   "outputs": [
    {
     "data": {
      "text/plain": [
       "[1.8, 0, 0, 0.2, 0, 0]"
      ]
     },
     "execution_count": 22,
     "metadata": {},
     "output_type": "execute_result"
    }
   ],
   "source": [
    "simplex(c3, A3, b3)"
   ]
  },
  {
   "cell_type": "code",
   "execution_count": 31,
   "metadata": {},
   "outputs": [
    {
     "name": "stdout",
     "output_type": "stream",
     "text": [
      "Dual:  12.0\n"
     ]
    }
   ],
   "source": [
    "ca = [2,-3,0,0,0,0]\n",
    "Aa = [\n",
    "    [-1,2,1,0,0,0],\n",
    "    [-2,-1,0,1,0,0],\n",
    "    [-3,1,0,0,1,0],\n",
    "    [-1,-3,0,0,0,1]\n",
    "]\n",
    "ba = [-2,-3,-5,-6]\n",
    "\n",
    "dualb = to_objective_function_value(ca, dual_simplex_method(ca, Aa, ba))\n",
    "print('Dual: ', dualb)"
   ]
  },
  {
   "cell_type": "code",
   "execution_count": 32,
   "metadata": {},
   "outputs": [
    {
     "data": {
      "text/plain": [
       "[6.0, 0, 4.0, 9.0, 13.0, 0]"
      ]
     },
     "execution_count": 32,
     "metadata": {},
     "output_type": "execute_result"
    }
   ],
   "source": [
    "dual_simplex_method(ca, Aa, ba)"
   ]
  },
  {
   "cell_type": "markdown",
   "metadata": {},
   "source": [
    "6.30 Consider the following problem.\n",
    "<br>\n",
    "Minimize \n",
    "<br>\n",
    "$3x_1+5x_2 - x_3 + 2x_4 - 4x_5$\n",
    "<br>\n",
    "Sujeto a \n",
    "<br>\n",
    "$x_1 + x_2 + x_3 + 3x_4 + x_5 < 6$\n",
    "<br>\n",
    "$-x_1 - x_2 + 2x_3 + x_4 - x_5 > 3$\n",
    "<br>\n",
    "$x_1,x_2,x_3,x_4,x_5>0$"
   ]
  },
  {
   "cell_type": "code",
   "execution_count": 36,
   "metadata": {},
   "outputs": [
    {
     "name": "stdout",
     "output_type": "stream",
     "text": [
      "Primal:  12.0\n"
     ]
    }
   ],
   "source": [
    "c3 = [3,5,-1,2,-4,0,0]\n",
    "A3 = [\n",
    "    [1,1,1,3,1,1,0],\n",
    "    [1,1,-2,-1,1,0,1]\n",
    "    ]\n",
    "b3 = [6,-3]\n",
    "\n",
    "primal3 = to_objective_function_value(c3, simplex(c3, A3, b3))\n",
    "print('Primal: ', primal3)"
   ]
  },
  {
   "cell_type": "code",
   "execution_count": 35,
   "metadata": {},
   "outputs": [
    {
     "data": {
      "text/plain": [
       "[0, 5.0, 1.0, 0, 0, 0, 0]"
      ]
     },
     "execution_count": 35,
     "metadata": {},
     "output_type": "execute_result"
    }
   ],
   "source": [
    "simplex(c3, A3, b3)"
   ]
  },
  {
   "cell_type": "code",
   "execution_count": 45,
   "metadata": {},
   "outputs": [
    {
     "name": "stdout",
     "output_type": "stream",
     "text": [
      "Dual:  30.0\n"
     ]
    }
   ],
   "source": [
    "ca = [6,-3,0,0,0,0,0]\n",
    "Aa = [\n",
    "     [-1,-1,1,0,0,0,0],\n",
    "     [-1,-1,0,1,0,0,0],\n",
    "     [-1,2,0,0,1,0,0],\n",
    "     [-3,1,0,0,0,1,0],\n",
    "     [-1,-1,0,0,0,0,1]\n",
    "     ]\n",
    "ba = [-3,-5,1,-2,4]\n",
    "\n",
    "dualb = to_objective_function_value(ca, dual_simplex_method(ca, Aa, ba))\n",
    "print('Dual: ', dualb)"
   ]
  },
  {
   "cell_type": "markdown",
   "metadata": {},
   "source": [
    "6.43)\n",
    "\n",
    "Apply the primal-dual method to the following problem.\n",
    "\n",
    "Minimize $ 9x_1,-7x_2-4x_3-2x_4-6x_5 - 10x_6$\n",
    "\n",
    "\n",
    "Sujeto a \n",
    "\n",
    "$x_4 + x_5 + x_6 = 8$\n",
    "\n",
    "$x_1 + x_4 = 6$\n",
    "\n",
    "$x_2 + x_5 = 4$\n",
    "\n",
    "$x_3 + x_6 = 3$\n",
    "\n",
    "$x_1,x_2,x_3,x_4,x_5,x_6 > 0$\n"
   ]
  },
  {
   "cell_type": "code",
   "execution_count": 3,
   "metadata": {},
   "outputs": [
    {
     "name": "stdout",
     "output_type": "stream",
     "text": [
      "Primal:  54.0\n"
     ]
    }
   ],
   "source": [
    "c3 = [9,-7,-4,-2,-6,-10,0,0,0,0,0]\n",
    "A3 = [\n",
    "    [0,0,0,1,1,1,1,0,0,0,0],\n",
    "    [0,0,0,1,1,1,0,1,0,0,0],\n",
    "    [1,0,0,1,0,0,0,0,1,0,0],\n",
    "    [0,1,0,0,1,0,0,0,0,1,0],\n",
    "    [0,0,1,0,0,1,0,0,0,0,1]\n",
    "    ]\n",
    "b3 = [8,5,6,4,3]\n",
    "\n",
    "primal3 = to_objective_function_value(c3, simplex(c3, A3, b3))\n",
    "print('Primal: ', primal3)"
   ]
  },
  {
   "cell_type": "code",
   "execution_count": 6,
   "metadata": {},
   "outputs": [
    {
     "name": "stdout",
     "output_type": "stream",
     "text": [
      "Dual:  94.0\n"
     ]
    }
   ],
   "source": [
    "ca = [8,5,6,4,3,0,0,0,0,0]\n",
    "\n",
    "Aa = [\n",
    "     [-1,0,0,0,0,1,0,0,0,0],\n",
    "     [-1,0,0,-1,0,0,1,0,0,0],\n",
    "     [-1,0,0,0,-1,0,0,1,0,0],\n",
    "     [0,-1,-1,0,0,0,0,0,1,0],\n",
    "     [0,-1,0,0,-1,-1,0,0,0,1]\n",
    "     ]\n",
    "\n",
    "ba = [-9,-7,-4,-2,-6,-10]\n",
    "\n",
    "dualb = to_objective_function_value(ca, dual_simplex_method(ca, Aa, ba))\n",
    "print('Dual: ', dualb)"
   ]
  },
  {
   "cell_type": "markdown",
   "metadata": {},
   "source": [
    "6.44 Resuelve el siguiente problema por el algoritmo primal dual\n",
    "\n",
    "Minimizar\n",
    "$x_1 + 2x_3 - x_4$\n",
    "\n",
    "$x_1 + x_2 + x_3 + x_4 <6$\n",
    "\n",
    "$2x_1 - x_2 + 3x_3 - 3x_4 > 5$\n",
    "\n",
    "$x_1,x_2,x_3,x_4 > 0 $\n"
   ]
  },
  {
   "cell_type": "markdown",
   "metadata": {},
   "source": [
    "Multiplicamos por menos uno para empezar a trabajarlo"
   ]
  },
  {
   "cell_type": "markdown",
   "metadata": {},
   "source": [
    "Minimizar\n",
    "\n",
    "\n",
    "$x_1 + 2x_3 - x_4$\n",
    "\n",
    "$-x_1 + -x_2 + -x_3 + -x_4 > -6$\n",
    "\n",
    "$2x_1 - x_2 + 3x_3 - 3x_4 > 5$\n",
    "\n",
    "$x_1,x_2,x_3,x_4 > 0 $"
   ]
  },
  {
   "cell_type": "code",
   "execution_count": 10,
   "metadata": {},
   "outputs": [
    {
     "ename": "Exception",
     "evalue": "Linear program is unbounded.",
     "output_type": "error",
     "traceback": [
      "\u001b[1;31m---------------------------------------------------------------------------\u001b[0m",
      "\u001b[1;31mException\u001b[0m                                 Traceback (most recent call last)",
      "\u001b[1;32mc:\\Users\\Adolfo\\OneDrive - Instituto Politecnico Nacional\\MatematicasAvanzadasCienciaDatos\\Ejercicios_Segundo_Parcial\\Segundo-Parcial-Ejercicios.ipynb Celda 58\u001b[0m in \u001b[0;36m<cell line: 8>\u001b[1;34m()\u001b[0m\n\u001b[0;32m      <a href='vscode-notebook-cell:/c%3A/Users/Adolfo/OneDrive%20-%20Instituto%20Politecnico%20Nacional/MatematicasAvanzadasCienciaDatos/Ejercicios_Segundo_Parcial/Segundo-Parcial-Ejercicios.ipynb#Y154sZmlsZQ%3D%3D?line=1'>2</a>\u001b[0m A3 \u001b[39m=\u001b[39m [\n\u001b[0;32m      <a href='vscode-notebook-cell:/c%3A/Users/Adolfo/OneDrive%20-%20Instituto%20Politecnico%20Nacional/MatematicasAvanzadasCienciaDatos/Ejercicios_Segundo_Parcial/Segundo-Parcial-Ejercicios.ipynb#Y154sZmlsZQ%3D%3D?line=2'>3</a>\u001b[0m     [\u001b[39m-\u001b[39m\u001b[39m1\u001b[39m,\u001b[39m-\u001b[39m\u001b[39m1\u001b[39m,\u001b[39m-\u001b[39m\u001b[39m1\u001b[39m,\u001b[39m-\u001b[39m\u001b[39m1\u001b[39m,\u001b[39m1\u001b[39m,\u001b[39m0\u001b[39m],\n\u001b[0;32m      <a href='vscode-notebook-cell:/c%3A/Users/Adolfo/OneDrive%20-%20Instituto%20Politecnico%20Nacional/MatematicasAvanzadasCienciaDatos/Ejercicios_Segundo_Parcial/Segundo-Parcial-Ejercicios.ipynb#Y154sZmlsZQ%3D%3D?line=3'>4</a>\u001b[0m     [\u001b[39m2\u001b[39m,\u001b[39m-\u001b[39m\u001b[39m1\u001b[39m,\u001b[39m3\u001b[39m,\u001b[39m-\u001b[39m\u001b[39m3\u001b[39m,\u001b[39m0\u001b[39m,\u001b[39m1\u001b[39m]\n\u001b[0;32m      <a href='vscode-notebook-cell:/c%3A/Users/Adolfo/OneDrive%20-%20Instituto%20Politecnico%20Nacional/MatematicasAvanzadasCienciaDatos/Ejercicios_Segundo_Parcial/Segundo-Parcial-Ejercicios.ipynb#Y154sZmlsZQ%3D%3D?line=4'>5</a>\u001b[0m     ]\n\u001b[0;32m      <a href='vscode-notebook-cell:/c%3A/Users/Adolfo/OneDrive%20-%20Instituto%20Politecnico%20Nacional/MatematicasAvanzadasCienciaDatos/Ejercicios_Segundo_Parcial/Segundo-Parcial-Ejercicios.ipynb#Y154sZmlsZQ%3D%3D?line=5'>6</a>\u001b[0m b3 \u001b[39m=\u001b[39m [\u001b[39m-\u001b[39m\u001b[39m6\u001b[39m,\u001b[39m5\u001b[39m]\n\u001b[1;32m----> <a href='vscode-notebook-cell:/c%3A/Users/Adolfo/OneDrive%20-%20Instituto%20Politecnico%20Nacional/MatematicasAvanzadasCienciaDatos/Ejercicios_Segundo_Parcial/Segundo-Parcial-Ejercicios.ipynb#Y154sZmlsZQ%3D%3D?line=7'>8</a>\u001b[0m primal3 \u001b[39m=\u001b[39m to_objective_function_value(c3, simplex(c3, A3, b3))\n\u001b[0;32m      <a href='vscode-notebook-cell:/c%3A/Users/Adolfo/OneDrive%20-%20Instituto%20Politecnico%20Nacional/MatematicasAvanzadasCienciaDatos/Ejercicios_Segundo_Parcial/Segundo-Parcial-Ejercicios.ipynb#Y154sZmlsZQ%3D%3D?line=8'>9</a>\u001b[0m \u001b[39mprint\u001b[39m(\u001b[39m'\u001b[39m\u001b[39mPrimal: \u001b[39m\u001b[39m'\u001b[39m, primal3)\n",
      "File \u001b[1;32mc:\\Users\\Adolfo\\OneDrive - Instituto Politecnico Nacional\\MatematicasAvanzadasCienciaDatos\\Ejercicios_Segundo_Parcial\\dual_simplex.py:62\u001b[0m, in \u001b[0;36msimplex\u001b[1;34m(c, A, b)\u001b[0m\n\u001b[0;32m     59\u001b[0m tableau \u001b[39m=\u001b[39m to_tableau(c, A, b)\n\u001b[0;32m     61\u001b[0m \u001b[39mwhile\u001b[39;00m can_be_improved(tableau):\n\u001b[1;32m---> 62\u001b[0m     pivot_position \u001b[39m=\u001b[39m get_pivot_position(tableau)\n\u001b[0;32m     63\u001b[0m     tableau \u001b[39m=\u001b[39m pivot_step(tableau, pivot_position)\n\u001b[0;32m     65\u001b[0m \u001b[39mreturn\u001b[39;00m get_solution(tableau)\n",
      "File \u001b[1;32mc:\\Users\\Adolfo\\OneDrive - Instituto Politecnico Nacional\\MatematicasAvanzadasCienciaDatos\\Ejercicios_Segundo_Parcial\\dual_simplex.py:19\u001b[0m, in \u001b[0;36mget_pivot_position\u001b[1;34m(tableau)\u001b[0m\n\u001b[0;32m     16\u001b[0m     restrictions\u001b[39m.\u001b[39mappend(math\u001b[39m.\u001b[39minf \u001b[39mif\u001b[39;00m el \u001b[39m<\u001b[39m\u001b[39m=\u001b[39m \u001b[39m0\u001b[39m \u001b[39melse\u001b[39;00m eq[\u001b[39m-\u001b[39m\u001b[39m1\u001b[39m] \u001b[39m/\u001b[39m el)\n\u001b[0;32m     18\u001b[0m \u001b[39mif\u001b[39;00m (\u001b[39mall\u001b[39m([r \u001b[39m==\u001b[39m math\u001b[39m.\u001b[39minf \u001b[39mfor\u001b[39;00m r \u001b[39min\u001b[39;00m restrictions])):\n\u001b[1;32m---> 19\u001b[0m     \u001b[39mraise\u001b[39;00m \u001b[39mException\u001b[39;00m(\u001b[39m\"\u001b[39m\u001b[39mLinear program is unbounded.\u001b[39m\u001b[39m\"\u001b[39m)\n\u001b[0;32m     21\u001b[0m row \u001b[39m=\u001b[39m restrictions\u001b[39m.\u001b[39mindex(\u001b[39mmin\u001b[39m(restrictions))\n\u001b[0;32m     22\u001b[0m \u001b[39mreturn\u001b[39;00m row, column\n",
      "\u001b[1;31mException\u001b[0m: Linear program is unbounded."
     ]
    }
   ],
   "source": [
    "c3 = [1,0,2,1,0,0]\n",
    "A3 = [\n",
    "    [-1,-1,-1,-1,1,0],\n",
    "    [2,-1,3,-3,0,1]\n",
    "    ]\n",
    "b3 = [-6,5]\n",
    "\n",
    "primal3 = to_objective_function_value(c3, simplex(c3, A3, b3))\n",
    "print('Primal: ', primal3)"
   ]
  },
  {
   "cell_type": "markdown",
   "metadata": {},
   "source": [
    "La forma dual esta dada por : "
   ]
  },
  {
   "cell_type": "markdown",
   "metadata": {},
   "source": [
    "Maximizar\n",
    "\n",
    "$-6y_1 + 5y_2$\n",
    "\n",
    "$-y_1 + 2y_1 < 1$\n",
    "\n",
    "$-y_1 - y_2 < 0$\n",
    "\n",
    "$-y_1 + 3y_3 < 2$\n",
    "\n",
    "$-y_1 - y_2 < -1$\n",
    "\n",
    "$$\n"
   ]
  },
  {
   "cell_type": "code",
   "execution_count": 7,
   "metadata": {},
   "outputs": [
    {
     "name": "stdout",
     "output_type": "stream",
     "text": [
      "Dual:  1.333333333333334\n"
     ]
    }
   ],
   "source": [
    "ca = [-6,5,0,0,0,0]\n",
    "\n",
    "Aa = [\n",
    "     [-1,2,1,0,0,0],\n",
    "     [-1,-1,0,1,0,0],\n",
    "     [-1,-3,0,0,1,0],\n",
    "     [-1,-1,0,0,0,1]\n",
    "     ]\n",
    "\n",
    "ba = [1,0,2,-1]\n",
    "\n",
    "dualb = to_objective_function_value(ca, dual_simplex_method(ca, Aa, ba))\n",
    "print('Dual: ', dualb)"
   ]
  },
  {
   "cell_type": "markdown",
   "metadata": {},
   "source": [
    "6.47 \n",
    "\n",
    "<img src=\"./flojera.jpg\" style=\"width:800px\">"
   ]
  },
  {
   "cell_type": "markdown",
   "metadata": {},
   "source": [
    "Recuerda que todas las >= restricciones pueden ser convertidas a >= multilpicando ambos lados por (-1) \n",
    "\n",
    "desde la primera, y tercer restriccion las restricciones $y_1 , y_3$ no seran restringidas en signo\n",
    "\n",
    "por lo tanto =>\n",
    "\n",
    "Minimizar zy =  $ 27y_1 -2y_2 + 16y_3$\n",
    "\n",
    "<img src=\"./flojera2.jpg\" style=\"width:800px\">"
   ]
  },
  {
   "cell_type": "code",
   "execution_count": 19,
   "metadata": {},
   "outputs": [
    {
     "name": "stdout",
     "output_type": "stream",
     "text": [
      "Dual:  41.333333333333336\n"
     ]
    }
   ],
   "source": [
    "ca = [27,-2,16,0,0,0,0,0]\n",
    "\n",
    "Aa = [\n",
    "     [-3,-1,-9,1,0,0,0,0],\n",
    "     [-5,-2,-4,0,1,0,0,0],\n",
    "     [-6,-3,-2,0,0,1,0,0],\n",
    "     [-2,-7,-5,0,0,0,1,0],\n",
    "     [-4,-6,-2,0,0,0,0,1],\n",
    "     ]\n",
    "\n",
    "ba = [-7,-2,-1,-4,-6]\n",
    "\n",
    "dualb = to_objective_function_value(ca, dual_simplex_method(ca, Aa, ba))\n",
    "print('Dual: ', dualb)"
   ]
  },
  {
   "cell_type": "code",
   "execution_count": 20,
   "metadata": {},
   "outputs": [
    {
     "data": {
      "text/plain": [
       "[1.3333333333333333,\n",
       " 0,\n",
       " 0.33333333333333337,\n",
       " 0,\n",
       " 6.0,\n",
       " 7.666666666666666,\n",
       " 0.3333333333333335,\n",
       " 0]"
      ]
     },
     "execution_count": 20,
     "metadata": {},
     "output_type": "execute_result"
    }
   ],
   "source": [
    "dual_simplex_method(ca, Aa, ba)"
   ]
  },
  {
   "cell_type": "markdown",
   "metadata": {},
   "source": [
    "6.49)\n",
    "\n",
    "<img src=\"./tiempo.jpg\" style=\"width:500px\">"
   ]
  },
  {
   "cell_type": "markdown",
   "metadata": {},
   "source": [
    "<img src=\"./viento.png\" style=\"width:800px\">"
   ]
  },
  {
   "cell_type": "markdown",
   "metadata": {},
   "source": [
    "6.52 Un granjero tiene una superficie de plantio de 500 acres y desea optimizarlos ,  the acreage allocated to the following three crops ; wheat , corn , and soybeans. The man-days , preparation cost y ganancia por acre de los tres plantios  son resumidos a continuacion"
   ]
  },
  {
   "cell_type": "markdown",
   "metadata": {},
   "source": [
    "| Crop        | Man-Days    |Preparation Cost |   Profit          |\n",
    "| ----------- | ----------- | -----------    | ----------- |\n",
    "| Wheat      | 6       |    100            |        60     |\n",
    "| Corn   | 8        |          150      |          100   |\n",
    "| SoyBeans  |10  | 120  |80"
   ]
  },
  {
   "cell_type": "markdown",
   "metadata": {},
   "source": [
    "Suponga que el maximo numero de dias de trabajo de personas dispoinible son 5000 y el granjero tiene $60,000 de preparaciion"
   ]
  },
  {
   "cell_type": "markdown",
   "metadata": {},
   "source": [
    "a) Encuentre la solucion optima\n",
    "<br>\n",
    "b) Asuma que  una jornada de trabajo de 8 horas , va a ser beneficioso al granjero obteniendo una ayuda adicional de $3  por hora ¿porque o porque no?\n",
    "<br>"
   ]
  },
  {
   "cell_type": "markdown",
   "metadata": {},
   "source": [
    "| Crop        |Variables| Man-Days    |Preparation Cost |   Profit    |\n",
    "| ----------- |---------| ----------- | -----------     | ----------- |\n",
    "| Wheat       |         | 6           | 100             | 60          |\n",
    "| Corn        |         | 8           | 150             | 100         |\n",
    "| SoyBeans    |         |10           | 120             | 80          |\n",
    "| Limit      |         |             | 5000            | 60000       |"
   ]
  },
  {
   "cell_type": "markdown",
   "metadata": {},
   "source": [
    "Programa Lineal:\n",
    "<br>\n",
    "Maximizar $Z$ = $150x_1$ + $80x_2$ + $60x_3$\n",
    "<br>\n",
    "Sujeto  a:\n",
    "<br>\n",
    "$6x_1 + 8x_2 + 10x_3 <= 5,000$\n",
    "<br>\n",
    "$100x_1 + 120x_2 + 100x_3 <= 60,000$\n",
    "<br>\n",
    "$x1, x2, x3 >= 0$"
   ]
  },
  {
   "cell_type": "markdown",
   "metadata": {},
   "source": [
    "Solucion Optima : $x_1 = 200, x_2 = 2,500, x_3 = 2,300$"
   ]
  },
  {
   "cell_type": "markdown",
   "metadata": {},
   "source": [
    "Tabla optima:\n",
    "\n",
    "|$Z$   |  150 | 80 | 60  |  0    |\n",
    "|------|----- |----|-----|-----  |\n",
    "|$x_1$ |  6   |  8 |  10 |  5,000|\n",
    "|$x_2$ |  100| 120| 100  |  60,000|\n",
    "|$x_3$ |  0  | 0 |  0   |  2,300|\n"
   ]
  },
  {
   "cell_type": "markdown",
   "metadata": {},
   "source": [
    "\n",
    "b) No , no seria rentable para el granjero obtener ayuda adicional por $3 la hora. La solucion optima indica que el granjero debe colocar todos los recursos disponibles al trigo y al maiz, en orden para maximizar la ganancia"
   ]
  },
  {
   "cell_type": "markdown",
   "metadata": {},
   "source": [
    "Analisis de Sensibilidad:\n",
    "\n",
    "\n",
    "Si el granjero ha contratado para entregar al menos lo equivalente de 100 acres de trigo , la nueva solicion optima sera: \n",
    "\n",
    "$x_1 = 200, x_2 = 2,500, x_3 = 3,000$\n",
    "\n",
    "Tabla Optima\n",
    "\n",
    "\n",
    "|Z  |  150 | 80 | 60  |  0|\n",
    "|----|-----|-----|----|----|\n",
    "|x1 |  6 |  8  | 10  |  5,000|\n",
    "|x2 |  100 |120| 100  |  60,000|\n",
    "|x3 |  0 |  0  | 0   |  3,000|"
   ]
  },
  {
   "cell_type": "markdown",
   "metadata": {},
   "source": [
    "The optimal solution indicates that the farmer would need to use more resources to grow wheat, and should allocate additional resources to wheat, instead of corn.\n",
    "explain\n",
    "The optimal solution indicates that the farmer would need to use more resources to grow wheat, and should allocate additional resources to wheat, instead of corn.\n",
    "d.\n",
    "No, it would not be profitable to the farmer to plant wheat at $5 per bushel. The optimal solution indicates that the farmer should allocate all of the available resources to corn, in order to maximize profit.\n",
    "\n",
    "\n",
    "La solucion optima indica que el granjero debera necesitar usar más recursos para hacer crecer el trigo, y deberaca meter mas recursos al trigo en vez del maiz.\n",
    "\n",
    "d) No , no sera rentable que el granjero plante por $5 por bushel. La solucion optima indica que el granjero debe colocar sus maximos recursos , para maximizar sus ganancias"
   ]
  },
  {
   "cell_type": "markdown",
   "metadata": {},
   "source": [
    "e) analisis de sencibilidad"
   ]
  },
  {
   "cell_type": "markdown",
   "metadata": {},
   "source": [
    "Si el precio de el trigo decre a 3$ por bushel , la solucion optima debe ser $x_1 = 133.33, x_2 = 3,666.67, x:3 = 2,500$\n",
    "\n",
    "La tabla optima debe de ser \n",
    "\n",
    "\n",
    "|Z  |  150 | 80 | 60  |  0|\n",
    "|---|------|----|----|----|\n",
    "|x1 |  6   |8  | 10  |  5,000|\n",
    "|x2 |  100 |120 |100  |  60,000|\n",
    "|x3 |  0   |0 |  0   |  2,500|"
   ]
  },
  {
   "cell_type": "markdown",
   "metadata": {},
   "source": [
    " La solución óptima indica que el agricultor necesitaría usar más recursos para cultivar maíz y debería asignar recursos adicionales al maíz, en lugar del trigo."
   ]
  },
  {
   "cell_type": "markdown",
   "metadata": {},
   "source": [
    "F. No, no sería rentable para el agricultor plantar maíz a $4 por bushel. La solución óptima indica que el agricultor debe asignar todos los recursos disponibles al trigo para maximizar las ganancias. explique La solución óptima indica que el agricultor debe asignar todos los recursos disponibles al trigo para maximizar la ganancia. "
   ]
  },
  {
   "cell_type": "markdown",
   "metadata": {},
   "source": [
    "G)\n",
    "\n",
    "Análisis de sensibilidad: si el precio del maíz disminuye a $2 por bushel, la solución óptima sería: \n",
    "\n",
    "x1 = 200, x2 = 2500, x3 = 3000. \n",
    "\n",
    "\n",
    "Cuadro óptimo: \n",
    "\n",
    "\n",
    "|Z | 150| 80 |60 | 0|\n",
    "|---|---|---|---|---|\n",
    "|x1 | 6 |8 |10 | 5,000|\n",
    "|x2 | 100| 120| 100 | 60.000|\n",
    "|x3 | 0| 0| 0 | 3,000|"
   ]
  },
  {
   "cell_type": "markdown",
   "metadata": {},
   "source": [
    "The optimal solution indicates that the farmer would need to use more resources to grow wheat, and should allocate additional resources to wheat, instead of corn."
   ]
  },
  {
   "cell_type": "markdown",
   "metadata": {},
   "source": [
    "Explanation:\n",
    "If the farmer has contracted to deliver at least the equivalent of 100 acres of wheat, the new optimal solution would be:"
   ]
  },
  {
   "cell_type": "markdown",
   "metadata": {},
   "source": [
    "|Z  |  150|  80 | 60  |  0|\n",
    "|---|----|----|----|----|\n",
    "|x1 |  6  | 8   |10  |  5,000|\n",
    "|x2 |  100 |120| 100  |  60,000|\n",
    "|x3 |  0   |0|  | 0   |  3,000|"
   ]
  },
  {
   "cell_type": "markdown",
   "metadata": {},
   "source": [
    "-----------------------------"
   ]
  },
  {
   "cell_type": "markdown",
   "metadata": {},
   "source": [
    "6.53\n",
    "A product is assembled from three parts that can be manufactured on two machines A and B. Neither machine can process different parts at the same time. The number of parts processed by each machine per hour are summarized below:\n"
   ]
  },
  {
   "cell_type": "markdown",
   "metadata": {},
   "source": [
    "-------------------------------------"
   ]
  },
  {
   "cell_type": "markdown",
   "metadata": {},
   "source": [
    "Management seeks a daily schedule (for 8 hrs/day) of the machines so that the number of assemblies is maximized. Currently the company has three machines of type A and five machines of type B.\n",
    "\n",
    "Solve the problem.\n",
    "\n",
    "If only one machine can be acquired, which type would you recom-\n",
    "\n",
    "mend and why?\n",
    "\n",
    "Management is contemplating the purchase of a type A machine at a\n",
    "\n",
    "cost of  100,000. Suppose that the life of the machine is 10 years and that each year is equivalent to 2000 working hours. Would you recommend the purchase if the unit profit from each assembly is  1 ? Why or why not?"
   ]
  },
  {
   "cell_type": "markdown",
   "metadata": {},
   "source": [
    "Following is the calculation of total parts produce by Machine A per day\n",
    "\n",
    "Part 1 = 10 x 8 = 80 parts\n",
    "\n",
    "Part 2 = 16 x 8 = 128 parts\n",
    "\n",
    "Management has 3 A type machine\n",
    "\n",
    "Part 1 = 3 x 80 = 240 parts\n",
    "\n",
    "Part 2 = 3 x 128 = 384 parts\n",
    "\n",
    "Following is the calculation of total parts produce by Machine B per day\n",
    "\n",
    "Part 1 = 8 x 8 = 64 parts\n",
    "\n",
    "Part 2 = 12 x 8 = 96 parts\n",
    "\n",
    "Part 3 = 25 x 8 = 200 parts\n",
    "\n",
    "Management has 5 B type machine\n",
    "\n",
    "Part 1 = 5 x 64 = 320 parts\n",
    "\n",
    "Part 2 = 5 x 96 = 480 parts\n",
    "\n",
    "Part 3 = 5 x 200 = 1000 parts\n",
    "\n",
    "Comparing Machine A and Machine B, It is recommended that Machine A should be purchased because output of Part 1 and Part 2 is more compared to machine B. Though Machine A is not producing part 3 but management already have 5 machine B which produces feasible output.\n",
    "\n",
    "Cost of Machine A = 100,000\n",
    "\n",
    "Life - 10 years\n",
    "\n",
    "Total Working hours = 2,000 x 10 = 20,000\n",
    "\n",
    "Cost of machine A per hour = 100000 / 20000\n",
    "\n",
    "= $5\n",
    "\n",
    "Each units has a profit of $10 and $16. Therefore it is recomended to purchase Type A machine."
   ]
  },
  {
   "cell_type": "markdown",
   "metadata": {},
   "source": [
    "----------------"
   ]
  },
  {
   "cell_type": "markdown",
   "metadata": {},
   "source": [
    " !pip install pulp"
   ]
  },
  {
   "cell_type": "code",
   "execution_count": 2,
   "metadata": {},
   "outputs": [],
   "source": [
    "# !pip install pulp"
   ]
  },
  {
   "cell_type": "markdown",
   "metadata": {},
   "source": [
    "Problem Statement\n",
    "\n",
    "A glass manufacturing company produces two types of glass products A and B.\n",
    "\n",
    "A= Quantity of type A glass\n",
    "\n",
    "B= Quantity of type B glass"
   ]
  },
  {
   "cell_type": "markdown",
   "metadata": {},
   "source": [
    "Objective Function: Profit = 60 * A + 50 * B\n",
    "\n",
    "Constraints:\n",
    "\n",
    "Constraint 1: 4 * A + 10 * B <= 100\n",
    "\n",
    "Constraint 2: 2 * A + 1 * B <= 22\n",
    "\n",
    "Constraint 3: 3 * A + 3 * B <= 39\n",
    "\n",
    "A, B >= 0"
   ]
  },
  {
   "cell_type": "markdown",
   "metadata": {},
   "source": [
    "Initialize Model\n",
    "\n",
    "In this step, we will import all the classes and functions of pulp module and create a Maxzimization LP problem using LpProblem class."
   ]
  },
  {
   "cell_type": "code",
   "execution_count": 3,
   "metadata": {},
   "outputs": [],
   "source": [
    "from pulp import *\n",
    "\n",
    "# Initialize Class, Define Vars., and Objective\n",
    "model = LpProblem(\"Glass_Manufacturing_Industries_Profits\",LpMaximize)"
   ]
  },
  {
   "cell_type": "markdown",
   "metadata": {},
   "source": [
    "Define Decision Variable"
   ]
  },
  {
   "cell_type": "markdown",
   "metadata": {},
   "source": [
    "In this step, we will define the decision variables. In our problem, we have three variables wood tables, chairs, and bookcases. Let’s create them using LpVariable class. LpVariable will take the following four values:\n",
    "\n",
    "First, arbitrary name of what this variable represents.\n",
    "Second is the lower bound on this variable.\n",
    "Third is the upper bound.\n",
    "Fourth is essentially the type of data (discrete or continuous). The options for the fourth parameter are LpContinuous or LpInteger."
   ]
  },
  {
   "cell_type": "code",
   "execution_count": 4,
   "metadata": {},
   "outputs": [],
   "source": [
    "# Define variables\n",
    "A = LpVariable('A', lowBound=0)\n",
    "B = LpVariable('B', lowBound=0)"
   ]
  },
  {
   "cell_type": "markdown",
   "metadata": {},
   "source": [
    "Define Objective Function\n",
    "\n",
    "\n",
    "In this step, we will define the maximum objective function by adding it to the LpProblem object.\n",
    "\n",
    "\n"
   ]
  },
  {
   "cell_type": "code",
   "execution_count": 5,
   "metadata": {},
   "outputs": [],
   "source": [
    "# Define Objetive Function: Profit on Product A and B\n",
    "model += 60 * A + 50 * B "
   ]
  },
  {
   "cell_type": "markdown",
   "metadata": {},
   "source": [
    "Define the Constraints\n",
    "\n",
    "\n",
    "In this step, we will add the 4 constraints defined in the problem by adding them to the LpProblem object."
   ]
  },
  {
   "cell_type": "code",
   "execution_count": 6,
   "metadata": {},
   "outputs": [],
   "source": [
    "# Constraint 1\n",
    "model += 4 * A + 10 * B <= 100\n",
    "\n",
    "# Constraint 2\n",
    "model += 2 * A + 1 * B <= 22\n",
    "\n",
    "# Constraint 3\n",
    "model += 3 * A + 3 * B <= 39"
   ]
  },
  {
   "cell_type": "code",
   "execution_count": 7,
   "metadata": {},
   "outputs": [
    {
     "name": "stdout",
     "output_type": "stream",
     "text": [
      "Welcome to the CBC MILP Solver \n",
      "Version: 2.10.3 \n",
      "Build Date: Dec 15 2019 \n",
      "\n",
      "command line - /Users/adolfohuerta/opt/anaconda3/lib/python3.9/site-packages/pulp/solverdir/cbc/osx/64/cbc /var/folders/zb/0l4s85s95rzbg13c3_fm6k540000gn/T/a437275c9e674d69bc8330f141d1f86a-pulp.mps max timeMode elapsed branch printingOptions all solution /var/folders/zb/0l4s85s95rzbg13c3_fm6k540000gn/T/a437275c9e674d69bc8330f141d1f86a-pulp.sol (default strategy 1)\n",
      "At line 2 NAME          MODEL\n",
      "At line 3 ROWS\n",
      "At line 8 COLUMNS\n",
      "At line 17 RHS\n",
      "At line 21 BOUNDS\n",
      "At line 22 ENDATA\n",
      "Problem MODEL has 3 rows, 2 columns and 6 elements\n",
      "Coin0008I MODEL read with 0 errors\n",
      "Option for timeMode changed from cpu to elapsed\n",
      "Presolve 3 (0) rows, 2 (0) columns and 6 (0) elements\n",
      "0  Obj -0 Dual inf 110 (2)\n",
      "0  Obj -0 Dual inf 110 (2)\n",
      "2  Obj 740\n",
      "Optimal - objective value 740\n",
      "Optimal objective 740 - 2 iterations time 0.002\n",
      "Option for printingOptions changed from normal to all\n",
      "Total time (CPU seconds):       0.00   (Wallclock seconds):       0.00\n",
      "\n",
      "Model Status:Optimal\n",
      "Objective =  740.0\n",
      "A = 9.0\n",
      "B = 4.0\n"
     ]
    }
   ],
   "source": [
    "# Solve Model\n",
    "model.solve()\n",
    "\n",
    "print(\"Model Status:{}\".format(LpStatus[model.status]))\n",
    "print(\"Objective = \", value(model.objective))\n",
    "\n",
    "for v in model.variables():\n",
    "    print(v.name,\"=\", v.varValue)"
   ]
  },
  {
   "cell_type": "code",
   "execution_count": 9,
   "metadata": {},
   "outputs": [
    {
     "name": "stdout",
     "output_type": "stream",
     "text": [
      "  name  shadow price  slack\n",
      "0  _C1     -0.000000   24.0\n",
      "1  _C2     10.000000   -0.0\n",
      "2  _C3     13.333333   -0.0\n"
     ]
    }
   ],
   "source": [
    "import pandas as pd\n",
    "o = [{'name':name,'shadow price':c.pi,'slack': c.slack} for name, c in model.constraints.items()]\n",
    "\n",
    "print(pd.DataFrame(o))"
   ]
  },
  {
   "cell_type": "markdown",
   "metadata": {},
   "source": [
    "Puede ver que el valor de sombra para las Restricciones C2 y C3 es 10 y 13,33. significa que si hacemos un cambio de unidad en RHS de las restricciones C2 y C3 afectará la función objetivo por 10 y 13.33. Veamos esto en el ejemplo de la siguiente sección.\n",
    "\n",
    "El valor de holgura para la restricción C1 es 24, lo que indica el rango de factibilidad para esa restricción. También indica que la restricción es una restricción vinculante. La restricción C2 y C3 tienen holgura = 0. Significa que la restricción es una restricción vinculante. Restricción no vinculante significa que cualquier cambio dentro de este rango no tendrá efecto sobre el valor óptimo de la función objetivo. Podemos verificar esto cambiando el valor de la restricción C1. Veamos el siguiente ejemplo:"
   ]
  },
  {
   "cell_type": "code",
   "execution_count": 10,
   "metadata": {},
   "outputs": [
    {
     "name": "stdout",
     "output_type": "stream",
     "text": [
      "Welcome to the CBC MILP Solver \n",
      "Version: 2.10.3 \n",
      "Build Date: Dec 15 2019 \n",
      "\n",
      "command line - /Users/adolfohuerta/opt/anaconda3/lib/python3.9/site-packages/pulp/solverdir/cbc/osx/64/cbc /var/folders/zb/0l4s85s95rzbg13c3_fm6k540000gn/T/0566f43aed6c4d8d8aa59625e664cb04-pulp.mps max timeMode elapsed branch printingOptions all solution /var/folders/zb/0l4s85s95rzbg13c3_fm6k540000gn/T/0566f43aed6c4d8d8aa59625e664cb04-pulp.sol (default strategy 1)\n",
      "At line 2 NAME          MODEL\n",
      "At line 3 ROWS\n",
      "At line 8 COLUMNS\n",
      "At line 17 RHS\n",
      "At line 21 BOUNDS\n",
      "At line 22 ENDATA\n",
      "Problem MODEL has 3 rows, 2 columns and 6 elements\n",
      "Coin0008I MODEL read with 0 errors\n",
      "Option for timeMode changed from cpu to elapsed\n",
      "Presolve 3 (0) rows, 2 (0) columns and 6 (0) elements\n",
      "0  Obj -0 Dual inf 110 (2)\n",
      "0  Obj -0 Dual inf 110 (2)\n",
      "2  Obj 740\n",
      "Optimal - objective value 740\n",
      "Optimal objective 740 - 2 iterations time 0.002\n",
      "Option for printingOptions changed from normal to all\n",
      "Total time (CPU seconds):       0.00   (Wallclock seconds):       0.01\n",
      "\n",
      "Model Status:Optimal\n",
      "Objective =  740.0\n",
      "A = 9.0\n",
      "B = 4.0\n",
      "  Name     Constraint  shadow price  slack\n",
      "0  _C1  {A: 4, B: 10}           2.5   -0.0\n",
      "1  _C2   {A: 2, B: 1}          25.0   -0.0\n",
      "2  _C3   {A: 3, B: 3}          -0.0   -0.0\n"
     ]
    }
   ],
   "source": [
    "# Initialize Class, Define Vars., and Objective\n",
    "model = LpProblem(\"Glass_Manufacturing_Industries_Profits\",LpMaximize)\n",
    "\n",
    "# Define variables\n",
    "A = LpVariable('A', lowBound=0)\n",
    "B = LpVariable('B', lowBound=0)\n",
    "\n",
    "# Define Objetive Function: Profit on Product A and B\n",
    "model += 60 * A + 50 * B \n",
    "\n",
    "# Constraint 1\n",
    "model += 4 * A + 10 * B <= 76 # update its value\n",
    "\n",
    "# Constraint 2\n",
    "model += 2 * A + 1 * B <= 22\n",
    "\n",
    "# Constraint 3\n",
    "model += 3 * A + 3 * B <= 39\n",
    "\n",
    "# Solve Model\n",
    "model.solve()\n",
    "\n",
    "print(\"Model Status:{}\".format(LpStatus[model.status]))\n",
    "print(\"Objective = \", value(model.objective))\n",
    "\n",
    "for v in model.variables():\n",
    "    print(v.name,\"=\", v.varValue)\n",
    "    \n",
    "o = [{'Name':name,'Constraint':c,'shadow price':c.pi,'slack': c.slack} for name, c in model.constraints.items()]\n",
    "\n",
    "print(pd.DataFrame(o))"
   ]
  },
  {
   "cell_type": "markdown",
   "metadata": {},
   "source": [
    "Sensitivity Analysis: Understand the Shadow value"
   ]
  },
  {
   "cell_type": "markdown",
   "metadata": {},
   "source": [
    "Como ha visto, el valor de sombra para las Restricciones C2 y C3 es 10 y 13,33. significa que si hacemos un cambio de unidad en RHS de las restricciones C2 y C3 afectará la función objetivo por 10 y 13.33. Veamos esto en el siguiente ejemplo. Aquí estamos cambiando el valor RHS de la restricción C2:"
   ]
  },
  {
   "cell_type": "code",
   "execution_count": 11,
   "metadata": {},
   "outputs": [
    {
     "name": "stdout",
     "output_type": "stream",
     "text": [
      "Welcome to the CBC MILP Solver \n",
      "Version: 2.10.3 \n",
      "Build Date: Dec 15 2019 \n",
      "\n",
      "command line - /Users/adolfohuerta/opt/anaconda3/lib/python3.9/site-packages/pulp/solverdir/cbc/osx/64/cbc /var/folders/zb/0l4s85s95rzbg13c3_fm6k540000gn/T/f1da36bf52744297982d96fd4410f085-pulp.mps max timeMode elapsed branch printingOptions all solution /var/folders/zb/0l4s85s95rzbg13c3_fm6k540000gn/T/f1da36bf52744297982d96fd4410f085-pulp.sol (default strategy 1)\n",
      "At line 2 NAME          MODEL\n",
      "At line 3 ROWS\n",
      "At line 8 COLUMNS\n",
      "At line 17 RHS\n",
      "At line 21 BOUNDS\n",
      "At line 22 ENDATA\n",
      "Problem MODEL has 3 rows, 2 columns and 6 elements\n",
      "Coin0008I MODEL read with 0 errors\n",
      "Option for timeMode changed from cpu to elapsed\n",
      "Presolve 3 (0) rows, 2 (0) columns and 6 (0) elements\n",
      "0  Obj -0 Dual inf 110 (2)\n",
      "0  Obj -0 Dual inf 110 (2)\n",
      "2  Obj 750\n",
      "Optimal - objective value 750\n",
      "Optimal objective 750 - 2 iterations time 0.002\n",
      "Option for printingOptions changed from normal to all\n",
      "Total time (CPU seconds):       0.00   (Wallclock seconds):       0.01\n",
      "\n",
      "Model Status:Optimal\n",
      "Objective =  750.0\n",
      "A = 10.0\n",
      "B = 3.0\n",
      "  Name     Constraint  shadow price  slack\n",
      "0  _C1  {A: 4, B: 10}     -0.000000   30.0\n",
      "1  _C2   {A: 2, B: 1}     10.000000   -0.0\n",
      "2  _C3   {A: 3, B: 3}     13.333333   -0.0\n"
     ]
    }
   ],
   "source": [
    "# Initialize Class, Define Vars., and Objective\n",
    "model = LpProblem(\"Glass_Manufacturing_Industries_Profits\",LpMaximize)\n",
    "\n",
    "# Define variables\n",
    "A = LpVariable('A', lowBound=0)\n",
    "B = LpVariable('B', lowBound=0)\n",
    "\n",
    "# Define Objetive Function: Profit on Product A and B\n",
    "model += 60 * A + 50 * B \n",
    "\n",
    "# Constraint 1\n",
    "model += 4 * A + 10 * B <= 100\n",
    "\n",
    "# Constraint 2\n",
    "model += 2 * A + 1 * B <= 23 # increase by 1\n",
    "\n",
    "# Constraint 3\n",
    "model += 3 * A + 3 * B <= 39\n",
    "\n",
    "# Solve Model\n",
    "model.solve()\n",
    "\n",
    "print(\"Model Status:{}\".format(LpStatus[model.status]))\n",
    "print(\"Objective = \", value(model.objective))\n",
    "\n",
    "for v in model.variables():\n",
    "    print(v.name,\"=\", v.varValue)\n",
    "    \n",
    "o = [{'Name':name,'Constraint':c,'shadow price':c.pi,'slack': c.slack} for name, c in model.constraints.items()]\n",
    "\n",
    "print(pd.DataFrame(o))"
   ]
  },
  {
   "cell_type": "markdown",
   "metadata": {},
   "source": [
    "Como ha visto, el valor de sombra para las Restricciones C2 y C3 es 10 y 13,33. significa que si hacemos un cambio de unidad en RHS de las restricciones C2 y C3 afectará la función objetivo por 10 y 13.33. Veamos esto en el siguiente ejemplo. Aquí estamos cambiando el valor RHS de la restricción C2:"
   ]
  },
  {
   "cell_type": "markdown",
   "metadata": {},
   "source": [
    "Resumen\n",
    "\n",
    "¡Felicitaciones, has llegado al final de este tutorial!\n",
    "\n",
    "En este artículo, hemos aprendido el análisis de sensibilidad en el modelado de LP, la interpretabilidad del modelo, el valor de sombra y la variable de holgura con los ejemplos de la biblioteca Python PuLp. Hemos resuelto el problema de programación lineal utilizando PuLP y nos hemos centrado en el análisis de sensibilidad con demostración práctica. Por supuesto, este es solo un ejemplo muy básico de análisis de sensibilidad. En próximos artículos, escribiremos más sobre diferentes problemas de optimización con análisis de sensibilidad. Puede revisar los conceptos básicos de los conceptos matemáticos en este artículo y aprender sobre la programación lineal usando PuLP en este artículo. He escrito más artículos sobre diferentes problemas de optimización, como problemas de transbordo, problemas de asignación, problemas de combinación."
   ]
  }
 ],
 "metadata": {
  "kernelspec": {
   "display_name": "Python 3.9.7 ('base')",
   "language": "python",
   "name": "python3"
  },
  "language_info": {
   "codemirror_mode": {
    "name": "ipython",
    "version": 3
   },
   "file_extension": ".py",
   "mimetype": "text/x-python",
   "name": "python",
   "nbconvert_exporter": "python",
   "pygments_lexer": "ipython3",
   "version": "3.9.7"
  },
  "orig_nbformat": 4,
  "vscode": {
   "interpreter": {
    "hash": "12e7b2db913c7cced4d5bf71ce365c438f2053887e824f813caa9208ccef4b13"
   }
  }
 },
 "nbformat": 4,
 "nbformat_minor": 2
}
