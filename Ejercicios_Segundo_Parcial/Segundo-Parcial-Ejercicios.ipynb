{
 "cells": [
  {
   "cell_type": "markdown",
   "metadata": {},
   "source": [
    "### Ejercicios Segundo Parcial"
   ]
  },
  {
   "cell_type": "markdown",
   "metadata": {},
   "source": [
    "Problemas; 6.1, 6.2, 6.6, 6.7, 6.10, 6.14, 6.22, 6.27, 6.29, 6.30, 6.43, 6.44,\n",
    "6.47, 6.49, 6.52, 6.53"
   ]
  },
  {
   "cell_type": "markdown",
   "metadata": {},
   "source": [
    "Considera el siguiente problema ->\n",
    "<br> \n",
    "<br>\n",
    "Maximiza \n",
    "<br>\n",
    "$-x_1 + 2x_2$\n",
    "<br>\n",
    "Sujeto a \n",
    "\n",
    "$3x_1 + 4x_2 < 12$\n",
    "<br>\n",
    "$2x_1 - x_2 > 2$\n",
    "$x_1$ , $x_2 > 0 $\n"
   ]
  },
  {
   "cell_type": "markdown",
   "metadata": {},
   "source": [
    "<p>Resolver por método gráfico -></p>\n",
    "<center><img src=\"./captura_1.jpg\" style=\"width:500px\"></center>"
   ]
  },
  {
   "cell_type": "code",
   "execution_count": 2,
   "metadata": {},
   "outputs": [
    {
     "name": "stdout",
     "output_type": "stream",
     "text": [
      "Primal:  1.4545454545454544\n"
     ]
    }
   ],
   "source": [
    "from dual_simplex import to_objective_function_value,simplex,dual_simplex_method\n",
    "c = [-1, 2, 0, 0]\n",
    "A = [\n",
    "    [3, 4, 1, 0],\n",
    "    [-2, 1, 0, 1]\n",
    "    ]\n",
    "b = [12, -2]\n",
    "\n",
    "primal = to_objective_function_value(c, simplex(c, A, b))\n",
    "print('Primal: ', primal)"
   ]
  },
  {
   "cell_type": "code",
   "execution_count": 27,
   "metadata": {},
   "outputs": [
    {
     "data": {
      "text/plain": [
       "[1.8181818181818181, 1.6363636363636362, 0, 0]"
      ]
     },
     "execution_count": 27,
     "metadata": {},
     "output_type": "execute_result"
    }
   ],
   "source": [
    "primer_resultado = simplex(c,A,b)\n",
    "primer_resultado"
   ]
  },
  {
   "cell_type": "code",
   "execution_count": 30,
   "metadata": {},
   "outputs": [
    {
     "name": "stdout",
     "output_type": "stream",
     "text": [
      "Dual:  1.0\n"
     ]
    }
   ],
   "source": [
    "ca = [12,-2,0,0]\n",
    "Aa = [\n",
    "    [3,-2, 1, 0],\n",
    "    [4,1, 0, 1]\n",
    "]\n",
    "ba = [-1,2] \n",
    "\n",
    "dualb = to_objective_function_value(c, dual_simplex_method(ca, Aa, ba))\n",
    "print('Dual: ', dualb)"
   ]
  },
  {
   "cell_type": "code",
   "execution_count": 31,
   "metadata": {},
   "outputs": [
    {
     "data": {
      "text/plain": [
       "[0, 0.5, 0, 1.5]"
      ]
     },
     "execution_count": 31,
     "metadata": {},
     "output_type": "execute_result"
    }
   ],
   "source": [
    "dual_simplex_method(ca,Aa,ba)"
   ]
  },
  {
   "cell_type": "markdown",
   "metadata": {},
   "source": [
    "Como tal en este ejercicio no fue posible pasarlo a primal dual => debido a la restriccion de 2"
   ]
  },
  {
   "cell_type": "markdown",
   "metadata": {},
   "source": [
    "<p>Ejemplo de resolver primal dual -></p>\n",
    "<center><img src=\"./captura_2.jpg\" style=\"width:500px\"></center>"
   ]
  },
  {
   "cell_type": "markdown",
   "metadata": {},
   "source": [
    "Consideral el siguiente problema\n",
    "<br>"
   ]
  },
  {
   "cell_type": "markdown",
   "metadata": {},
   "source": [
    "Minimizar\n",
    "<br>\n",
    "$2x_1 + 3x_2 + 5x_3 + 6x_4$\n",
    "Sujeto a\n",
    "<br> \n",
    "$x_1+2x_2+3x_3+x_4>2$\n",
    "<br>\n",
    "$-2x_1+2x_2-x_3+3x_4<-3$\n",
    "<br>\n",
    "$x_1,x_2,x_3,x_4>0$"
   ]
  },
  {
   "cell_type": "code",
   "execution_count": 33,
   "metadata": {},
   "outputs": [
    {
     "name": "stdout",
     "output_type": "stream",
     "text": [
      "Primal:  4.0\n"
     ]
    }
   ],
   "source": [
    "c2 = [2,3,5,6, 0, 0]\n",
    "A2 = [\n",
    "    [1,2,3,4, 1, 0],\n",
    "    [1,-1,1,-3, 0, 1]\n",
    "    ]\n",
    "b2 = [2, 3]\n",
    "\n",
    "primal2 = to_objective_function_value(c2, simplex(c2, A2, b2))\n",
    "print('Primal: ', primal2)"
   ]
  },
  {
   "cell_type": "code",
   "execution_count": 34,
   "metadata": {},
   "outputs": [
    {
     "data": {
      "text/plain": [
       "[2.0, 0, 0, 0, 0, 1.0]"
      ]
     },
     "execution_count": 34,
     "metadata": {},
     "output_type": "execute_result"
    }
   ],
   "source": [
    "simplex(c2, A2, b2)"
   ]
  },
  {
   "cell_type": "code",
   "execution_count": 35,
   "metadata": {},
   "outputs": [
    {
     "name": "stdout",
     "output_type": "stream",
     "text": [
      "Dual:  0\n"
     ]
    },
    {
     "name": "stderr",
     "output_type": "stream",
     "text": [
      "c:\\Users\\Adolfo\\OneDrive - Instituto Politecnico Nacional\\MatematicasAvanzadasCienciaDatos\\Ejercicios_Segundo_Parcial\\dual_simplex.py:46: VisibleDeprecationWarning: Creating an ndarray from ragged nested sequences (which is a list-or-tuple of lists-or-tuples-or ndarrays with different lengths or shapes) is deprecated. If you meant to do this, you must specify 'dtype=object' when creating the ndarray.\n",
      "  columns = np.array(tableau).T\n"
     ]
    }
   ],
   "source": [
    "ca = [-2-3,0,0,0,0]\n",
    "Aa = [\n",
    "    [-1-2,1,0,0,0],\n",
    "    [-2,1,0,1,0,0],\n",
    "    [-3-1,0,0,1,0],\n",
    "    [-1,3,0,0,0,1]\n",
    "]\n",
    "ba = [2,3,5,6] \n",
    "\n",
    "dualb = to_objective_function_value(c, dual_simplex_method(ca, Aa, ba))\n",
    "print('Dual: ', dualb)"
   ]
  },
  {
   "cell_type": "markdown",
   "metadata": {},
   "source": [
    "No se puede resolver geometricamente , da desbordado => continuamos al siguiente ejercicio"
   ]
  },
  {
   "cell_type": "markdown",
   "metadata": {},
   "source": [
    "6.6 Considera el siguiente problema\n",
    "\n",
    "$10x_1 + 24x_2 + 20x_3 +20x_4 +25x_5 $\n",
    "<br>\n",
    "$x_1 + x_2 + 2x_3 + 3x_4 + 5x_5 < 19$\n",
    "<br>\n",
    "$2x_1 + 4x_2 + 3x_3 + 2x_4 + x_5 < 57$\n",
    "<br>\n",
    "$x_1,x_2,x_3,x_4,x_5 > 0$"
   ]
  },
  {
   "cell_type": "markdown",
   "metadata": {
    "notebookRunGroups": {
     "groupValue": "2"
    }
   },
   "source": [
    "a) Escribe el problema dual y verifica que ($w_1$ , $w_2$ ) = (4,5) es una solucion feasible.\n"
   ]
  },
  {
   "cell_type": "markdown",
   "metadata": {},
   "source": [
    "-------------------------------------"
   ]
  },
  {
   "cell_type": "markdown",
   "metadata": {},
   "source": [
    "Minimizar \n",
    "\n",
    "$19w_1 + 57w_2$\n",
    "<br>\n",
    "$w_1 + 2w_2 > 10$\n",
    "<br>\n",
    "$w_1 +4w_2 > 24$\n",
    "<br>\n",
    "$2w_1 + 3w_2 > 20$\n",
    "<br>\n",
    "$3w_1 + 2w_2 > 20$\n",
    "<br>\n",
    "$5w_1 + w_2 > 25$\n",
    "<br>\n",
    "$w_1,w_2,>0$"
   ]
  },
  {
   "cell_type": "markdown",
   "metadata": {},
   "source": [
    "4 + 2(5) = 14>10 ---> satisface la restriccion\n",
    "<br>\n",
    "4 + 4(5) = 24>24 ---> satisface la restriccion\n",
    "<br>\n",
    "2(4) + 3(5) = 23 > 20 ---> satisface la restriccion\n",
    "<br>\n",
    "3(4) + 2(5) = 22 > 20 ---> satisface la restriccion\n",
    "<br>\n",
    "5(4) + 5 = 25 > 25 \n",
    "<br>\n",
    "por lo tanto ( $w_1$ , $w_2$ ) = (4,5) es feasible para el dual"
   ]
  },
  {
   "cell_type": "markdown",
   "metadata": {},
   "source": [
    "b) Usa la informacion en parte (a) para derivar una solucion optima para ambas , primal y dual "
   ]
  },
  {
   "cell_type": "code",
   "execution_count": 17,
   "metadata": {},
   "outputs": [
    {
     "name": "stdout",
     "output_type": "stream",
     "text": [
      "Primal:  361.0\n"
     ]
    }
   ],
   "source": [
    "c3 = [10,24,20,20,25,0,0]\n",
    "A3 = [\n",
    "    [1,1,2,3,5,1,0],\n",
    "    [2,4,3,2,1,0,1]\n",
    "    ]\n",
    "b3 = [19, 57]\n",
    "\n",
    "primal3 = to_objective_function_value(c3, simplex(c3, A3, b3))\n",
    "print('Primal: ', primal3)"
   ]
  },
  {
   "cell_type": "markdown",
   "metadata": {},
   "source": [
    "cambiar a negativos las restricciones debido a que cambia a funcion maximizar -> minimizar"
   ]
  },
  {
   "cell_type": "code",
   "execution_count": 12,
   "metadata": {},
   "outputs": [
    {
     "name": "stdout",
     "output_type": "stream",
     "text": [
      "Dual:  361.0\n"
     ]
    }
   ],
   "source": [
    "ca = [19,57,0,0,0,0,0]\n",
    "Aa = [\n",
    "    [-1,-2,1,0,0,0,0],\n",
    "    [-1,-4,0,1,0,0,0],\n",
    "    [-2,-3,0,0,1,0,0],\n",
    "    [-3,-2,0,0,0,1,0],\n",
    "    [-5,-1,0,0,0,0,1]   \n",
    "]\n",
    "ba = [-10,-24,-20,-20,-25]\n",
    "\n",
    "dualb = to_objective_function_value(ca, dual_simplex_method(ca, Aa, ba))\n",
    "print('Dual: ', dualb)"
   ]
  },
  {
   "cell_type": "markdown",
   "metadata": {},
   "source": [
    "6.7 .- Considera el siguiente problema de programacion lineal"
   ]
  },
  {
   "cell_type": "markdown",
   "metadata": {},
   "source": [
    "P Minimizar $6X_1 + 2X_2$\n",
    "<br>\n",
    "Sujeto a:\n",
    "<br>\n",
    "$X_1 + 2X_2 > 3$\n",
    "<br>\n",
    "$x_2>0$\n",
    "<br>\n",
    "$x_1$ sin restricciones "
   ]
  },
  {
   "cell_type": "markdown",
   "metadata": {},
   "source": [
    "Para minimizar\n",
    "<br>\n",
    "P = $6x_1 + 2x_2$\n",
    "<br>\n",
    "Asumimos un plano de 2D  de x1 y x2 to plot linear inequalities and get the common solution."
   ]
  },
  {
   "cell_type": "markdown",
   "metadata": {},
   "source": [
    "Sujetos a las restricciones que son:\n",
    "<br>\n",
    "$x_1 + 2x_2 > 3$ (1)\n",
    "<br>\n",
    "$x_2 > 0$ (2)\n",
    "<br>\n",
    "A(3,0)\n",
    "<br>\n",
    "B(0,1.5)\n",
    "<br>\n",
    "P = 6(3) + 0 \n",
    "<br>\n",
    "P = 18\n",
    "<br>\n",
    "P = 6(0) + 2(1.5)\n",
    "<br>\n",
    "P = 3\n",
    "<br>\n",
    "P es minimo en el punto B cuando $x_1 = 0$ , $x_2 = 1.5$\n",
    "<br>\n",
    "Dada el problmea lineal para minimizar p sujeto a las constantes son consistentes de dos variables $x_!$ y $x_2$ asi que asumimos un plano 2D con ejes x1 y x2 , dado a ciertos problema.\n",
    "\n",
    "-------------------\n"
   ]
  },
  {
   "cell_type": "markdown",
   "metadata": {},
   "source": [
    "6.10 \n",
    "Consider the problem: Minimize ex subject to Ax =b, x > 0 where m = n , c = b' and A = A'. Show that if there exists an X0 such that Ax0 = b, then X0 is an optimal point. (Hint. Use duality.)"
   ]
  },
  {
   "cell_type": "markdown",
   "metadata": {},
   "source": [
    "Sujeto a\n",
    "<br>\n",
    "Ax = b, x > 0\n",
    "<br>\n",
    "Donde m=n,c = b', A = A'\n",
    "<br>\n",
    "\n",
    "Desde la minimizacion necesitamos convertir a la forma estandar para obtener su dual\n",
    "<br>\n",
    "maximizar - c´x\n",
    "<br>\n",
    "Dado que Ax = b, x > 0\n",
    "<br>\n",
    "A si que su dual esta dado\n",
    "<br>\n",
    "Minimizado\n",
    "<br>\n",
    "Sujeto a A'y = c', y > 0\n",
    "<br>\n",
    "Desde que nos dieron c=b', A = A'\n",
    "<br>\n",
    "A si que dual se convierte en\n",
    "<br>\n",
    "minimizar cy\n",
    "<br>\n",
    "Sujeto a Ay = b, y>O\n",
    "<br>\n",
    "Clearly constraints of primal and dual are same so we can replace y by x in the dual so dual becomes\n",
    "<br>\n",
    "minimize cx\n",
    "<br>\n",
    "Subject to Ax = b, x>0\n",
    "<br>\n",
    "Now it was given that there exists  such that Axo = b,X>0 clearly  satisfies condition of fesibility so  is feasible solution of the primal.\n",
    "<br>\n",
    "Clearly this also satisfies constraints of the dual problem so  is also a feasible solution to the dual.\n",
    "<br>\n",
    "Now using theorem of duality\n",
    "<br>\n",
    "If x and y are feasible solutions of the primal and dual and cx = by, then x and y must be optimal solutions to the primal and dual\n",
    "<br>\n",
    "And we have c=b given\n",
    "<br>\n",
    "So CXo = bxo\n",
    "<br>\n",
    "Hence must be optimal solution to the primal and dual.\n",
    "\n",
    "--------------------------"
   ]
  },
  {
   "cell_type": "markdown",
   "metadata": {},
   "source": [
    "6.14\n",
    "The Sewel Manufacturing Company produces two types of reclining chairs\n",
    "for sale in the Northeast. Two basic types of skilled labor are involved\n",
    "—assembly and finishing. One unit of the top-of-the-line recliner requires\n",
    "f hours of assembly, 1 hour of finishing, and sells for a profit of $20. A\n",
    "unit of the second-line recliner requires 1/2 hour of assembly, 1\\2 hour of\n",
    "finishing, and sells for a profit of $12. Presently there are 100 assembly\n",
    "hours and 80 finishing hours available to the company. The company is\n",
    "involved in labor negotiations concerning salary modifications for the\n",
    "coming year. You are asked to provide the company with indications of the\n",
    "worth of an hour of assembly worker's time and an hour of finishing\n",
    "worker's time."
   ]
  },
  {
   "cell_type": "markdown",
   "metadata": {},
   "source": [
    "Considera el numero de el tope de la linea reclinada sera x y la segunda linea reclinada sera y\n",
    "<br>\n",
    "Una unidad de el tope de la line del reclinado toma 2 horas en ensamblar y una hora en terminar. La ganancia en venderlo es de 20\n",
    "<br>\n",
    "El numero total de ensambaje es de 100 y 80 horas eso implica que $3/2x + 1y < 100 $ y $ 1/2x + 1/2y < 80 $"
   ]
  },
  {
   "cell_type": "markdown",
   "metadata": {},
   "source": [
    "La ganancia esta dada por = $f(x,y)$ = $ 20x + 12y $"
   ]
  },
  {
   "cell_type": "markdown",
   "metadata": {},
   "source": [
    "<p>Ejemplo de resolver primal dual -></p>\n",
    "<center><img src=\"./captura_3.jpg\" style=\"width:500px\"></center>"
   ]
  },
  {
   "cell_type": "markdown",
   "metadata": {},
   "source": [
    "20(66.67)+12(0)=1333.33"
   ]
  },
  {
   "cell_type": "markdown",
   "metadata": {},
   "source": [
    "Observamos que solo necesitamos la primer linea de produccion , la segunda es innecesaria y mas cara\n",
    "<br>\n",
    "Utilizando una regla de 3, sabemos que  3/2 = 1333.33 entonces:\n",
    "<BR>\n",
    "1 hora de trabajo de ensabmbador esta dada por 888.886666667/100 = 8.88 dolares\n",
    "<br>\n",
    "1 hora de acabados de trabajador esta dado por 888.886666667/80 = 11 dolares\n",
    "\n",
    "------------------\n"
   ]
  },
  {
   "cell_type": "markdown",
   "metadata": {},
   "source": [
    "6.22 \n",
    "Two players are involved in a competitive game. One player, called the row\n",
    "player, has two strategies available; the other player, called the column\n",
    "player, has three strategies available. If the row player selects strategy /' and\n",
    "the column player selects strategy y, the payoff to the row player is c^ and\n",
    "the payoff to the column player is —\n",
    "Cy. Thus the column player loses what\n",
    "the row player wins and vice versa—a two-person zero-sum game. The\n",
    "following matrix gives the payoffs to the row player."
   ]
  },
  {
   "cell_type": "markdown",
   "metadata": {},
   "source": [
    "La neta esta se las debo , esta bien largota :cccccccc "
   ]
  },
  {
   "cell_type": "markdown",
   "metadata": {},
   "source": [
    "6.27 Solve the following problem by the dual simplex method.\n",
    "<br>\n",
    "Maximize $—4x_1, —6x_2 —18x_3$\n",
    "<br>\n",
    "Subject to \n",
    "<br>\n",
    "$x_1 + 3x_3 >3$\n",
    "<br>\n",
    "$x_2 + 2x_3 > 4 $\n",
    "<br>\n",
    "$x_1, x_2,x_3 > 0$\n",
    "<br>\n",
    "Give the optimal values of all the primal and dual variables. Demonstrate\n",
    "that complementary slackness holds.\n",
    "\n",
    "--------\n"
   ]
  },
  {
   "cell_type": "markdown",
   "metadata": {},
   "source": [
    "Hay que esperar que me la contesten los dudes de la india"
   ]
  },
  {
   "cell_type": "markdown",
   "metadata": {},
   "source": [
    "6.29 Solve the following linear program by the dual simplex method."
   ]
  },
  {
   "cell_type": "markdown",
   "metadata": {},
   "source": [
    "$2x_1 + 3x_2 + 5x_3 + 6x_4$\n",
    "<br>\n",
    "Sujeto a \n",
    "<br>\n",
    "$x_1 + 2x_2 + 3x_3 + x_4 > 2$\n",
    "<br>\n",
    "$-2x_1 + x_2 -x_3 + 3x_4 > -3$\n",
    "<br>\n",
    "$x_1 , x_2 , x_3 , x_4 > 0$"
   ]
  },
  {
   "cell_type": "code",
   "execution_count": 30,
   "metadata": {},
   "outputs": [
    {
     "name": "stdout",
     "output_type": "stream",
     "text": [
      "Primal:  12.0\n"
     ]
    }
   ],
   "source": [
    "c3 = [2,3,5,6,0,0]\n",
    "A3 = [\n",
    "    [1,2,3,1,1,0],\n",
    "    [2,-1,1,-3,0,1]\n",
    "    ]\n",
    "b3 = [2,3]\n",
    "\n",
    "primal3 = to_objective_function_value(c3, simplex(c3, A3, b3))\n",
    "print('Primal: ', primal3)"
   ]
  },
  {
   "cell_type": "code",
   "execution_count": 22,
   "metadata": {},
   "outputs": [
    {
     "data": {
      "text/plain": [
       "[1.8, 0, 0, 0.2, 0, 0]"
      ]
     },
     "execution_count": 22,
     "metadata": {},
     "output_type": "execute_result"
    }
   ],
   "source": [
    "simplex(c3, A3, b3)"
   ]
  },
  {
   "cell_type": "code",
   "execution_count": 31,
   "metadata": {},
   "outputs": [
    {
     "name": "stdout",
     "output_type": "stream",
     "text": [
      "Dual:  12.0\n"
     ]
    }
   ],
   "source": [
    "ca = [2,-3,0,0,0,0]\n",
    "Aa = [\n",
    "    [-1,2,1,0,0,0],\n",
    "    [-2,-1,0,1,0,0],\n",
    "    [-3,1,0,0,1,0],\n",
    "    [-1,-3,0,0,0,1]\n",
    "]\n",
    "ba = [-2,-3,-5,-6]\n",
    "\n",
    "dualb = to_objective_function_value(ca, dual_simplex_method(ca, Aa, ba))\n",
    "print('Dual: ', dualb)"
   ]
  },
  {
   "cell_type": "code",
   "execution_count": 32,
   "metadata": {},
   "outputs": [
    {
     "data": {
      "text/plain": [
       "[6.0, 0, 4.0, 9.0, 13.0, 0]"
      ]
     },
     "execution_count": 32,
     "metadata": {},
     "output_type": "execute_result"
    }
   ],
   "source": [
    "dual_simplex_method(ca, Aa, ba)"
   ]
  },
  {
   "cell_type": "markdown",
   "metadata": {},
   "source": [
    "6.30 Consider the following problem.\n",
    "<br>\n",
    "Minimize \n",
    "<br>\n",
    "$3x_1+5x_2 - x_3 + 2x_4 - 4x_5$\n",
    "<br>\n",
    "Sujeto a \n",
    "<br>\n",
    "$x_1 + x_2 + x_3 + 3x_4 + x_5 < 6$\n",
    "<br>\n",
    "$-x_1 - x_2 + 2x_3 + x_4 - x_5 > 3$\n",
    "<br>\n",
    "$x_1,x_2,x_3,x_4,x_5>0$"
   ]
  },
  {
   "cell_type": "code",
   "execution_count": 36,
   "metadata": {},
   "outputs": [
    {
     "name": "stdout",
     "output_type": "stream",
     "text": [
      "Primal:  12.0\n"
     ]
    }
   ],
   "source": [
    "c3 = [3,5,-1,2,-4,0,0]\n",
    "A3 = [\n",
    "    [1,1,1,3,1,1,0],\n",
    "    [1,1,-2,-1,1,0,1]\n",
    "    ]\n",
    "b3 = [6,-3]\n",
    "\n",
    "primal3 = to_objective_function_value(c3, simplex(c3, A3, b3))\n",
    "print('Primal: ', primal3)"
   ]
  },
  {
   "cell_type": "code",
   "execution_count": 35,
   "metadata": {},
   "outputs": [
    {
     "data": {
      "text/plain": [
       "[0, 5.0, 1.0, 0, 0, 0, 0]"
      ]
     },
     "execution_count": 35,
     "metadata": {},
     "output_type": "execute_result"
    }
   ],
   "source": [
    "simplex(c3, A3, b3)"
   ]
  },
  {
   "cell_type": "code",
   "execution_count": 45,
   "metadata": {},
   "outputs": [
    {
     "name": "stdout",
     "output_type": "stream",
     "text": [
      "Dual:  30.0\n"
     ]
    }
   ],
   "source": [
    "ca = [6,-3,0,0,0,0,0]\n",
    "Aa = [\n",
    "     [-1,-1,1,0,0,0,0],\n",
    "     [-1,-1,0,1,0,0,0],\n",
    "     [-1,2,0,0,1,0,0],\n",
    "     [-3,1,0,0,0,1,0],\n",
    "     [-1,-1,0,0,0,0,1]\n",
    "     ]\n",
    "ba = [-3,-5,1,-2,4]\n",
    "\n",
    "dualb = to_objective_function_value(ca, dual_simplex_method(ca, Aa, ba))\n",
    "print('Dual: ', dualb)"
   ]
  },
  {
   "cell_type": "markdown",
   "metadata": {},
   "source": [
    "Revisar mañana"
   ]
  },
  {
   "cell_type": "markdown",
   "metadata": {},
   "source": [
    "6.53\n",
    "A product is assembled from three parts that can be manufactured on two machines A and B. Neither machine can process different parts at the same time. The number of parts processed by each machine per hour are summarized below:\n"
   ]
  },
  {
   "cell_type": "markdown",
   "metadata": {},
   "source": [
    "-------------------------------------"
   ]
  },
  {
   "cell_type": "markdown",
   "metadata": {},
   "source": [
    "Management seeks a daily schedule (for 8 hrs/day) of the machines so that the number of assemblies is maximized. Currently the company has three machines of type A and five machines of type B.\n",
    "\n",
    "Solve the problem.\n",
    "\n",
    "If only one machine can be acquired, which type would you recom-\n",
    "\n",
    "mend and why?\n",
    "\n",
    "Management is contemplating the purchase of a type A machine at a\n",
    "\n",
    "cost of  100,000. Suppose that the life of the machine is 10 years and that each year is equivalent to 2000 working hours. Would you recommend the purchase if the unit profit from each assembly is  1 ? Why or why not?"
   ]
  },
  {
   "cell_type": "markdown",
   "metadata": {},
   "source": [
    "Following is the calculation of total parts produce by Machine A per day\n",
    "\n",
    "Part 1 = 10 x 8 = 80 parts\n",
    "\n",
    "Part 2 = 16 x 8 = 128 parts\n",
    "\n",
    "Management has 3 A type machine\n",
    "\n",
    "Part 1 = 3 x 80 = 240 parts\n",
    "\n",
    "Part 2 = 3 x 128 = 384 parts\n",
    "\n",
    "Following is the calculation of total parts produce by Machine B per day\n",
    "\n",
    "Part 1 = 8 x 8 = 64 parts\n",
    "\n",
    "Part 2 = 12 x 8 = 96 parts\n",
    "\n",
    "Part 3 = 25 x 8 = 200 parts\n",
    "\n",
    "Management has 5 B type machine\n",
    "\n",
    "Part 1 = 5 x 64 = 320 parts\n",
    "\n",
    "Part 2 = 5 x 96 = 480 parts\n",
    "\n",
    "Part 3 = 5 x 200 = 1000 parts\n",
    "\n",
    "Comparing Machine A and Machine B, It is recommended that Machine A should be purchased because output of Part 1 and Part 2 is more compared to machine B. Though Machine A is not producing part 3 but management already have 5 machine B which produces feasible output.\n",
    "\n",
    "Cost of Machine A = 100,000\n",
    "\n",
    "Life - 10 years\n",
    "\n",
    "Total Working hours = 2,000 x 10 = 20,000\n",
    "\n",
    "Cost of machine A per hour = 100000 / 20000\n",
    "\n",
    "= $5\n",
    "\n",
    "Each units has a profit of $10 and $16. Therefore it is recomended to purchase Type A machine."
   ]
  }
 ],
 "metadata": {
  "kernelspec": {
   "display_name": "Python 3.10.5 64-bit",
   "language": "python",
   "name": "python3"
  },
  "language_info": {
   "codemirror_mode": {
    "name": "ipython",
    "version": 3
   },
   "file_extension": ".py",
   "mimetype": "text/x-python",
   "name": "python",
   "nbconvert_exporter": "python",
   "pygments_lexer": "ipython3",
   "version": "3.10.5"
  },
  "orig_nbformat": 4,
  "vscode": {
   "interpreter": {
    "hash": "c8045260058ce78d91bfcba6f26a8332d255756bd7658ea995399a8c233e7bf8"
   }
  }
 },
 "nbformat": 4,
 "nbformat_minor": 2
}
