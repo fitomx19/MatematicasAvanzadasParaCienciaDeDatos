{
 "cells": [
  {
   "attachments": {},
   "cell_type": "markdown",
   "metadata": {},
   "source": [
    "## Escuela Superior de Cómputo del IPN.\n",
    "### Matematicas Avanzadas para la Ciencia de Datos\n",
    "Profesor: Alfonso\n",
    "<br> \n",
    "Alumno: Huerta Ramírez  Michael Adolfo             \n",
    "\n",
    "<center>Segundo parcial - 14 de Diciembre de 2022 </center>\n",
    "<br>\n",
    "Boleta: 2020602866"
   ]
  },
  {
   "cell_type": "markdown",
   "metadata": {},
   "source": [
    "1. Considere el siguiente problema de programación lineal"
   ]
  },
  {
   "attachments": {},
   "cell_type": "markdown",
   "metadata": {},
   "source": [
    "<center><img src=\"./primero.png\" width=\"500px\"></center>"
   ]
  },
  {
   "cell_type": "markdown",
   "metadata": {},
   "source": [
    "a) Construya el problema dual asociado"
   ]
  },
  {
   "attachments": {},
   "cell_type": "markdown",
   "metadata": {},
   "source": [
    "$ -2y_1 + 3y_2  $\n",
    "<br>\n",
    "$-y_1 - 2y_2 \\geq 2$\n",
    "<br>\n",
    "$-2y_1 + y_2 \\geq 3$\n",
    "<br>\n",
    "$-3y_1 - y_2 \\geq 5$\n",
    "<br>\n",
    "$-y_1 + 3y_2 \\geq 6$\n",
    "\n"
   ]
  },
  {
   "attachments": {},
   "cell_type": "markdown",
   "metadata": {},
   "source": [
    "b) Resuelva el problema anterior geométricamente"
   ]
  },
  {
   "attachments": {},
   "cell_type": "markdown",
   "metadata": {},
   "source": [
    "<center><img src=\"./grafica1.png\" width=\"500px\"></center>"
   ]
  },
  {
   "attachments": {},
   "cell_type": "markdown",
   "metadata": {},
   "source": [
    "##### Resultado ->\n",
    "* Se observa que no es una región feasible por lo tanto no tiene solucion"
   ]
  },
  {
   "attachments": {},
   "cell_type": "markdown",
   "metadata": {},
   "source": [
    "c) Utilice información acerca del poblema lineal dual y los teoremas de\n",
    "dualidad para resolver el problema primal"
   ]
  },
  {
   "attachments": {},
   "cell_type": "markdown",
   "metadata": {},
   "source": [
    "--> revisar"
   ]
  },
  {
   "attachments": {},
   "cell_type": "markdown",
   "metadata": {},
   "source": [
    "2. Resuelva el problema anterior utilizando una implementación propia del\n",
    "método dual simplex\n"
   ]
  },
  {
   "cell_type": "code",
   "execution_count": 25,
   "metadata": {},
   "outputs": [],
   "source": [
    "from dualsimplex import  SimplexMethod,MAX_MODE,MIN_MODE\n",
    "import numpy as np"
   ]
  },
  {
   "cell_type": "code",
   "execution_count": 26,
   "metadata": {},
   "outputs": [
    {
     "name": "stdout",
     "output_type": "stream",
     "text": [
      "Dual:\n",
      "-2.00y1 + -3.00y2 ->  MIN\n",
      "y1 + 2.00y2 <= -2.0\n",
      "2.00y1 + -y2 <= -3.0\n",
      "3.00y1 + y2 <= -5.0\n",
      "y1 + -3.00y2 <= -6.0\n",
      "\n",
      "Iteration 0\n",
      "     |   y1   |   y2   |   y3   |   y4   |   y5   |   y6   |    b   |\n",
      "  y3 |   1.00 |   2.00 |   1.00 |   0.00 |   0.00 |   0.00 |  -2.00 |\n",
      "  y4 |   2.00 |  -1.00 |   0.00 |   1.00 |   0.00 |   0.00 |  -3.00 |\n",
      "  y5 |   3.00 |   1.00 |   0.00 |   0.00 |   1.00 |   0.00 |  -5.00 |\n",
      "  y6 |   1.00 |  -3.00 |   0.00 |   0.00 |   0.00 |   1.00 |  -6.00 |\n",
      "   F |   2.00 |   3.00 |   0.00 |   0.00 |   0.00 |   0.00 |  -0.00 |\n",
      "   y |   0.00 |   0.00 |  -2.00 |  -3.00 |  -5.00 |  -6.00 |\n",
      "\u000bariable fue removida por: 4\n",
      "     |   y1   |   y2   |   y3   |   y4   |   y5   |   y6   |    b   |\n",
      "  y3 |   1.67 |   0.00 |   1.00 |   0.00 |   0.00 |   0.67 |  -6.00 |\n",
      "  y4 |   1.67 |   0.00 |   0.00 |   1.00 |   0.00 |  -0.33 |  -1.00 |\n",
      "  y5 |   3.33 |   0.00 |   0.00 |   0.00 |   1.00 |   0.33 |  -7.00 |\n",
      "  y2 |  -0.33 |   1.00 |  -0.00 |  -0.00 |  -0.00 |  -0.33 |   2.00 |\n",
      "   F |   3.00 |   0.00 |   0.00 |   0.00 |   0.00 |   1.00 |  -6.00 |\n",
      "   y |   0.00 |   2.00 |  -6.00 |  -1.00 |  -7.00 |   0.00 |\n",
      "No existe la solucion\n"
     ]
    },
    {
     "data": {
      "text/plain": [
       "False"
      ]
     },
     "execution_count": 26,
     "metadata": {},
     "output_type": "execute_result"
    }
   ],
   "source": [
    "c1 = np.array([2,3,5,6])\n",
    "a1 = np.array([\n",
    "    [-1,-2,-3,-1],\n",
    "    [-2,1,-1,3]\n",
    "])\n",
    "b1 = np.array([-2,-3]) \n",
    "a1, b1, c1 = make_dual(a1, b1, c1)  # cambiar a dual\n",
    "simplex = SimplexMethod(c1, a1, b1, MIN_MODE)  # maximizar\n",
    "\n",
    "print(\"Dual:\")\n",
    "simplex.print_task()\n",
    "simplex.solve()"
   ]
  },
  {
   "attachments": {},
   "cell_type": "markdown",
   "metadata": {},
   "source": [
    "3. Considere el siguiente programa lineal\n",
    "\n",
    "    a) Escriba el problema dual y verifique que (4, 5) es una solucin factible.\n",
    "    \n",
    "    b) Use la información de la parte a) para derivar una solución  Óptima para los problemas dual y primal."
   ]
  },
  {
   "attachments": {},
   "cell_type": "markdown",
   "metadata": {},
   "source": [
    "<center><img src=\"2.png\" width=\"500px\"></center>"
   ]
  },
  {
   "attachments": {},
   "cell_type": "markdown",
   "metadata": {},
   "source": [
    "a) Maximizar \n",
    "\n",
    "$19w_1 + 57w_2$\n",
    "<br>\n",
    "$w_1 + 2w_2 > 10$\n",
    "<br>\n",
    "$w_1 +4w_2 > 24$\n",
    "<br>\n",
    "$2w_1 + 3w_2 > 20$\n",
    "<br>\n",
    "$3w_1 + 2w_2 > 20$\n",
    "<br>\n",
    "$5w_1 + w_2 > 25$\n",
    "<br>\n",
    "$w_1,w_2,>0$"
   ]
  },
  {
   "attachments": {},
   "cell_type": "markdown",
   "metadata": {},
   "source": [
    "a.1)\n",
    "\n",
    "\n",
    "4 + 2(5) = 14>10 ---> satisface la restriccion\n",
    "<br>\n",
    "4 + 4(5) = 24>24 ---> satisface la restriccion\n",
    "<br>\n",
    "2(4) + 3(5) = 23 > 20 ---> satisface la restriccion\n",
    "<br>\n",
    "3(4) + 2(5) = 22 > 20 ---> satisface la restriccion\n",
    "<br>\n",
    "5(4) + 5 = 25 > 25 \n",
    "<br>\n",
    "por lo tanto ( $w_1$ , $w_2$ ) = (4,5) es feasible para el dual"
   ]
  },
  {
   "cell_type": "code",
   "execution_count": 29,
   "metadata": {},
   "outputs": [
    {
     "name": "stdout",
     "output_type": "stream",
     "text": [
      "Primal:  361.0\n"
     ]
    }
   ],
   "source": [
    "from dual_simplex import simplex , to_objective_function_value,dual_simplex_method\n",
    "\n",
    "c3 = [10,24,20,20,25,0,0]\n",
    "A3 = [\n",
    "    [1,1,2,3,5,1,0],\n",
    "    [2,4,3,2,1,0,1]\n",
    "    ]\n",
    "b3 = [19, 57]\n",
    "\n",
    "primal3 = to_objective_function_value(c3, simplex(c3, A3, b3))\n",
    "print('Primal: ', primal3)"
   ]
  },
  {
   "cell_type": "code",
   "execution_count": 30,
   "metadata": {},
   "outputs": [
    {
     "name": "stdout",
     "output_type": "stream",
     "text": [
      "Dual:  361.0\n"
     ]
    }
   ],
   "source": [
    "ca = [19,57,0,0,0,0,0]\n",
    "Aa = [\n",
    "    [-1,-2,1,0,0,0,0],\n",
    "    [-1,-4,0,1,0,0,0],\n",
    "    [-2,-3,0,0,1,0,0],\n",
    "    [-3,-2,0,0,0,1,0],\n",
    "    [-5,-1,0,0,0,0,1]   \n",
    "]\n",
    "ba = [-10,-24,-20,-20,-25]\n",
    "\n",
    "dualb = to_objective_function_value(ca, dual_simplex_method(ca, Aa, ba))\n",
    "print('Dual: ', dualb)"
   ]
  },
  {
   "attachments": {},
   "cell_type": "markdown",
   "metadata": {},
   "source": [
    "4. Aplique el método primal dual al siguiente programa lineal\n",
    "\n",
    "Maximizar $x_1 + 6x_2$\n",
    "\n",
    "Sujeto a \n",
    "\n",
    "$x_1 + x_2 > 2$\n",
    "\n",
    "$x_1 + 3x_2 < 3$\n",
    "\n",
    "$x_1 , x_2 > 0 $"
   ]
  },
  {
   "attachments": {},
   "cell_type": "markdown",
   "metadata": {},
   "source": [
    "Convertir  >= a <= multiplicando ambos lados por (-1)\n",
    "\n",
    "Maximizar $x_1 + 6x_2$\n",
    "\n",
    "Sujeto a \n",
    "\n",
    "$-x_1 - x_2 < -2$\n",
    "\n",
    "$x_1 + 3x_2 < -3$\n",
    "\n",
    "$x_1 , x_2 > 0 $"
   ]
  },
  {
   "attachments": {},
   "cell_type": "markdown",
   "metadata": {},
   "source": [
    "En primal, hay 2 variables y 2 restricciones, por lo que en dual debe haber 2 restricciones y 2 variables\n",
    "\n",
    "En primal, el coeficiente de la función objetivo $ c_1 = 1, c_2 = 6 $ se convierte en constantes del lado derecho en dual\n",
    "\n",
    "En primal, las constantes del lado derecho $b_1 = -2, b_2 = -3 $ se convierten en coeficiente de función objetivo en dual\n",
    "\n",
    "En primal, la función objetivo está maximizando, por lo que en la función objetivo dual debe estar minimizando\n",
    "\n",
    "Sean $y1, y2$ las variables duales"
   ]
  },
  {
   "attachments": {},
   "cell_type": "markdown",
   "metadata": {},
   "source": [
    "$ -2 y_1 -3y_2 $\n",
    "\n",
    "Sujeto a\n",
    "\n",
    "$ y_1\t+ y_2 ≥\t1 $\n",
    "\n",
    "$ y_1\t+ 3y_2 ≥ 6 $\n",
    "\n",
    "$ y_1, y_2 ≥ 0 $"
   ]
  },
  {
   "attachments": {},
   "cell_type": "markdown",
   "metadata": {},
   "source": [
    "5.- \n",
    "\n",
    "Considere el siguiente problema de programación lineal y su tabla óptima final como sigue.\n",
    "\n",
    "<center><img src=\"captura_4.jpg\" width=\"500px\"></center>"
   ]
  },
  {
   "attachments": {},
   "cell_type": "markdown",
   "metadata": {},
   "source": [
    "a) Utilizando análisis de sensibilidad, encuentre la nueva solución óptima\n",
    "si el coeficiente de x_2 en la función objetivo pasa de 1 a 5."
   ]
  },
  {
   "attachments": {},
   "cell_type": "markdown",
   "metadata": {},
   "source": [
    "|       |       | $x_1$ | $x_2$ | $x_3$ | $x_4$ |$x_5$|$RHS$|          |\n",
    "| ----- | ----- | ----- | ----- | ----- | ----- | --- | --- | -------- |\n",
    "| z     | 1     | -5    | 3     | 2     | 0     | 16  |     |          |\n",
    "| $x_1$ | 0     | 1     | 2     | 1     | 1     | 0   | 8   | $\\frac{8}{2}$ = 4  |\n",
    "| $x_5$ | 0     | 0     | -3    | -1    | 1     | 1   | 12  | $\\frac{12}{3}$ = 4 |\n"
   ]
  },
  {
   "attachments": {},
   "cell_type": "markdown",
   "metadata": {},
   "source": [
    "|         |     | $x_1$ | $x_2$ | $x_3$ | $x_4$ | $x_5$ | $RHS$ |          \n",
    "| ------- | --- | ----- | ----- | ----- | ----- | ----- | ----- | \n",
    "| 2 $x_1$ | 0   | 1     | 0     | $\\frac{5}{3}$   | $\\frac{1}{3}$   | $\\frac{-2}{3}$  | $\\frac{16}{3}$  |          \n",
    "| 5 $x_2$ | 0   | 0     | 1     | -$\\frac{1}{3}$  | $\\frac{1}{3}$   | $\\frac{1}{3}$   | 4     | \n",
    "| z ->    |     | 0     | 0     | $\\frac{2}{3}$   | $\\frac{7}{3}$   | $\\frac{1}{3}$   | $\\frac{92}{3}$  |\n",
    "\n",
    "\n"
   ]
  },
  {
   "attachments": {},
   "cell_type": "markdown",
   "metadata": {},
   "source": [
    "Por lo tanto para toda Z >= 0 obtenemos optimo\n",
    "\n",
    "La solución es $\\frac{92}{3}$"
   ]
  }
 ],
 "metadata": {
  "kernelspec": {
   "display_name": "Python 3",
   "language": "python",
   "name": "python3"
  },
  "language_info": {
   "codemirror_mode": {
    "name": "ipython",
    "version": 3
   },
   "file_extension": ".py",
   "mimetype": "text/x-python",
   "name": "python",
   "nbconvert_exporter": "python",
   "pygments_lexer": "ipython3",
   "version": "3.10.5"
  },
  "orig_nbformat": 4,
  "vscode": {
   "interpreter": {
    "hash": "c8045260058ce78d91bfcba6f26a8332d255756bd7658ea995399a8c233e7bf8"
   }
  }
 },
 "nbformat": 4,
 "nbformat_minor": 2
}
