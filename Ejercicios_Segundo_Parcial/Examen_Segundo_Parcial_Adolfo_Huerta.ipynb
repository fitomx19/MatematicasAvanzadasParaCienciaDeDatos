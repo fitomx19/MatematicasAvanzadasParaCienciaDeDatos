{
 "cells": [
  {
   "attachments": {},
   "cell_type": "markdown",
   "metadata": {},
   "source": [
    "## Escuela Superior de Cómputo del IPN.\n",
    "### Matematicas Avanzadas para la Ciencia de Datos\n",
    "Profesor: Alfonso\n",
    "<br> \n",
    "Alumno: Huerta Ramírez  Michael Adolfo             \n",
    "\n",
    "<center>Segundo parcial - 14 de Diciembre de 2022 </center>\n",
    "<br>\n",
    "Boleta: 2020602866"
   ]
  },
  {
   "cell_type": "markdown",
   "metadata": {},
   "source": [
    "1. Considere el siguiente problema de programación lineal"
   ]
  },
  {
   "attachments": {},
   "cell_type": "markdown",
   "metadata": {},
   "source": [
    "<center><img src=\"./primero.png\" width=\"500px\"></center>"
   ]
  },
  {
   "cell_type": "markdown",
   "metadata": {},
   "source": [
    "a) Construya el problema dual asociado"
   ]
  },
  {
   "attachments": {},
   "cell_type": "markdown",
   "metadata": {},
   "source": [
    "$ -2y_1 + 3y_2  $\n",
    "<br>\n",
    "$-y_1 - 2y_2 \\geq 2$\n",
    "<br>\n",
    "$-2y_1 + y_2 \\geq 3$\n",
    "<br>\n",
    "$-3y_1 - y_2 \\geq 5$\n",
    "<br>\n",
    "$-y_1 + 3y_2 \\geq 6$\n",
    "\n"
   ]
  },
  {
   "attachments": {},
   "cell_type": "markdown",
   "metadata": {},
   "source": [
    "b) Resuelva el problema anterior geométricamente"
   ]
  },
  {
   "attachments": {},
   "cell_type": "markdown",
   "metadata": {},
   "source": [
    "<center><img src=\"./grafica1.png\" width=\"500px\"></center>"
   ]
  },
  {
   "attachments": {},
   "cell_type": "markdown",
   "metadata": {},
   "source": [
    "Se observa que no es una región feasible"
   ]
  },
  {
   "attachments": {},
   "cell_type": "markdown",
   "metadata": {},
   "source": [
    "c) Utilice información acerca del poblema lineal dual y los teoremas de\n",
    "dualidad para resolver el problema primal"
   ]
  },
  {
   "attachments": {},
   "cell_type": "markdown",
   "metadata": {},
   "source": [
    "--> revisar"
   ]
  },
  {
   "attachments": {},
   "cell_type": "markdown",
   "metadata": {},
   "source": [
    "2. Resuelva el problema anterior utilizando una implementación propia del\n",
    "método dual simplex\n"
   ]
  },
  {
   "cell_type": "code",
   "execution_count": 19,
   "metadata": {},
   "outputs": [],
   "source": [
    "import numpy as np\n",
    "\n",
    "MAX_MODE = 'MAX'\n",
    "MIN_MODE = 'MIN'\n",
    "\n",
    "\n",
    "class SimplexMethod:\n",
    "    def __init__(self, c, a, b, mode):  \n",
    "        # 2 variable  # number of variables #shape given the number of columns of numpy array\n",
    "        # 2 variables # numero de variables #shape da el numero de columnas de un array de numpy\n",
    "        self.main_variables_count = a.shape[1]\n",
    "        # 4 restricciones  # numero de restriciones\n",
    "        self.restrictions_count = a.shape[0]\n",
    "        self.variables_count = self.main_variables_count + \\\n",
    "            self.restrictions_count  # 6  # numero de variables\n",
    "        self.mode = mode  # recordamos el modelo de operacion\n",
    "        # coficiente de las funciones\n",
    "        self.c = np.concatenate([c, np.zeros((self.restrictions_count + 1))])\n",
    "        # valores de la funcion F (zj-cj)\n",
    "        self.f = np.zeros((self.variables_count + 1))\n",
    "        # indices de las variables basicas\n",
    "        self.basis = [\n",
    "            i + self.main_variables_count for i in range(self.restrictions_count)]\n",
    "        #(0+2,1+2,2+2,3+2)\n",
    "\n",
    "        self.init_table(a, b)\n",
    "\n",
    "    # Inicializar la tabla\n",
    "    def init_table(self, a, b):\n",
    "        # coeficiente de tabla 4x7\n",
    "        self.table = np.zeros(\n",
    "            (self.restrictions_count, self.variables_count + 1))\n",
    "       #insertar los valores de a en la tabla\n",
    "        for i in range(self.restrictions_count):\n",
    "            for j in range(self.main_variables_count):\n",
    "                self.table[i][j] = a[i][j]\n",
    "\n",
    "            for j in range(self.restrictions_count):\n",
    "                # variables artificiales\n",
    "                self.table[i][j + self.main_variables_count] = int(i == j)\n",
    "                self.table[i][-1] = b[i]\n",
    "\n",
    "  \n",
    "    # obtener un string para la fila con el valor de b mas negativo\n",
    "    def get_negative_b_row(self):  # que variable?\n",
    "        row = -1\n",
    "        for i, a_row in enumerate(self.table):\n",
    "            if a_row[-1] < 0 and (row == -1 or abs(a_row[-1]) > abs(self.table[row][-1])):\n",
    "                row = i\n",
    "        return row\n",
    "\n",
    "    # obteniendo una columna con el elemento de modulo maximo en una fila\n",
    "    \n",
    "    # dejando variable col la mas negativa\n",
    "    def get_negative_b_column(self, row):\n",
    "        column = -1\n",
    "\n",
    "        for i, aij in enumerate(self.table[row][:-1]):\n",
    "            if aij < 0 and (column == -1 or abs(aij) > abs(self.table[row][column])):\n",
    "                column = i\n",
    "\n",
    "        return column\n",
    "\n",
    "   \n",
    "    # remover los coeficientes libres negativos\n",
    "    def remove_negative_b(self):\n",
    "        while True:\n",
    "            row = self.get_negative_b_row()  #estamos buscando una fila que contenga un b negativo\n",
    "            if row == -1: # si no hay ninguno\n",
    "                return True # exito\n",
    "\n",
    "            # buscnado una columna permissive\n",
    "            column = self.get_negative_b_column(row)\n",
    "\n",
    "            if column == -1:\n",
    "                return False  # fallido para borrar\n",
    "            self.gauss(row, column)  # aplicando el metodo de gauss\n",
    "            self.calculate_f()\n",
    "            print('\\nLeaving variable has been removed in row:', row + 1)\n",
    "            self.print_table()\n",
    "\n",
    "\n",
    "    def gauss(self, row, column):  # column --> leaving variable row -->entering variable\n",
    "        # self.table[row][column] - pivot element\n",
    "        self.table[row] /= self.table[row][column]\n",
    "        #self.table[row] - leaving var row\n",
    "        for i in range(self.restrictions_count):\n",
    "            if i != row:  # neglecting the leaving variable row\n",
    "                # entering variable ooda corresponding col\n",
    "                self.table[i] -= self.table[row] * self.table[i][column]\n",
    "\n",
    "        # changing the the variable number in table based on leaving and entering variable\n",
    "        self.basis[row] = column\n",
    "\n",
    "    # calculation of F values\n",
    "\n",
    "    def calculate_f(self):\n",
    "        for i in range(self.variables_count + 1):\n",
    "            self.f[i] = -self.c[i]\n",
    "\n",
    "            for j in range(self.restrictions_count):\n",
    "                self.f[i] += self.c[self.basis[j]] * self.table[j][i]\n",
    "\n",
    "    # calculation of simplex relations for column column\n",
    "\n",
    "    def get_relations(self, column):\n",
    "        q = []\n",
    "\n",
    "        for i in range(self.restrictions_count):\n",
    "            if self.table[i][column] == 0:\n",
    "                # if any value results in infinity we return it and stop\n",
    "                q.append(np.inf)\n",
    "\n",
    "            else:\n",
    "                q_i = self.table[i][-1] / \\\n",
    "                    self.table[i][column]  # ratio calculation\n",
    "                q.append(q_i if q_i >= 0 else np.inf)\n",
    "\n",
    "        return q\n",
    "\n",
    "    # obteniendo la solucion\n",
    "    def get_solve(self):\n",
    "        y = np.zeros((self.variables_count))\n",
    "\n",
    "        # llena los valores de las variables basicas\n",
    "        for i in range(self.restrictions_count):\n",
    "            y[self.basis[i]] = self.table[i][-1]\n",
    "\n",
    "        return y\n",
    "\n",
    "    # decision\n",
    "    def solve(self):\n",
    "        print('\\nIteration 0')\n",
    "        self.calculate_f()\n",
    "        self.print_table()\n",
    "\n",
    "        if not self.remove_negative_b():  # if the b value is not there then it is infeasible\n",
    "            print('Solve does not exist')\n",
    "            return False\n",
    "\n",
    "        iteration = 1\n",
    "\n",
    "        while True:\n",
    "            self.calculate_f()\n",
    "            print('\\nIteration', iteration)\n",
    "            self.print_table()\n",
    "\n",
    "            # if the plan is optimal\n",
    "            if all(fi >= 0 if self.mode == MAX_MODE else fi <= 0 for fi in self.f[:-1]):\n",
    "                break  # then we finish the work\n",
    "\n",
    "            column = (np.argmin if self.mode == MAX_MODE else np.argmax)(\n",
    "                self.f[:-1])  # we get the resolving column\n",
    "            # we get simplex relations for the found column\n",
    "            q = self.get_relations(column)\n",
    "\n",
    "            if all(qi == np.inf for qi in q):  # if the resolving string could not be found\n",
    "                # we inform you that there is no solution\n",
    "                print('Solve does not exist')\n",
    "                return False\n",
    "\n",
    "            self.gauss(np.argmin(q), column)  # performing a Gaussian exception\n",
    "            iteration += 1\n",
    "\n",
    "        return True  # there is a solution\n",
    "\n",
    "    # simplex table output\n",
    "    def print_table(self):\n",
    "        print('     |' + ''.join(['   y%-3d |' % (i + 1)\n",
    "              for i in range(self.variables_count)]) + '    b   |')\n",
    "\n",
    "        for i in range(self.restrictions_count):\n",
    "            print('%4s |' % ('y' + str(self.basis[i] + 1)) + ''.join(\n",
    "                [' %6.2f |' % aij for j, aij in enumerate(self.table[i])]))\n",
    "\n",
    "        print('   F |' + ''.join([' %6.2f |' % aij for aij in self.f]))\n",
    "        print('   y |' + ''.join([' %6.2f |' % xi for xi in self.get_solve()]))\n",
    "\n",
    "    # coefficient output #horizontal y1,y2,y3,...\n",
    "    def print_coef(self, ai, i):\n",
    "        if ai == 1:\n",
    "            return 'y%d' % (i + 1)\n",
    "\n",
    "        if ai == -1:\n",
    "            return '-y%d' % (i + 1)\n",
    "\n",
    "        return '%.2fy%d' % (ai, i + 1)\n",
    "\n",
    "    # output of the task\n",
    "    def print_task(self, full=False):\n",
    "        print(' + '.join(['%.2fy%d' % (ci, i + 1) for i, ci in enumerate(\n",
    "            self.c[:self.main_variables_count]) if ci != 0]), '-> ', self.mode)\n",
    "\n",
    "        for row in self.table:\n",
    "            if full:\n",
    "                print(' + '.join([self.print_coef(ai, i) for i, ai in enumerate(\n",
    "                    row[:self.variables_count]) if ai != 0]), '=', row[-1])\n",
    "            else:\n",
    "                print(' + '.join([self.print_coef(ai, i) for i, ai in enumerate(\n",
    "                    row[:self.main_variables_count]) if ai != 0]), '<=', row[-1])\n",
    "\n",
    "# translation into a dual task\n",
    "\n",
    "\n",
    "def make_dual(a, b, c):\n",
    "    return -a.T, -c, b"
   ]
  },
  {
   "cell_type": "code",
   "execution_count": 21,
   "metadata": {},
   "outputs": [
    {
     "name": "stdout",
     "output_type": "stream",
     "text": [
      "Dual task:\n",
      "-2.00y1 + 3.00y2 ->  MAX\n",
      "-y1 + -2.00y2 + y3 <= 2.0\n",
      "-2.00y1 + y2 + y4 <= 3.0\n",
      "-3.00y1 + -y2 + y5 <= 5.0\n",
      "-y1 + 3.00y2 + y6 <= 6.0\n",
      "\n",
      "Iteration 0\n",
      "     |   y1   |   y2   |   y3   |   y4   |   y5   |   y6   |   y7   |   y8   |   y9   |   y10  |    b   |\n",
      "  y7 |  -1.00 |  -2.00 |   1.00 |   0.00 |   0.00 |   0.00 |   1.00 |   0.00 |   0.00 |   0.00 |   2.00 |\n",
      "  y8 |  -2.00 |   1.00 |   0.00 |   1.00 |   0.00 |   0.00 |   0.00 |   1.00 |   0.00 |   0.00 |   3.00 |\n",
      "  y9 |  -3.00 |  -1.00 |   0.00 |   0.00 |   1.00 |   0.00 |   0.00 |   0.00 |   1.00 |   0.00 |   5.00 |\n",
      " y10 |  -1.00 |   3.00 |   0.00 |   0.00 |   0.00 |   1.00 |   0.00 |   0.00 |   0.00 |   1.00 |   6.00 |\n",
      "   F |   2.00 |  -3.00 |   0.00 |   0.00 |   0.00 |   0.00 |   0.00 |   0.00 |   0.00 |   0.00 |   0.00 |\n",
      "   y |   0.00 |   0.00 |   0.00 |   0.00 |   0.00 |   0.00 |   2.00 |   3.00 |   5.00 |   6.00 |\n",
      "\n",
      "Iteration 1\n",
      "     |   y1   |   y2   |   y3   |   y4   |   y5   |   y6   |   y7   |   y8   |   y9   |   y10  |    b   |\n",
      "  y7 |  -1.00 |  -2.00 |   1.00 |   0.00 |   0.00 |   0.00 |   1.00 |   0.00 |   0.00 |   0.00 |   2.00 |\n",
      "  y8 |  -2.00 |   1.00 |   0.00 |   1.00 |   0.00 |   0.00 |   0.00 |   1.00 |   0.00 |   0.00 |   3.00 |\n",
      "  y9 |  -3.00 |  -1.00 |   0.00 |   0.00 |   1.00 |   0.00 |   0.00 |   0.00 |   1.00 |   0.00 |   5.00 |\n",
      " y10 |  -1.00 |   3.00 |   0.00 |   0.00 |   0.00 |   1.00 |   0.00 |   0.00 |   0.00 |   1.00 |   6.00 |\n",
      "   F |   2.00 |  -3.00 |   0.00 |   0.00 |   0.00 |   0.00 |   0.00 |   0.00 |   0.00 |   0.00 |   0.00 |\n",
      "   y |   0.00 |   0.00 |   0.00 |   0.00 |   0.00 |   0.00 |   2.00 |   3.00 |   5.00 |   6.00 |\n",
      "\n",
      "Iteration 2\n",
      "     |   y1   |   y2   |   y3   |   y4   |   y5   |   y6   |   y7   |   y8   |   y9   |   y10  |    b   |\n",
      "  y7 |  -1.67 |   0.00 |   1.00 |   0.00 |   0.00 |   0.67 |   1.00 |   0.00 |   0.00 |   0.67 |   6.00 |\n",
      "  y8 |  -1.67 |   0.00 |   0.00 |   1.00 |   0.00 |  -0.33 |   0.00 |   1.00 |   0.00 |  -0.33 |   1.00 |\n",
      "  y9 |  -3.33 |   0.00 |   0.00 |   0.00 |   1.00 |   0.33 |   0.00 |   0.00 |   1.00 |   0.33 |   7.00 |\n",
      "  y2 |  -0.33 |   1.00 |   0.00 |   0.00 |   0.00 |   0.33 |   0.00 |   0.00 |   0.00 |   0.33 |   2.00 |\n",
      "   F |   1.00 |   0.00 |   0.00 |   0.00 |   0.00 |   1.00 |   0.00 |   0.00 |   0.00 |   1.00 |   6.00 |\n",
      "   y |   0.00 |   2.00 |   0.00 |   0.00 |   0.00 |   0.00 |   6.00 |   1.00 |   7.00 |   0.00 |\n"
     ]
    },
    {
     "data": {
      "text/plain": [
       "True"
      ]
     },
     "execution_count": 21,
     "metadata": {},
     "output_type": "execute_result"
    }
   ],
   "source": [
    "c = np.array([-2,3,0,0,0,0])\n",
    "a = np.array([\n",
    "    [-1,-2,1,0,0,0],\n",
    "    [-2,1,0,1,0,0],\n",
    "    [-3,-1,0,0,1,0],\n",
    "    [-1,3,0,0,0,1]\n",
    "])\n",
    "b = np.array([2,3,5,6]) \n",
    "\n",
    "#a, b, c = make_dual(a, b, c)  # cambiar a dual\n",
    "simplex = SimplexMethod(c, a, b, MAX_MODE)  # maximizar\n",
    "\n",
    "print(\"Tarea Dual:\")\n",
    "simplex.print_task()\n",
    "simplex.solve()"
   ]
  },
  {
   "attachments": {},
   "cell_type": "markdown",
   "metadata": {},
   "source": [
    "3. Considere el siguiente programa lineal\n",
    "\n",
    "    a) Escriba el problema dual y verifique que (4, 5) es una solucin factible.\n",
    "    \n",
    "    b) Use la información de la parte a) para derivar una solución  Óptima para los problemas dual y primal."
   ]
  },
  {
   "attachments": {},
   "cell_type": "markdown",
   "metadata": {},
   "source": [
    "<center><img src=\"2.png\" width=\"500px\"></center>"
   ]
  },
  {
   "attachments": {},
   "cell_type": "markdown",
   "metadata": {},
   "source": [
    "Minimizar \n",
    "\n",
    "$19w_1 + 57w_2$\n",
    "<br>\n",
    "$w_1 + 2w_2 > 10$\n",
    "<br>\n",
    "$w_1 +4w_2 > 24$\n",
    "<br>\n",
    "$2w_1 + 3w_2 > 20$\n",
    "<br>\n",
    "$3w_1 + 2w_2 > 20$\n",
    "<br>\n",
    "$5w_1 + w_2 > 25$\n",
    "<br>\n",
    "$w_1,w_2,>0$"
   ]
  },
  {
   "cell_type": "markdown",
   "metadata": {},
   "source": []
  }
 ],
 "metadata": {
  "kernelspec": {
   "display_name": "base",
   "language": "python",
   "name": "python3"
  },
  "language_info": {
   "codemirror_mode": {
    "name": "ipython",
    "version": 3
   },
   "file_extension": ".py",
   "mimetype": "text/x-python",
   "name": "python",
   "nbconvert_exporter": "python",
   "pygments_lexer": "ipython3",
   "version": "3.9.7"
  },
  "orig_nbformat": 4,
  "vscode": {
   "interpreter": {
    "hash": "12e7b2db913c7cced4d5bf71ce365c438f2053887e824f813caa9208ccef4b13"
   }
  }
 },
 "nbformat": 4,
 "nbformat_minor": 2
}
