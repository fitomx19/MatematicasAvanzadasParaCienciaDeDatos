{
 "cells": [
  {
   "attachments": {},
   "cell_type": "markdown",
   "metadata": {},
   "source": [
    "## Escuela Superior de Cómputo del IPN.\n",
    "### Matematicas Avanzadas para la Ciencia de Datos\n",
    "Profesor: Alfonso\n",
    "<br> \n",
    "Alumno: Huerta Ramírez  Michael Adolfo             \n",
    "\n",
    "<center>Segundo parcial - 14 de Diciembre de 2022 </center>\n",
    "<br>\n",
    "Boleta: 2020602866"
   ]
  },
  {
   "cell_type": "markdown",
   "metadata": {},
   "source": [
    "1. Considere el siguiente problema de programación lineal"
   ]
  },
  {
   "cell_type": "markdown",
   "metadata": {},
   "source": [
    "a) Construya el problema dual asociado"
   ]
  },
  {
   "attachments": {},
   "cell_type": "markdown",
   "metadata": {},
   "source": [
    "$ 2y_1 + 3y_2  $\n",
    "<br>\n",
    "$y_1 + 2y_2 <= 2$\n",
    "<br>\n",
    "$2y_1 - y_2 <= 3$\n",
    "<br>\n",
    "$3y_1 + y_2 <= 5$\n",
    "<br>\n",
    "$y_1 - 3y_2 <= 6$\n",
    "\n"
   ]
  },
  {
   "attachments": {},
   "cell_type": "markdown",
   "metadata": {},
   "source": [
    "b) Resuelva el problema anterior geométricamente"
   ]
  },
  {
   "attachments": {},
   "cell_type": "markdown",
   "metadata": {},
   "source": [
    "c) Utilice informaci ́on acerca del poblema lineal dual y los teoremas de\n",
    "dualidad para resolver el problema primal"
   ]
  },
  {
   "attachments": {},
   "cell_type": "markdown",
   "metadata": {},
   "source": [
    "2. Resuelva el problema anterior utilizando una implementaci ́on propia del\n",
    "método dual simplex\n"
   ]
  },
  {
   "attachments": {},
   "cell_type": "markdown",
   "metadata": {},
   "source": [
    "3. Considere el siguiente programa lineal\n",
    "\n",
    "    a) Escriba el problema dual y verifique que (4, 5) es una solucin factible.\n",
    "    \n",
    "    b) Use la información de la parte a) para derivar una solución  ́optima para los problemas dual y primal."
   ]
  },
  {
   "cell_type": "markdown",
   "metadata": {},
   "source": []
  }
 ],
 "metadata": {
  "kernelspec": {
   "display_name": "Python 3",
   "language": "python",
   "name": "python3"
  },
  "language_info": {
   "name": "python",
   "version": "3.10.5 (tags/v3.10.5:f377153, Jun  6 2022, 16:14:13) [MSC v.1929 64 bit (AMD64)]"
  },
  "orig_nbformat": 4,
  "vscode": {
   "interpreter": {
    "hash": "c8045260058ce78d91bfcba6f26a8332d255756bd7658ea995399a8c233e7bf8"
   }
  }
 },
 "nbformat": 4,
 "nbformat_minor": 2
}
