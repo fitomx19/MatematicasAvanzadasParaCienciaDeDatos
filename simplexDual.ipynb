{
 "cells": [
  {
   "cell_type": "markdown",
   "metadata": {},
   "source": [
    "### Metodo Simplex Dual\n",
    "##### Adolfo Huerta Ramirez"
   ]
  },
  {
   "cell_type": "markdown",
   "metadata": {},
   "source": [
    "Min\n",
    "$3x1+10x2$\n",
    "<br>\n",
    "$x1+2x2\\geq4$\n",
    "<br>\n",
    "$5x1+2x2\\geq12$\n",
    "<br>\n",
    "$x1,x2\\geq0$"
   ]
  },
  {
   "cell_type": "code",
   "execution_count": 2,
   "metadata": {},
   "outputs": [],
   "source": [
    "#las 3 posiciones extra en el arreglo ya incluye los valores de pivoteo\n",
    "\n",
    "c = [315, 110, 50, 0, 0, 0, 0]\n",
    "#aqui se incluyen los valores de pivoteo\n",
    "A = [\n",
    "    [-15, -2, -1, 1, 0, 0],\n",
    "    [ -7.5, -3, -1, 0, 1, 0],\n",
    "    [ -5, -2, -1, 0, 0, 1]\n",
    "]\n",
    "#se muestran los valores para despues de la desigualdad\n",
    "b = [-200, -150, -120, 0]"
   ]
  },
  {
   "cell_type": "code",
   "execution_count": 4,
   "metadata": {},
   "outputs": [],
   "source": [
    "def to_tableau(c, A, b):\n",
    "    #introduce el valor a utilizar\n",
    "    xb = [eq + [x] for eq, x in zip(A, b)]\n",
    "    #print(xb)\n",
    "    z = c + [0]\n",
    "    #print(z)\n",
    "    return xb + [z]"
   ]
  },
  {
   "cell_type": "code",
   "execution_count": 8,
   "metadata": {},
   "outputs": [
    {
     "data": {
      "text/plain": [
       "[[-15, -2, -1, 1, 0, 0, -200],\n",
       " [-7.5, -3, -1, 0, 1, 0, -150],\n",
       " [-5, -2, -1, 0, 0, 1, -120],\n",
       " [315, 110, 50, 0, 0, 0, 0, 0]]"
      ]
     },
     "execution_count": 8,
     "metadata": {},
     "output_type": "execute_result"
    }
   ],
   "source": [
    "tablaPrueba = to_tableau(c, A, b)\n",
    "tablaPrueba"
   ]
  }
 ],
 "metadata": {
  "kernelspec": {
   "display_name": "Python 3.10.5 64-bit",
   "language": "python",
   "name": "python3"
  },
  "language_info": {
   "codemirror_mode": {
    "name": "ipython",
    "version": 3
   },
   "file_extension": ".py",
   "mimetype": "text/x-python",
   "name": "python",
   "nbconvert_exporter": "python",
   "pygments_lexer": "ipython3",
   "version": "3.10.5"
  },
  "orig_nbformat": 4,
  "vscode": {
   "interpreter": {
    "hash": "c8045260058ce78d91bfcba6f26a8332d255756bd7658ea995399a8c233e7bf8"
   }
  }
 },
 "nbformat": 4,
 "nbformat_minor": 2
}
