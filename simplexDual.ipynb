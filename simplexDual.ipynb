{
 "cells": [
  {
   "cell_type": "markdown",
   "metadata": {},
   "source": [
    "### Metodo Simplex Dual\n",
    "##### Adolfo Huerta Ramirez"
   ]
  },
  {
   "cell_type": "markdown",
   "metadata": {},
   "source": [
    "Min\n",
    "$315A+110B+50C$\n",
    "<br>\n",
    "$15A+2B+C\\geq200$\n",
    "<br>\n",
    "$7.5A+3B+C\\geq150$\n",
    "<br>\n",
    "$5A+2B+\\geq120$\n",
    "<br>\n",
    "$A,B,C\\geq0$"
   ]
  },
  {
   "cell_type": "code",
   "execution_count": 2,
   "metadata": {},
   "outputs": [],
   "source": [
    "#las 3 posiciones extra en el arreglo ya incluye los valores de pivoteo\n",
    "\n",
    "c = [315, 110, 50, 0, 0, 0, 0]\n",
    "#aqui se incluyen los valores de pivoteo\n",
    "A = [\n",
    "    [-15, -2, -1, 1, 0, 0],\n",
    "    [ -7.5, -3, -1, 0, 1, 0],\n",
    "    [ -5, -2, -1, 0, 0, 1]\n",
    "]\n",
    "#se muestran los valores para despues de la desigualdad\n",
    "b = [-200, -150, -120, 0]"
   ]
  },
  {
   "cell_type": "code",
   "execution_count": 4,
   "metadata": {},
   "outputs": [],
   "source": [
    "def to_tableau(c, A, b):\n",
    "    #introduce el valor a utilizar\n",
    "    xb = [eq + [x] for eq, x in zip(A, b)]\n",
    "    #print(xb)\n",
    "    z = c + [0]\n",
    "    #print(z)\n",
    "    return xb + [z]"
   ]
  },
  {
   "cell_type": "code",
   "execution_count": 8,
   "metadata": {},
   "outputs": [
    {
     "data": {
      "text/plain": [
       "[[-15, -2, -1, 1, 0, 0, -200],\n",
       " [-7.5, -3, -1, 0, 1, 0, -150],\n",
       " [-5, -2, -1, 0, 0, 1, -120],\n",
       " [315, 110, 50, 0, 0, 0, 0, 0]]"
      ]
     },
     "execution_count": 8,
     "metadata": {},
     "output_type": "execute_result"
    }
   ],
   "source": [
    "tablaPrueba = to_tableau(c, A, b)\n",
    "tablaPrueba"
   ]
  },
  {
   "cell_type": "code",
   "execution_count": 12,
   "metadata": {},
   "outputs": [],
   "source": [
    "def mejoramiento(tablaPrueba):\n",
    "    z = tablaPrueba[-1]\n",
    "    #print(z)\n",
    "    return any(x > 0 for x in z[:-1])"
   ]
  },
  {
   "cell_type": "code",
   "execution_count": 13,
   "metadata": {},
   "outputs": [
    {
     "name": "stdout",
     "output_type": "stream",
     "text": [
      "[315, 110, 50, 0, 0, 0, 0, 0]\n"
     ]
    },
    {
     "data": {
      "text/plain": [
       "True"
      ]
     },
     "execution_count": 13,
     "metadata": {},
     "output_type": "execute_result"
    }
   ],
   "source": [
    "mejoramiento(tablaPrueba)"
   ]
  },
  {
   "cell_type": "code",
   "execution_count": 24,
   "metadata": {},
   "outputs": [],
   "source": [
    "import math\n",
    "import numpy as np\n",
    "\n",
    "def get_pivot_position(tabla):\n",
    "    z = tabla[-1]\n",
    "    column = next(i for i, x in enumerate(z[:-1]) if x > 0)\n",
    "    #print(z)\n",
    "    #print(column)\n",
    "\n",
    "    restrictions = []\n",
    "    for eq in tabla[:-1]:\n",
    "        el = eq[column]\n",
    "        restrictions.append(math.inf if el >= 0 else eq[-1] / el)\n",
    "    print(restrictions)\n",
    "    #row = restrictions.index(min(restrictions))\n",
    "    #return row, column"
   ]
  },
  {
   "cell_type": "code",
   "execution_count": 25,
   "metadata": {},
   "outputs": [
    {
     "name": "stdout",
     "output_type": "stream",
     "text": [
      "[13.333333333333334, 20.0, 24.0]\n"
     ]
    }
   ],
   "source": [
    "get_pivot_position(tablaPrueba)"
   ]
  },
  {
   "cell_type": "markdown",
   "metadata": {},
   "source": []
  }
 ],
 "metadata": {
  "kernelspec": {
   "display_name": "Python 3.9.7 ('base')",
   "language": "python",
   "name": "python3"
  },
  "language_info": {
   "codemirror_mode": {
    "name": "ipython",
    "version": 3
   },
   "file_extension": ".py",
   "mimetype": "text/x-python",
   "name": "python",
   "nbconvert_exporter": "python",
   "pygments_lexer": "ipython3",
   "version": "3.9.7"
  },
  "orig_nbformat": 4,
  "vscode": {
   "interpreter": {
    "hash": "12e7b2db913c7cced4d5bf71ce365c438f2053887e824f813caa9208ccef4b13"
   }
  }
 },
 "nbformat": 4,
 "nbformat_minor": 2
}
