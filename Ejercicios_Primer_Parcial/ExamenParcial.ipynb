{
 "cells": [
  {
   "cell_type": "markdown",
   "metadata": {},
   "source": [
    "### Examen Parcial  Matematicas Discretas -> 1er Parcial"
   ]
  },
  {
   "cell_type": "markdown",
   "metadata": {},
   "source": [
    "### 1) Primer ejercicio ->\n",
    "Cuaderno"
   ]
  },
  {
   "cell_type": "markdown",
   "metadata": {},
   "source": [
    "Puntos Criticos =>\n",
    "\n",
    "A $(0,14/9,-20/9)$\n",
    "<br>\n",
    "B $(14/3,0,2/3)$\n",
    "<br>\n",
    "C $(0,-2/3,20/3)$"
   ]
  },
  {
   "cell_type": "markdown",
   "metadata": {},
   "source": [
    "### 2) Segundo ejercicio ->\n",
    "Resuelvaelsiguienteproblema,usando el metodo simplex de forma manual y compare su respuesta con la obtenida utilizando una implementacion propia en python del metodo simplex.\n",
    "\n",
    "Despues de realizar el metodo simplex en papel , lo compararemos en el metodo simplex que programe"
   ]
  },
  {
   "cell_type": "code",
   "execution_count": 3,
   "metadata": {},
   "outputs": [],
   "source": [
    "import simplex_program as sp "
   ]
  },
  {
   "cell_type": "code",
   "execution_count": 5,
   "metadata": {},
   "outputs": [
    {
     "name": "stdout",
     "output_type": "stream",
     "text": [
      "[[2, 1, -1, 1, 0, 0, 6], [1, 2, 1, 0, 1, 0, 12], [-1, 3, 0, 0, 0, 1, 9]]\n",
      "[1, -2, 1, 0, 0, 0, 0]\n"
     ]
    },
    {
     "data": {
      "text/plain": [
       "[6.0, 0, 6.0, 0, 0, 15.0, 0]"
      ]
     },
     "execution_count": 5,
     "metadata": {},
     "output_type": "execute_result"
    }
   ],
   "source": [
    "#las 3 posiciones extra en el arreglo ya incluye los valores de pivoteo\n",
    "c = [1, -2, 1, 0, 0 , 0]\n",
    "#aqui se incluyen los valores de pivoteo\n",
    "A = [\n",
    "    [ 2, 1, -1, 1, 0 , 0],\n",
    "    [ 1, 2, 1, 0, 1, 0],\n",
    "    [ -1, 3, 0, 0,0, 1]\n",
    "]\n",
    "#se muestran los valores para despues de la desigualdad\n",
    "b = [6, 12, 9]\n",
    "sp.simplex(c,A,b)"
   ]
  },
  {
   "cell_type": "markdown",
   "metadata": {},
   "source": [
    "Como podemos observar , ambos coinciden en resultados ->\n",
    "\n",
    "$x_1 = 6 $\n",
    "<br>\n",
    "$x_2 = 0$\n",
    "<br>\n",
    "$x_3 = 6$"
   ]
  },
  {
   "cell_type": "markdown",
   "metadata": {},
   "source": [
    "### 3.- Tercer Ejercicio\n",
    "Una fabrica agrıcola produce alimento para el ganado. El alimento para el ganado se compone de tres ingredientes principales: maız, cal y harina de pescado. Estos ingredientes contienen tres nutrientes: proteınas, calcio y vitaminas. La siguiente tabla indica el contenido de nutrientes por libra de cada ingrediente"
   ]
  },
  {
   "cell_type": "markdown",
   "metadata": {},
   "source": [
    "$x_1 + x_2 + x_3 = 1$\n",
    "<br>\n",
    "$25x_1 + 15x_2 + 25x_3 + x_5 = 22$\n",
    "<br>\n",
    "$15x_1 + 30x_2 + 20x_3 - x_6 = 20$\n",
    "<br>\n",
    "$5x_1 + 12x_2 + 8x_3 - x_7 = 6$\n",
    "<br>\n",
    "$5x_1 + 12x_2 + 8x_3 + x_8 = 12$\n",
    "<br>\n",
    "$x_j = 0 $\n",
    "<br>\n",
    "\n",
    "\\begin{equation}\n",
    "\\begin{bmatrix}\n",
    "1 & 0 & 0 & 0 & 0 & 0\\\\\n",
    "25 & -1 & 0 & 0 & 0 & 0\\\\\n",
    "-25 & 0 & 0 & 0 & 0 & 0\\\\\n",
    "20 & 0 & 0 & -1 & 0 & 0\\\\\n",
    "8 & 0 & 0 & 0 & -1 & 0 \\\\\n",
    "-8 & 0 & 0 & 0 & 0 & 1\n",
    "\\end{bmatrix}\n",
    "\\end{equation}\n",
    "\n",
    "<br>\n",
    "\n",
    "$x_B$ = \n",
    "\\begin{equation}\n",
    "\\begin{bmatrix}\n",
    "x_3 \\\\\n",
    "x_4 \\\\\n",
    "x_5 \\\\\n",
    "x_6 \\\\\n",
    "x_7 \\\\\n",
    "x_8\n",
    "\\end{bmatrix}\n",
    "\\end{equation}\n",
    "\n",
    "<br>\n",
    " x_3 = 1-  x_1  -  x_2 \n",
    "<br>\n",
    " x_4  = 7 - 10  x_2 \n",
    "z = 0.116 + 0.3  x_3  + 0.012  x_4 \n",
    "<br>\n",
    "\n",
    "La mezcla menos costosa esta dada por ->\n",
    "\n",
    "$x_B$ = \n",
    "\\begin{equation}\n",
    "\\begin{bmatrix}\n",
    "x_1 = 0.3 \\\\\n",
    "x_2 = 0.7 \\\\\n",
    "x_3 = 0 \\\\\n",
    "x_4 = 0\\\\\n",
    "x_5 = 4\\\\\n",
    "x_6 = 5.5\\\\\n",
    "x_7 = 3.9\\\\\n",
    "x_8 = 2.1\n",
    "\\end{bmatrix}\n",
    "\\end{equation}"
   ]
  },
  {
   "cell_type": "markdown",
   "metadata": {},
   "source": [
    "¿Cuantas operaciones se utilizan del metodo simplex?"
   ]
  },
  {
   "cell_type": "code",
   "execution_count": 15,
   "metadata": {},
   "outputs": [],
   "source": [
    "import math\n",
    "import numpy as np\n",
    "\n",
    "def to_tableau(c, A, b):\n",
    "    #introduce el valor a utilizar\n",
    "    xb = [eq + [x] for eq, x in zip(A, b)]\n",
    "    print(xb)\n",
    "    z = c + [0]\n",
    "    print(z)\n",
    "    return xb + [z]\n",
    "def can_be_improved(tabla):\n",
    "    z = tabla[-1]\n",
    "    \n",
    "    return any(x > 0 for x in z[:-1])\n",
    "\n",
    "def get_pivot_position(tabla):\n",
    "    z = tabla[-1]\n",
    "    column = next(i for i, x in enumerate(z[:-1]) if x > 0)\n",
    "    \n",
    "    restrictions = []\n",
    "    for eq in tabla[:-1]:\n",
    "        el = eq[column]\n",
    "        restrictions.append(math.inf if el <= 0 else eq[-1] / el)\n",
    "\n",
    "    row = restrictions.index(min(restrictions))\n",
    "    return row, column\n",
    "def pivot_step(tabla, pivot_position):\n",
    "    nueva_tabla = [[] for eq in tabla]\n",
    "    \n",
    "    i, j = pivot_position\n",
    "    pivot_value = tabla[i][j]\n",
    "    nueva_tabla[i] = np.array(tabla[i]) / pivot_value\n",
    "    \n",
    "    for eq_i, eq in enumerate(tabla):\n",
    "        if eq_i != i:\n",
    "            #aqui se pone el multiplicador de cada uno de los pasos de pivoteo\n",
    "            multiplicador = np.array(nueva_tabla[i]) * tabla[eq_i][j]\n",
    "            nueva_tabla[eq_i] = np.array(tabla[eq_i]) - multiplicador\n",
    "   \n",
    "    return nueva_tabla\n",
    "def is_basic(columna):\n",
    "    return sum(columna) == 1 and len([c for c in columna if c == 0]) == len(columna) - 1\n",
    "\n",
    "def get_solution(tabla):\n",
    "    columns = np.array(tabla).T\n",
    "    soluciones = []\n",
    "    for column in columns:\n",
    "        solucion = 0\n",
    "        if is_basic(column):\n",
    "            one_index = column.tolist().index(1)\n",
    "            solucion = columns[-1][one_index]\n",
    "        soluciones.append(solucion)\n",
    "        \n",
    "    return soluciones\n",
    "def simplex_iteraciones(c, A, b):\n",
    "    tabla = to_tableau(c, A, b)\n",
    "    iteracion = 0\n",
    "    while can_be_improved(tabla):\n",
    "        print(f\"iteracion numero : {iteracion}\")\n",
    "        pivot_position = get_pivot_position(tabla)\n",
    "        tabla = pivot_step(tabla, pivot_position)\n",
    "        iteracion += 1\n",
    "\n",
    "    #return get_solution(tabla)\n"
   ]
  },
  {
   "cell_type": "code",
   "execution_count": 16,
   "metadata": {},
   "outputs": [
    {
     "name": "stdout",
     "output_type": "stream",
     "text": [
      "[[25, 15, 25, 0, 1, 0, 0, 0, 1, 0, 0, 0, 22], [15, 30, 20, 0, 0, -1, 0, 0, 0, 1, 0, 0, 20], [5, 12, 8, 0, 0, 0, -1, 0, 0, 0, 1, 0, 6], [5, 12, 8, 0, 0, 0, 0, 1, 0, 0, 0, 1, 12]]\n",
      "[1, 1, 1, 0, 0, 0, 0, 0, 0, 0, 0, 0, 0]\n",
      "iteracion numero : 0\n",
      "iteracion numero : 1\n",
      "iteracion numero : 2\n",
      "iteracion numero : 3\n"
     ]
    }
   ],
   "source": [
    "#las 3 posiciones extra en el arreglo ya incluye los valores de pivoteo\n",
    "c1 = [1,1,1,0,0,0,0,0,0,0,0,0]\n",
    "#aqui se incluyen los valores de pivoteo\n",
    "A1 = [\n",
    "    [ 25, 15, 25, 0, 1, 0,  0, 0, 1, 0, 0, 0],\n",
    "    [ 15, 30, 20, 0, 0, -1, 0, 0, 0, 1, 0, 0],\n",
    "    [ 5,  12, 8,  0, 0, 0, -1, 0, 0, 0, 1, 0],\n",
    "    [ 5,  12, 8,  0, 0, 0,  0, 1, 0, 0, 0, 1]\n",
    "]\n",
    "#se muestran los valores para despues de la desigualdad\n",
    "b1 = [22, 20, 6,12]\n",
    "\n",
    "simplex_iteraciones(c1,A1,b1)"
   ]
  },
  {
   "cell_type": "markdown",
   "metadata": {},
   "source": [
    "#### Resultado:"
   ]
  },
  {
   "cell_type": "markdown",
   "metadata": {},
   "source": [
    "Utiliza 4 iteraciones"
   ]
  },
  {
   "cell_type": "markdown",
   "metadata": {},
   "source": [
    "### 4)Cuaderno"
   ]
  }
 ],
 "metadata": {
  "kernelspec": {
   "display_name": "Python 3.9.7 ('base')",
   "language": "python",
   "name": "python3"
  },
  "language_info": {
   "codemirror_mode": {
    "name": "ipython",
    "version": 3
   },
   "file_extension": ".py",
   "mimetype": "text/x-python",
   "name": "python",
   "nbconvert_exporter": "python",
   "pygments_lexer": "ipython3",
   "version": "3.9.7"
  },
  "orig_nbformat": 4,
  "vscode": {
   "interpreter": {
    "hash": "12e7b2db913c7cced4d5bf71ce365c438f2053887e824f813caa9208ccef4b13"
   }
  }
 },
 "nbformat": 4,
 "nbformat_minor": 2
}
