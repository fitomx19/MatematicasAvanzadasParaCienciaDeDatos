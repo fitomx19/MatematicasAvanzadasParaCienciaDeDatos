{
 "cells": [
  {
   "cell_type": "markdown",
   "metadata": {},
   "source": [
    "### Primer Parcial --> Matematicas Avanzadas para Ciencia de Datos"
   ]
  },
  {
   "cell_type": "markdown",
   "metadata": {},
   "source": [
    "Importacion de libreria de metodo simplex codificada en Python ->"
   ]
  },
  {
   "cell_type": "code",
   "execution_count": 2,
   "metadata": {},
   "outputs": [],
   "source": [
    "import simplex_program as sp "
   ]
  },
  {
   "cell_type": "markdown",
   "metadata": {},
   "source": [
    "<img src='./1.png' style=\"width:800px;\">"
   ]
  },
  {
   "cell_type": "markdown",
   "metadata": {},
   "source": [
    "- Programacion lineal maximizar z = cx donde $A_x$ $\\leq$ b , z $\\geq$ 0\n",
    "- Toma un punto w que  $A_x$ <$b_1 x_o$> 0 \n",
    "- $A_(x0)$ tenemos que para E>theta que existe x´= $x_0 + C$ dado que\n",
    "- $A_x' \\leq , x' > theta$\n",
    "- $A_x' \\leq b $ implica que:\n",
    "\n",
    "A($x_0$ + E) $\\leq$ b\n",
    "A$x_0$ + AE $\\leq$ b\n",
    "b $\\geq$ A$x_0$ + A0(theta)\n",
    "b $\\geq$ b + A 0 --> que es imposible\n",
    "\n",
    "Tambien ($X_0 \\leq cx´$ , esto implica que esta dentro de la region feasiblem que podemos concluir que $x_0 no es una solucion optima$ )\n",
    "\n"
   ]
  },
  {
   "cell_type": "markdown",
   "metadata": {},
   "source": [
    "<img src='./2.png' style=\"width:800px;\">"
   ]
  },
  {
   "cell_type": "markdown",
   "metadata": {},
   "source": [
    "a)\n",
    "<img src='./G2.jpg' style=\"width:300px;\">"
   ]
  },
  {
   "cell_type": "markdown",
   "metadata": {},
   "source": [
    "maxim 10 $\\Lambda_2$ + 24 $\\Lambda_3$ + 12 $\\Lambda_4$\n",
    "-> factible solution = 24"
   ]
  },
  {
   "cell_type": "markdown",
   "metadata": {},
   "source": [
    "- $x_1 + 3x_2$ --> 1(0) + 3(0) = 0\n",
    "- -$x_1$ + $x_2$ <= 4 ---> 1(0) + 3(4) = 12\n",
    "- -$x_1$ + $2x_2$ <= 12 ---> 1(4) + 3(8)\n",
    "\n",
    "Observando graficamente no se observa que exista una zona feasible posible para la maximizacion"
   ]
  },
  {
   "cell_type": "markdown",
   "metadata": {},
   "source": [
    "<img src='./3.png' style=\"width:800px;\">"
   ]
  },
  {
   "cell_type": "markdown",
   "metadata": {},
   "source": [
    "<img src='./G1.jpg' style=\"width:300px;\">"
   ]
  },
  {
   "cell_type": "markdown",
   "metadata": {},
   "source": [
    "A) \n",
    "- $x_1 - x_2 < 4$\n",
    "- $x_1 > 0$\n",
    "---> (4,0)\n",
    "B) \n",
    "- $x_1 + 2x_2 > 6$\n",
    "- $x_1 + 2x_2 <2$\n",
    "---> (4.67,0.67) \n",
    "C)\n",
    "- $x_1 + 2x_2 < 6$\n",
    "- $x_2 < 2$\n",
    "---> (2,2)\n",
    "D)\n",
    "- $x_2 <2$\n",
    "- $x_1 > 0$\n",
    "---> (0,2)"
   ]
  },
  {
   "cell_type": "markdown",
   "metadata": {},
   "source": [
    "<img src='./4.png' style=\"width:800px;\">"
   ]
  },
  {
   "cell_type": "markdown",
   "metadata": {},
   "source": [
    "<img src='./G3.jpg' style=\"width:300px;\">"
   ]
  },
  {
   "cell_type": "markdown",
   "metadata": {},
   "source": [
    "No se puede obtener una region feasible dado que no tiene limitantes , entonces existe una region infinita"
   ]
  },
  {
   "cell_type": "markdown",
   "metadata": {},
   "source": [
    "<img src='./5.png' style=\"width:800px;\">"
   ]
  },
  {
   "cell_type": "markdown",
   "metadata": {},
   "source": [
    "<img src='./G4.jpg' style=\"width:300px;\">"
   ]
  },
  {
   "cell_type": "markdown",
   "metadata": {},
   "source": [
    "Si, esta en el area de las feasibles"
   ]
  },
  {
   "cell_type": "markdown",
   "metadata": {},
   "source": [
    "<img src='./6.png' style=\"width:800px;\">"
   ]
  },
  {
   "cell_type": "markdown",
   "metadata": {},
   "source": [
    "a)\n",
    "<img src='./G5.jpg' style=\"width:300px;\">"
   ]
  },
  {
   "cell_type": "code",
   "execution_count": 3,
   "metadata": {},
   "outputs": [
    {
     "name": "stdout",
     "output_type": "stream",
     "text": [
      "[[1, 2, 1, 0, 0, 6], [2, -1, 0, 1, 0, 4], [5, 3, 0, 0, 1, 15]]\n",
      "[5, 4, 0, 0, 0, 0]\n"
     ]
    },
    {
     "data": {
      "text/plain": [
       "[1.714285714285714, 2.1428571428571432, 0, 2.7142857142857153, 0, 0]"
      ]
     },
     "execution_count": 3,
     "metadata": {},
     "output_type": "execute_result"
    }
   ],
   "source": [
    "#las 3 posiciones extra en el arreglo ya incluye los valores de pivoteo\n",
    "c = [5, 4, 0, 0, 0]\n",
    "#aqui se incluyen los valores de pivoteo\n",
    "A = [\n",
    "    [ 1, 2, 1, 0, 0],\n",
    "    [ 2, -1, 0, 1, 0],\n",
    "    [ 5, 3, 0, 0, 1]\n",
    "]\n",
    "#se muestran los valores para despues de la desigualdad\n",
    "b = [6, 4, 15]\n",
    "sp.simplex(c,A,b)"
   ]
  },
  {
   "cell_type": "markdown",
   "metadata": {},
   "source": [
    "La solucion optima es : $x_1=1.71,x_2=2.14$ y maximo $Z=17.14.$"
   ]
  },
  {
   "cell_type": "markdown",
   "metadata": {},
   "source": [
    "<img src='./7.png' style=\"width:800px;\">"
   ]
  },
  {
   "cell_type": "code",
   "execution_count": 6,
   "metadata": {},
   "outputs": [],
   "source": [
    "#las 3 posiciones extra en el arreglo ya incluye los valores de pivoteo\n",
    "c = [3, 2, 0, 0]\n",
    "#aqui se incluyen los valores de pivoteo\n",
    "A = [\n",
    "    [ 2, -3, 1, 0],\n",
    "    [ -1, 1, 0, 1]\n",
    "    #[ 5, 3, 0, 0, 1]\n",
    "]\n",
    "#se muestran los valores para despues de la desigualdad\n",
    "b = [3, 5]\n",
    "#sp.simplex(c,A,b)"
   ]
  },
  {
   "cell_type": "markdown",
   "metadata": {},
   "source": [
    "Este problema va a ocasionar un desbordamiento -->"
   ]
  },
  {
   "cell_type": "markdown",
   "metadata": {},
   "source": [
    "<img src='./8.png' style=\"width:800px;\">"
   ]
  },
  {
   "cell_type": "markdown",
   "metadata": {},
   "source": [
    "$x_1 + x_2 + x_3 = 1$\n",
    "<br>\n",
    "$25x_1 + 15x_2 + 25x_3 + x_5 = 22$\n",
    "<br>\n",
    "$15x_1 + 30x_2 + 20x_3 - x_6 = 20$\n",
    "<br>\n",
    "$5x_1 + 12x_2 + 8x_3 - x_7 = 6$\n",
    "<br>\n",
    "$5x_1 + 12x_2 + 8x_3 + x_8 = 12$\n",
    "<br>\n",
    "$x_j = 0 $\n",
    "<br>\n"
   ]
  },
  {
   "cell_type": "markdown",
   "metadata": {},
   "source": [
    "\\begin{equation}\n",
    "\\begin{bmatrix}\n",
    "1 & 0 & 0 & 0 & 0 & 0\\\\\n",
    "25 & -1 & 0 & 0 & 0 & 0\\\\\n",
    "-25 & 0 & 0 & 0 & 0 & 0\\\\\n",
    "20 & 0 & 0 & -1 & 0 & 0\\\\\n",
    "8 & 0 & 0 & 0 & -1 & 0 \\\\\n",
    "-8 & 0 & 0 & 0 & 0 & 1\n",
    "\\end{bmatrix}\n",
    "\\end{equation}"
   ]
  },
  {
   "cell_type": "markdown",
   "metadata": {},
   "source": [
    "$x_B$ = \n",
    "\\begin{equation}\n",
    "\\begin{bmatrix}\n",
    "x_3 \\\\\n",
    "x_4 \\\\\n",
    "x_5 \\\\\n",
    "x_6 \\\\\n",
    "x_7 \\\\\n",
    "x_8\n",
    "\\end{bmatrix}\n",
    "\\end{equation}"
   ]
  },
  {
   "cell_type": "markdown",
   "metadata": {},
   "source": [
    "$x_3$ = 1- $x_1$ - $x_2$\n",
    "<br>\n",
    "$x_4$ = 7 - 10 $x_2$\n",
    "z = 0.116 + 0.3 $x_3$ + 0.012 $x_4$"
   ]
  },
  {
   "cell_type": "markdown",
   "metadata": {},
   "source": [
    "$x_B$ = \n",
    "\\begin{equation}\n",
    "\\begin{bmatrix}\n",
    "x_1 = 0.3 \\\\\n",
    "x_2 = 0.7 \\\\\n",
    "x_3 = 0 \\\\\n",
    "x_4 = 0\\\\\n",
    "x_5 = 4\\\\\n",
    "x_6 = 5.5\\\\\n",
    "x_7 = 3.9\\\\\n",
    "x_8 = 2.1\n",
    "\\end{bmatrix}\n",
    "\\end{equation}"
   ]
  },
  {
   "cell_type": "markdown",
   "metadata": {},
   "source": [
    "<img src='./9.png' style=\"width:800px;\">"
   ]
  },
  {
   "cell_type": "markdown",
   "metadata": {},
   "source": [
    "Respuesta: \n",
    "<br>\n",
    "Maximizar Z = 2  $x_1$ + 4  $x_2$ + 2.5  $x_3$\n",
    "\n",
    "Sujeto a: \n",
    "<br>\n",
    "$3 x_1 + 4 x_2 + 2 x_3 < 600$\n",
    "<br>\n",
    "$2 x_1 + x_2 + 2 x_3 < 400$\n",
    "<br>\n",
    "$x_1 + 3x_2 + 3x_3 < 300$\n",
    "<br>\n",
    "Condicion de no negatividad\n",
    "($x_1 , x_2 , x_3 > 0 $)"
   ]
  },
  {
   "cell_type": "code",
   "execution_count": 10,
   "metadata": {},
   "outputs": [
    {
     "name": "stdout",
     "output_type": "stream",
     "text": [
      "[[3, 4, 2, 1, 0, 0, 600], [2, 1, 2, 0, 1, 0, 400], [1, 3, 3, 0, 0, 1, 300]]\n",
      "[2, 4, 2.5, 0, 0, 0, 0]\n"
     ]
    },
    {
     "data": {
      "text/plain": [
       "[120.0, 60.0, 0, 0, 99.99999999999999, 0, 0]"
      ]
     },
     "execution_count": 10,
     "metadata": {},
     "output_type": "execute_result"
    }
   ],
   "source": [
    "#las 3 posiciones extra en el arreglo ya incluye los valores de pivoteo\n",
    "c = [2, 4, 2.5, 0, 0 , 0]\n",
    "#aqui se incluyen los valores de pivoteo\n",
    "A = [\n",
    "    [ 3, 4, 2, 1, 0 , 0],\n",
    "    [ 2, 1, 2, 0, 1 , 0],\n",
    "    [ 1, 3, 3, 0, 0 , 1]\n",
    "]\n",
    "#se muestran los valores para despues de la desigualdad\n",
    "b = [600, 400, 300]\n",
    "sp.simplex(c,A,b)"
   ]
  },
  {
   "cell_type": "markdown",
   "metadata": {},
   "source": [
    "Obtenemos que las respuestas optimas son: \n",
    "$x_1$ = 120\n",
    "$x_2$ = 60\n",
    "$x_3$ = 0"
   ]
  },
  {
   "cell_type": "markdown",
   "metadata": {},
   "source": [
    "<img src='./10.png' style=\"width:800px;\">"
   ]
  },
  {
   "cell_type": "markdown",
   "metadata": {},
   "source": [
    "Supongamos  $x,y,z$ son el precio de los peanuts, cashews y almonds por onza\n",
    "<br>\n",
    "Asi que que por las condionales dadas $->$\n",
    "<br>\n",
    "$2.4x + 6y + 3.6z = 1.3$ -- (i)\n",
    "<br>\n",
    "$6x + 3.6y + 2.4z = 1.1$ -- (ii)\n",
    "<br>\n",
    "$10.8 x + 1.2 y = 0.8$ -- (iii)\n",
    "<br>\n",
    "Pasemos la matriz a python -> 😗\n"
   ]
  },
  {
   "cell_type": "code",
   "execution_count": 16,
   "metadata": {},
   "outputs": [
    {
     "name": "stdout",
     "output_type": "stream",
     "text": [
      "[[2.4, 6, 3.6, 1, 0, 0, 1.3], [6, 3.6, 2.4, 0, 1, 0, 1.1], [10.8, 1.2, 0, 0, 0, 1, 0.8]]\n",
      "[1, 1, 1, 0, 0, 0, 0]\n"
     ]
    },
    {
     "data": {
      "text/plain": [
       "[0.05303030303030308, 0, 0.3257575757575757, 0, 0, 0.2272727272727266, 0]"
      ]
     },
     "execution_count": 16,
     "metadata": {},
     "output_type": "execute_result"
    }
   ],
   "source": [
    "#las 3 posiciones extra en el arreglo ya incluye los valores de pivoteo\n",
    "c = [1, 1, 1, 0, 0 , 0]\n",
    "#aqui se incluyen los valores de pivoteo\n",
    "A = [\n",
    "    [ 2.4, 6, 3.6, 1, 0 , 0],\n",
    "    [ 6, 3.6, 2.4, 0, 1 , 0],\n",
    "    [ 10.8, 1.2, 0, 0, 0 , 1]\n",
    "]\n",
    "#se muestran los valores para despues de la desigualdad\n",
    "b = [1.3, 1.1, 0.8]\n",
    "sp.simplex(c,A,b)"
   ]
  },
  {
   "cell_type": "markdown",
   "metadata": {},
   "source": [
    "Peanut = 0.05 * (150) = 30\n",
    "<br>\n",
    "cashew = 0(100) = 0\n",
    "<br>\n",
    "almonds = 0.3(50) = 15\n",
    "\n",
    "Entonces el total = 30x0.06+50*0.1041 + 15*0.14 = 9.270845\n",
    "N = 9.27 / 12 + 0.00625\n",
    "N = 12.26 *Cans*"
   ]
  },
  {
   "cell_type": "markdown",
   "metadata": {},
   "source": [
    "<img src='./11.png' style=\"width:800px;\">"
   ]
  },
  {
   "cell_type": "markdown",
   "metadata": {},
   "source": [
    "En la tercera iteracion es cuando se desborda el sistema ->"
   ]
  },
  {
   "cell_type": "markdown",
   "metadata": {},
   "source": [
    "<img src='./12.png' style=\"width:800px;\">"
   ]
  },
  {
   "cell_type": "markdown",
   "metadata": {},
   "source": [
    "<img src='./13.png' style=\"width:800px;\">"
   ]
  },
  {
   "cell_type": "code",
   "execution_count": null,
   "metadata": {},
   "outputs": [],
   "source": [
    "#las 3 posiciones extra en el arreglo ya incluye los valores de pivoteo\n",
    "c = [1, 1, 0, 0, 0]\n",
    "#aqui se incluyen los valores de pivoteo\n",
    "A = [\n",
    "    [-1, 1, 1, 0, 0],\n",
    "    [ 1, 0, 0, 1, 0],\n",
    "    [ 0, 1, 0, 0, 1]\n",
    "]\n",
    "#se muestran los valores para despues de la desigualdad\n",
    "b = [2, 4, 4]\n",
    "sp.simplex(c,A,b)"
   ]
  }
 ],
 "metadata": {
  "kernelspec": {
   "display_name": "Python 3.10.5 64-bit",
   "language": "python",
   "name": "python3"
  },
  "language_info": {
   "codemirror_mode": {
    "name": "ipython",
    "version": 3
   },
   "file_extension": ".py",
   "mimetype": "text/x-python",
   "name": "python",
   "nbconvert_exporter": "python",
   "pygments_lexer": "ipython3",
   "version": "3.10.5"
  },
  "orig_nbformat": 4,
  "vscode": {
   "interpreter": {
    "hash": "c8045260058ce78d91bfcba6f26a8332d255756bd7658ea995399a8c233e7bf8"
   }
  }
 },
 "nbformat": 4,
 "nbformat_minor": 2
}
