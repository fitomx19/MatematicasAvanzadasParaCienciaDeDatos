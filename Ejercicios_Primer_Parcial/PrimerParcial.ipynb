{
 "cells": [
  {
   "cell_type": "markdown",
   "metadata": {},
   "source": [
    "### Primer Parcial --> Matematicas Avanzadas para Ciencia de Datos"
   ]
  },
  {
   "cell_type": "markdown",
   "metadata": {},
   "source": [
    "Importacion de libreria de metodo simplex codificada en Python ->"
   ]
  },
  {
   "cell_type": "code",
   "execution_count": 2,
   "metadata": {},
   "outputs": [],
   "source": [
    "import simplex_program as sp "
   ]
  },
  {
   "cell_type": "markdown",
   "metadata": {},
   "source": [
    "<img src='./1.png' style=\"width:800px;\">"
   ]
  },
  {
   "cell_type": "markdown",
   "metadata": {},
   "source": [
    "- Programacion lineal maximizar z = cx donde $A_x$ $\\leq$ b , z $\\geq$ 0\n",
    "- Toma un punto w que  $A_x$ <$b_1 x_o$> 0 \n",
    "- $A_(x0)$ tenemos que para E>theta que existe x´= $x_0 + C$ dado que\n",
    "- $A_x' \\leq , x' > theta$\n",
    "- $A_x' \\leq b $ implica que:\n",
    "\n",
    "A($x_0$ + E) $\\leq$ b\n",
    "A$x_0$ + AE $\\leq$ b\n",
    "b $\\geq$ A$x_0$ + A0(theta)\n",
    "b $\\geq$ b + A 0 --> que es imposible\n",
    "\n",
    "Tambien ($X_0 \\leq cx´$ , esto implica que esta dentro de la region feasiblem que podemos concluir que $x_0 no es una solucion optima$ )\n",
    "\n"
   ]
  },
  {
   "cell_type": "markdown",
   "metadata": {},
   "source": [
    "<img src='./2.png' style=\"width:800px;\">"
   ]
  },
  {
   "cell_type": "markdown",
   "metadata": {},
   "source": [
    "a)\n",
    "<img src='./G2.jpg' style=\"width:300px;\">"
   ]
  },
  {
   "cell_type": "markdown",
   "metadata": {},
   "source": [
    "maxim 10 $\\Lambda_2$ + 24 $\\Lambda_3$ + 12 $\\Lambda_4$\n",
    "-> factible solution = 24"
   ]
  },
  {
   "cell_type": "markdown",
   "metadata": {},
   "source": [
    "- $x_1 + 3x_2$ --> 1(0) + 3(0) = 0\n",
    "- -$x_1$ + $x_2$ <= 4 ---> 1(0) + 3(4) = 12\n",
    "- -$x_1$ + $2x_2$ <= 12 ---> 1(4) + 3(8)\n",
    "\n",
    "Observando graficamente no se observa que exista una zona feasible posible para la maximizacion"
   ]
  },
  {
   "cell_type": "markdown",
   "metadata": {},
   "source": [
    "<img src='./3.png' style=\"width:800px;\">"
   ]
  },
  {
   "cell_type": "markdown",
   "metadata": {},
   "source": [
    "<img src='./G1.jpg' style=\"width:300px;\">"
   ]
  },
  {
   "cell_type": "markdown",
   "metadata": {},
   "source": [
    "A) \n",
    "- $x_1 - x_2 < 4$\n",
    "- $x_1 > 0$\n",
    "---> (4,0)\n",
    "B) \n",
    "- $x_1 + 2x_2 > 6$\n",
    "- $x_1 + 2x_2 <2$\n",
    "---> (4.67,0.67) \n",
    "C)\n",
    "- $x_1 + 2x_2 < 6$\n",
    "- $x_2 < 2$\n",
    "---> (2,2)\n",
    "D)\n",
    "- $x_2 <2$\n",
    "- $x_1 > 0$\n",
    "---> (0,2)"
   ]
  },
  {
   "cell_type": "markdown",
   "metadata": {},
   "source": [
    "<img src='./4.png' style=\"width:800px;\">"
   ]
  },
  {
   "cell_type": "markdown",
   "metadata": {},
   "source": [
    "<img src='./G3.jpg' style=\"width:300px;\">"
   ]
  },
  {
   "cell_type": "markdown",
   "metadata": {},
   "source": [
    "No se puede obtener una region feasible dado que no tiene limitantes , entonces existe una region infinita"
   ]
  },
  {
   "cell_type": "markdown",
   "metadata": {},
   "source": [
    "<img src='./5.png' style=\"width:800px;\">"
   ]
  },
  {
   "cell_type": "markdown",
   "metadata": {},
   "source": [
    "<img src='./G4.jpg' style=\"width:300px;\">"
   ]
  },
  {
   "cell_type": "markdown",
   "metadata": {},
   "source": [
    "Si, esta en el area de las feasibles"
   ]
  },
  {
   "cell_type": "markdown",
   "metadata": {},
   "source": [
    "<img src='./6.png' style=\"width:800px;\">"
   ]
  },
  {
   "cell_type": "markdown",
   "metadata": {},
   "source": [
    "a)\n",
    "<img src='./G5.jpg' style=\"width:300px;\">"
   ]
  },
  {
   "cell_type": "code",
   "execution_count": 3,
   "metadata": {},
   "outputs": [
    {
     "name": "stdout",
     "output_type": "stream",
     "text": [
      "[[1, 2, 1, 0, 0, 6], [2, -1, 0, 1, 0, 4], [5, 3, 0, 0, 1, 15]]\n",
      "[5, 4, 0, 0, 0, 0]\n"
     ]
    },
    {
     "data": {
      "text/plain": [
       "[1.714285714285714, 2.1428571428571432, 0, 2.7142857142857153, 0, 0]"
      ]
     },
     "execution_count": 3,
     "metadata": {},
     "output_type": "execute_result"
    }
   ],
   "source": [
    "#las 3 posiciones extra en el arreglo ya incluye los valores de pivoteo\n",
    "c = [5, 4, 0, 0, 0]\n",
    "#aqui se incluyen los valores de pivoteo\n",
    "A = [\n",
    "    [ 1, 2, 1, 0, 0],\n",
    "    [ 2, -1, 0, 1, 0],\n",
    "    [ 5, 3, 0, 0, 1]\n",
    "]\n",
    "#se muestran los valores para despues de la desigualdad\n",
    "b = [6, 4, 15]\n",
    "sp.simplex(c,A,b)"
   ]
  },
  {
   "cell_type": "markdown",
   "metadata": {},
   "source": [
    "La solucion optima es : $x_1=1.71,x_2=2.14$ y maximo $Z=17.14.$"
   ]
  },
  {
   "cell_type": "markdown",
   "metadata": {},
   "source": [
    "<img src='./7.png' style=\"width:800px;\">"
   ]
  },
  {
   "cell_type": "code",
   "execution_count": 6,
   "metadata": {},
   "outputs": [],
   "source": [
    "#las 3 posiciones extra en el arreglo ya incluye los valores de pivoteo\n",
    "c = [3, 2, 0, 0]\n",
    "#aqui se incluyen los valores de pivoteo\n",
    "A = [\n",
    "    [ 2, -3, 1, 0],\n",
    "    [ -1, 1, 0, 1]\n",
    "    #[ 5, 3, 0, 0, 1]\n",
    "]\n",
    "#se muestran los valores para despues de la desigualdad\n",
    "b = [3, 5]\n",
    "#sp.simplex(c,A,b)"
   ]
  },
  {
   "cell_type": "markdown",
   "metadata": {},
   "source": [
    "Este problema va a ocasionar un desbordamiento -->"
   ]
  },
  {
   "cell_type": "markdown",
   "metadata": {},
   "source": [
    "<img src='./8.png' style=\"width:800px;\">"
   ]
  },
  {
   "cell_type": "code",
   "execution_count": null,
   "metadata": {},
   "outputs": [],
   "source": [
    "#las 3 posiciones extra en el arreglo ya incluye los valores de pivoteo\n",
    "c = [1, 1, 1, 0, 0]\n",
    "#aqui se incluyen los valores de pivoteo\n",
    "A = [\n",
    "    [ 1, 2, 1, 0, 0],\n",
    "    [ 2, -1, 0, 1, 0],\n",
    "    [ 5, 3, 0, 0, 1]\n",
    "]\n",
    "#se muestran los valores para despues de la desigualdad\n",
    "b = [6, 4, 15]\n",
    "sp.simplex(c,A,b)"
   ]
  },
  {
   "cell_type": "markdown",
   "metadata": {},
   "source": [
    "<img src='./9.png' style=\"width:800px;\">"
   ]
  },
  {
   "cell_type": "markdown",
   "metadata": {},
   "source": [
    "<img src='./10.png' style=\"width:800px;\">"
   ]
  },
  {
   "cell_type": "markdown",
   "metadata": {},
   "source": [
    "<img src='./11.png' style=\"width:800px;\">"
   ]
  },
  {
   "cell_type": "markdown",
   "metadata": {},
   "source": [
    "<img src='./12.png' style=\"width:800px;\">"
   ]
  },
  {
   "cell_type": "markdown",
   "metadata": {},
   "source": [
    "<img src='./13.png' style=\"width:800px;\">"
   ]
  },
  {
   "cell_type": "code",
   "execution_count": null,
   "metadata": {},
   "outputs": [],
   "source": []
  }
 ],
 "metadata": {
  "kernelspec": {
   "display_name": "Python 3.10.5 64-bit",
   "language": "python",
   "name": "python3"
  },
  "language_info": {
   "codemirror_mode": {
    "name": "ipython",
    "version": 3
   },
   "file_extension": ".py",
   "mimetype": "text/x-python",
   "name": "python",
   "nbconvert_exporter": "python",
   "pygments_lexer": "ipython3",
   "version": "3.10.5"
  },
  "orig_nbformat": 4,
  "vscode": {
   "interpreter": {
    "hash": "c8045260058ce78d91bfcba6f26a8332d255756bd7658ea995399a8c233e7bf8"
   }
  }
 },
 "nbformat": 4,
 "nbformat_minor": 2
}
