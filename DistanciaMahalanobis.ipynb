{
 "cells": [
  {
   "cell_type": "markdown",
   "metadata": {},
   "source": [
    "Distancia de Mahalanobis    "
   ]
  },
  {
   "cell_type": "markdown",
   "metadata": {},
   "source": [
    "Utilizada para magnitudes escalares , vectores, su funcion es determinar cuándo dos elementos son parecidos y cuándo no.\n",
    "La diferencia enre la euclidiana es que en esta no se tiene en cuenta la relacion entre las variables\n",
    "\n",
    "Muchos pintos que estadisticamente aparecen más \"normales\" distarán de la media más que el punto rojo, cuando estadisticamente destacan menos.\n"
   ]
  },
  {
   "cell_type": "markdown",
   "metadata": {},
   "source": [
    "1/n -> matriz covarianza\n",
    "1/n-1 -> matriz de cuasicovarianza\n",
    "\n",
    "matriz identidad\n",
    "matriz diagonal\n",
    "\n",
    "gsview\n",
    "ggplot\n"
   ]
  }
 ],
 "metadata": {
  "kernelspec": {
   "display_name": "Python 3.9.7 ('base')",
   "language": "python",
   "name": "python3"
  },
  "language_info": {
   "name": "python",
   "version": "3.9.7"
  },
  "orig_nbformat": 4,
  "vscode": {
   "interpreter": {
    "hash": "12e7b2db913c7cced4d5bf71ce365c438f2053887e824f813caa9208ccef4b13"
   }
  }
 },
 "nbformat": 4,
 "nbformat_minor": 2
}
