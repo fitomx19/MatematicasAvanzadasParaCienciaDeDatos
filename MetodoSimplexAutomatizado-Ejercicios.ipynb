{
 "cells": [
  {
   "cell_type": "markdown",
   "id": "fa46c291",
   "metadata": {},
   "source": [
    "### Ejercicios Repaso Primer Parcial Matematicas Avanzadas para ciencia de datos\n",
    "#### 12 Septiembre - 6 Octubre 2022\n",
    "##### Michael Adolfo Huerta Ramírez\n",
    "- Intrucciones: \n",
    "La siguiente es una lista de ejercicios para prepararse para\n",
    "el primer parcial. Los ejercicios son sacados del libro; Linear programming and\n",
    "network flows-Wiley, de Bazaraa.\n",
    "1. Problemas; 3.1, 3.2, 3.4, 3.6, 3.7, 3.9, 3.10, 3.11, 3.20, 3.21, 3.22, 3.23, 3.24,3.29, 3.40, 3.41, 3.48 (Python)"
   ]
  },
  {
   "cell_type": "markdown",
   "id": "a2a18a7e",
   "metadata": {},
   "source": [
    "1.-\n",
    "Maximizar $x₁ + 3x₂$ \n",
    "sujeto a las restricciones\n",
    "<br>\n",
    "$-x₁ + x₂ ≤ 4$\n",
    "<br>\n",
    "$-x₁ + 2x₂ ≤ 12$\n",
    "<br>\n",
    "$x₁ + x₂ ≤ 10$\n",
    "<br>\n",
    "$x₁ ≥ 0$\n",
    "<br>\n",
    "$x₂ ≥ 0$\n"
   ]
  },
  {
   "cell_type": "markdown",
   "id": "c7d7c4fa",
   "metadata": {},
   "source": [
    "a. Sketch the feasible region in the (x^, Xj) space and identify the optimal\n",
    "solution.\n"
   ]
  },
  {
   "cell_type": "code",
   "execution_count": 71,
   "id": "d7199ce8",
   "metadata": {},
   "outputs": [
    {
     "data": {
      "image/png": "[encoded data removed]",
      "text/plain": [
       "<Figure size 360x360 with 1 Axes>"
      ]
     },
     "metadata": {
      "needs_background": "light"
     },
     "output_type": "display_data"
    }
   ],
   "source": [
    "\n",
    "from intvalpy import lineqs\n",
    "import numpy as np\n",
    "\n",
    "A = -np.array([[-1, 1],\n",
    "               [-1, 2],\n",
    "               [1, 1]])\n",
    "b = -np.array([4, 12, 10])\n",
    "\n",
    "\n",
    "\n",
    "vertices1 = lineqs(A, b, title='Solucion', color='green', alpha=0.9, s=14, size=(5,5), save=False, show=True)\n"
   ]
  },
  {
   "cell_type": "markdown",
   "id": "1e2a3018",
   "metadata": {},
   "source": [
    "b.-Identify all the extreme points and reformulate the problem in terms of\n",
    "the convex combinations of the extreme points. Solve the resulting\n",
    "problem."
   ]
  },
  {
   "cell_type": "code",
   "execution_count": 1,
   "id": "f25ef622",
   "metadata": {},
   "outputs": [],
   "source": [
    "#las 3 posiciones extra en el arreglo ya incluye los valores de pivoteo}\n",
    "\n",
    "c = [1, 3, 0, 0, 0]\n",
    "#aqui se incluyen los valores de pivoteo\n",
    "A = [\n",
    "    [-1, 1, 1, 0, 0],\n",
    "    [ -1, 2, 0, 1, 0],\n",
    "    [ 1, 1, 0, 0, 1]\n",
    "]\n",
    "#se muestran los valores para despues de la desigualdad\n",
    "b = [4, 12, 10]"
   ]
  },
  {
   "cell_type": "code",
   "execution_count": 2,
   "id": "f9430d0b",
   "metadata": {},
   "outputs": [],
   "source": [
    "def to_tableau(c, A, b):\n",
    "    #introduce el valor a utilizar\n",
    "    xb = [eq + [x] for eq, x in zip(A, b)]\n",
    "    print(xb)\n",
    "    z = c + [0]\n",
    "    print(z)\n",
    "    return xb + [z]"
   ]
  },
  {
   "cell_type": "code",
   "execution_count": 3,
   "id": "b9c43104",
   "metadata": {},
   "outputs": [
    {
     "name": "stdout",
     "output_type": "stream",
     "text": [
      "[[-1, 1, 1, 0, 0, 4], [-1, 2, 0, 1, 0, 12], [1, 1, 0, 0, 1, 10]]\n",
      "[1, 3, 0, 0, 0, 0]\n"
     ]
    },
    {
     "data": {
      "text/plain": [
       "[[-1, 1, 1, 0, 0, 4],\n",
       " [-1, 2, 0, 1, 0, 12],\n",
       " [1, 1, 0, 0, 1, 10],\n",
       " [1, 3, 0, 0, 0, 0]]"
      ]
     },
     "execution_count": 3,
     "metadata": {},
     "output_type": "execute_result"
    }
   ],
   "source": [
    "#unimos el valor resultante de la desigualdad donde corresponse, para poder iterarlo más adelante\n",
    "to_tableau(c,A,b)"
   ]
  },
  {
   "cell_type": "markdown",
   "id": "1596ae62",
   "metadata": {},
   "source": [
    "En esta parte los acomodamos en un arreglo unico cada una de las restricciones"
   ]
  },
  {
   "cell_type": "code",
   "execution_count": 4,
   "id": "625cd06c",
   "metadata": {},
   "outputs": [],
   "source": [
    "def can_be_improved(tabla):\n",
    "    z = tabla[-1]\n",
    "    \n",
    "    return any(x > 0 for x in z[:-1])"
   ]
  },
  {
   "cell_type": "code",
   "execution_count": 5,
   "id": "47db751a",
   "metadata": {},
   "outputs": [],
   "source": [
    "import math\n",
    "import numpy as np\n",
    "\n",
    "def get_pivot_position(tabla):\n",
    "    z = tabla[-1]\n",
    "    column = next(i for i, x in enumerate(z[:-1]) if x > 0)\n",
    "    \n",
    "    restrictions = []\n",
    "    for eq in tabla[:-1]:\n",
    "        el = eq[column]\n",
    "        restrictions.append(math.inf if el <= 0 else eq[-1] / el)\n",
    "\n",
    "    row = restrictions.index(min(restrictions))\n",
    "    return row, column"
   ]
  },
  {
   "cell_type": "code",
   "execution_count": null,
   "id": "bdc55384",
   "metadata": {},
   "outputs": [],
   "source": []
  },
  {
   "cell_type": "code",
   "execution_count": 6,
   "id": "1033b1ab",
   "metadata": {},
   "outputs": [],
   "source": [
    "def pivot_step(tabla, pivot_position):\n",
    "    nueva_tabla = [[] for eq in tabla]\n",
    "    \n",
    "    i, j = pivot_position\n",
    "    pivot_value = tabla[i][j]\n",
    "    nueva_tabla[i] = np.array(tabla[i]) / pivot_value\n",
    "    \n",
    "    for eq_i, eq in enumerate(tabla):\n",
    "        if eq_i != i:\n",
    "            #aqui se pone el multiplicador de cada uno de los pasos de pivoteo\n",
    "            multiplicador = np.array(nueva_tabla[i]) * tabla[eq_i][j]\n",
    "            nueva_tabla[eq_i] = np.array(tabla[eq_i]) - multiplicador\n",
    "   \n",
    "    return nueva_tabla"
   ]
  },
  {
   "cell_type": "code",
   "execution_count": 7,
   "id": "ae4780c7",
   "metadata": {},
   "outputs": [],
   "source": [
    "def is_basic(columna):\n",
    "    return sum(columna) == 1 and len([c for c in columna if c == 0]) == len(columna) - 1\n",
    "\n",
    "def get_solution(tabla):\n",
    "    columns = np.array(tabla).T\n",
    "    soluciones = []\n",
    "    for column in columns:\n",
    "        solucion = 0\n",
    "        if is_basic(column):\n",
    "            one_index = column.tolist().index(1)\n",
    "            solucion = columns[-1][one_index]\n",
    "        soluciones.append(solucion)\n",
    "        \n",
    "    return soluciones"
   ]
  },
  {
   "cell_type": "code",
   "execution_count": 8,
   "id": "c1188c91",
   "metadata": {},
   "outputs": [],
   "source": [
    "def simplex(c, A, b):\n",
    "    tabla = to_tableau(c, A, b)\n",
    "\n",
    "    while can_be_improved(tabla):\n",
    "        pivot_position = get_pivot_position(tabla)\n",
    "        tabla = pivot_step(tabla, pivot_position)\n",
    "\n",
    "    return get_solution(tabla)"
   ]
  },
  {
   "cell_type": "code",
   "execution_count": 9,
   "id": "09c3f83d",
   "metadata": {},
   "outputs": [
    {
     "name": "stdout",
     "output_type": "stream",
     "text": [
      "[[-1, 1, 1, 0, 0, 4], [-1, 2, 0, 1, 0, 12], [1, 1, 0, 0, 1, 10]]\n",
      "[1, 3, 0, 0, 0, 0]\n",
      "Solucion:  [3.0, 7.0, 0, 1.0, 0, 0]\n"
     ]
    }
   ],
   "source": [
    "solution = simplex(c, A, b)\n",
    "print('Solucion: ', solution)"
   ]
  },
  {
   "cell_type": "code",
   "execution_count": 19,
   "id": "ce84b1ff",
   "metadata": {},
   "outputs": [],
   "source": [
    "##pip install intvalpy"
   ]
  },
  {
   "cell_type": "code",
   "execution_count": 69,
   "id": "a89fb04a",
   "metadata": {},
   "outputs": [
    {
     "data": {
      "text/plain": [
       "[<matplotlib.lines.Line2D at 0x1f87d58e550>]"
      ]
     },
     "execution_count": 69,
     "metadata": {},
     "output_type": "execute_result"
    },
    {
     "data": {
      "image/png": "[encoded data removed]",
      "text/plain": [
       "<Figure size 432x288 with 1 Axes>"
      ]
     },
     "metadata": {
      "needs_background": "light"
     },
     "output_type": "display_data"
    }
   ],
   "source": [
    "\n",
    "\n",
    "import numpy as np\n",
    "import matplotlib.pyplot as plt\n",
    "\n",
    "# Construct lines\n",
    "# x > 0\n",
    "x = np.linspace(0, 8)\n",
    "# -x + y = 4\n",
    "y1 = (x) + 4\n",
    "# -x + 2y = 12\n",
    "y2 = (12+x)/2.0\n",
    "# x + y = 10 \n",
    "y3 = (-x+10)\n",
    "\n",
    "plt.xlim((0, 8))\n",
    "plt.ylim((0, 8))\n",
    "\n",
    "# Make plot\n",
    "plt.plot(x, y1)\n",
    "plt.plot(x, y2)\n",
    "plt.plot(x, y3)\n",
    "\n",
    "\n",
    "\n"
   ]
  },
  {
   "cell_type": "markdown",
   "id": "e4c5b647",
   "metadata": {},
   "source": [
    "c.- Suppose that the third constraint is dropped. Identify the extreme points\n",
    "and directions and reformulate the problem in terms of convex \n",
    "combinations of the extreme points and linear combinations of the extreme\n",
    "directions. Solve the resulting problem, identify the optimal solution of\n",
    "the original problem, and interpret the solution."
   ]
  },
  {
   "cell_type": "code",
   "execution_count": null,
   "id": "1e6c7c07",
   "metadata": {},
   "outputs": [],
   "source": []
  }
 ],
 "metadata": {
  "kernelspec": {
   "display_name": "Python 3.10.5 64-bit",
   "language": "python",
   "name": "python3"
  },
  "language_info": {
   "codemirror_mode": {
    "name": "ipython",
    "version": 3
   },
   "file_extension": ".py",
   "mimetype": "text/x-python",
   "name": "python",
   "nbconvert_exporter": "python",
   "pygments_lexer": "ipython3",
   "version": "3.10.5"
  },
  "vscode": {
   "interpreter": {
    "hash": "c8045260058ce78d91bfcba6f26a8332d255756bd7658ea995399a8c233e7bf8"
   }
  }
 },
 "nbformat": 4,
 "nbformat_minor": 5
}
