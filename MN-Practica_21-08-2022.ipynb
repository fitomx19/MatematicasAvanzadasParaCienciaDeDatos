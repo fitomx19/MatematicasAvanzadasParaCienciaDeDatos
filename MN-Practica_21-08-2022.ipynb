{
 "cells": [
  {
   "cell_type": "markdown",
   "id": "0cbabe42",
   "metadata": {},
   "source": [
    "# Breve introduccion al lenguaje  Python.\n",
    "\n",
    "Python es un lenguaje de programación no tipado potente y fácil de aprender. Tiene estructuras de datos de alto nivel eficientes y un simple pero efectivo sistema de programación orientado a objetos. La elegante sintaxis de Python y su tipado dinámico, junto a su naturaleza interpretada lo convierten en un lenguaje ideal para scripting y desarrollo rápido de aplicaciones en muchas áreas, para la mayoría de plataformas.\n",
    "\n",
    "Este tutorial introduce al lector informalmente a los conceptos básicos y las funcionalidades del lenguaje de programación Python y a su sistema. Ayuda a tener un interprete de Python accesible para una experiencia práctica, todos los ejemplos son auto-contenidos, permitiendo utilizar el tutorial sin conexión."
   ]
  },
  {
   "cell_type": "markdown",
   "id": "c3795202",
   "metadata": {},
   "source": [
    "# Tipos de datos"
   ]
  },
  {
   "cell_type": "code",
   "execution_count": 1,
   "id": "9ee8866f",
   "metadata": {},
   "outputs": [
    {
     "data": {
      "text/plain": [
       "int"
      ]
     },
     "execution_count": 1,
     "metadata": {},
     "output_type": "execute_result"
    }
   ],
   "source": [
    "x1= 5   #Entero\n",
    "x2= 5.6 #Flotante\n",
    "x3= \"Hola mundo\"# Caracter (string)\n",
    "x4= True # Logico\n",
    "\n",
    "type(x1)"
   ]
  },
  {
   "cell_type": "markdown",
   "id": "7ef9d432",
   "metadata": {},
   "source": [
    "# Indicaciones basicas"
   ]
  },
  {
   "cell_type": "code",
   "execution_count": 2,
   "id": "ecff04f3",
   "metadata": {},
   "outputs": [],
   "source": [
    "import math  # Con el comando (palabra reservada) import podemos cargar las bibliotecas que querramos utilizar\n",
    "import numpy\n",
    "import pandas\n",
    "import matplotlib"
   ]
  },
  {
   "cell_type": "code",
   "execution_count": 3,
   "id": "f5c08602",
   "metadata": {},
   "outputs": [],
   "source": [
    "from math import pi # Tambien podemos accesar solo algunos metodos o constantes especificos de una bibloteca"
   ]
  },
  {
   "cell_type": "code",
   "execution_count": 4,
   "id": "504c9804",
   "metadata": {},
   "outputs": [],
   "source": [
    "from math import * # De esta forma accesamos a todos los componentes incluidos en una biblioteca dada"
   ]
  },
  {
   "cell_type": "code",
   "execution_count": 5,
   "id": "5f60ff98",
   "metadata": {},
   "outputs": [
    {
     "name": "stdout",
     "output_type": "stream",
     "text": [
      "3.141592653589793\n"
     ]
    },
    {
     "data": {
      "text/plain": [
       "2.718281828459045"
      ]
     },
     "execution_count": 5,
     "metadata": {},
     "output_type": "execute_result"
    }
   ],
   "source": [
    "math.pi# Cargamos algunas constantes especificas\n",
    "print(math.pi)\n",
    "math.e "
   ]
  },
  {
   "cell_type": "code",
   "execution_count": 6,
   "id": "2efabd77",
   "metadata": {},
   "outputs": [
    {
     "data": {
      "text/plain": [
       "nan"
      ]
     },
     "execution_count": 6,
     "metadata": {},
     "output_type": "execute_result"
    }
   ],
   "source": [
    "math.nan"
   ]
  },
  {
   "cell_type": "code",
   "execution_count": 7,
   "id": "e2a7f97f",
   "metadata": {},
   "outputs": [
    {
     "data": {
      "text/plain": [
       "inf"
      ]
     },
     "execution_count": 7,
     "metadata": {},
     "output_type": "execute_result"
    }
   ],
   "source": [
    "math.inf   # Formas de cargar los numeros infinito y mas infinito\n",
    "-math.inf\n",
    "float(inf)"
   ]
  },
  {
   "cell_type": "markdown",
   "id": "f178f011",
   "metadata": {},
   "source": [
    "Tambien podemos invocar algunas funciones pre-programadas."
   ]
  },
  {
   "cell_type": "code",
   "execution_count": 8,
   "id": "3ac5c028",
   "metadata": {},
   "outputs": [
    {
     "ename": "ValueError",
     "evalue": "math domain error",
     "output_type": "error",
     "traceback": [
      "\u001b[0;31m---------------------------------------------------------------------------\u001b[0m",
      "\u001b[0;31mValueError\u001b[0m                                Traceback (most recent call last)",
      "\u001b[0;32m<ipython-input-8-26ac468c1481>\u001b[0m in \u001b[0;36m<module>\u001b[0;34m\u001b[0m\n\u001b[0;32m----> 1\u001b[0;31m \u001b[0mmath\u001b[0m\u001b[0;34m.\u001b[0m\u001b[0msqrt\u001b[0m\u001b[0;34m(\u001b[0m\u001b[0;34m-\u001b[0m\u001b[0;36m34.8\u001b[0m\u001b[0;34m)\u001b[0m\u001b[0;34m\u001b[0m\u001b[0;34m\u001b[0m\u001b[0m\n\u001b[0m",
      "\u001b[0;31mValueError\u001b[0m: math domain error"
     ]
    }
   ],
   "source": [
    "math.sqrt(-34.8)\n"
   ]
  },
  {
   "cell_type": "code",
   "execution_count": 9,
   "id": "9e5d5131",
   "metadata": {},
   "outputs": [
    {
     "data": {
      "text/plain": [
       "3.0596455992976437"
      ]
     },
     "execution_count": 9,
     "metadata": {},
     "output_type": "execute_result"
    }
   ],
   "source": [
    "math.log(21.32)"
   ]
  },
  {
   "cell_type": "code",
   "execution_count": 10,
   "id": "64ebecad",
   "metadata": {},
   "outputs": [
    {
     "ename": "OverflowError",
     "evalue": "math range error",
     "output_type": "error",
     "traceback": [
      "\u001b[0;31m---------------------------------------------------------------------------\u001b[0m",
      "\u001b[0;31mOverflowError\u001b[0m                             Traceback (most recent call last)",
      "\u001b[0;32m<ipython-input-10-e0c11add5017>\u001b[0m in \u001b[0;36m<module>\u001b[0;34m\u001b[0m\n\u001b[0;32m----> 1\u001b[0;31m \u001b[0mmath\u001b[0m\u001b[0;34m.\u001b[0m\u001b[0mexp\u001b[0m\u001b[0;34m(\u001b[0m\u001b[0;36m1000\u001b[0m\u001b[0;34m)\u001b[0m\u001b[0;34m\u001b[0m\u001b[0;34m\u001b[0m\u001b[0m\n\u001b[0m",
      "\u001b[0;31mOverflowError\u001b[0m: math range error"
     ]
    }
   ],
   "source": [
    "math.exp(1000)"
   ]
  },
  {
   "cell_type": "code",
   "execution_count": 11,
   "id": "8b3cbf9d",
   "metadata": {},
   "outputs": [
    {
     "data": {
      "text/plain": [
       "1.0"
      ]
     },
     "execution_count": 11,
     "metadata": {},
     "output_type": "execute_result"
    }
   ],
   "source": [
    "math.pow(math.nan,0)"
   ]
  },
  {
   "cell_type": "code",
   "execution_count": 12,
   "id": "0f54dd08",
   "metadata": {},
   "outputs": [
    {
     "ename": "ValueError",
     "evalue": "math domain error",
     "output_type": "error",
     "traceback": [
      "\u001b[0;31m---------------------------------------------------------------------------\u001b[0m",
      "\u001b[0;31mValueError\u001b[0m                                Traceback (most recent call last)",
      "\u001b[0;32m<ipython-input-12-7ff522030b8c>\u001b[0m in \u001b[0;36m<module>\u001b[0;34m\u001b[0m\n\u001b[0;32m----> 1\u001b[0;31m \u001b[0mmath\u001b[0m\u001b[0;34m.\u001b[0m\u001b[0msqrt\u001b[0m\u001b[0;34m(\u001b[0m\u001b[0;34m-\u001b[0m\u001b[0;36m1.0\u001b[0m\u001b[0;34m)\u001b[0m\u001b[0;34m\u001b[0m\u001b[0;34m\u001b[0m\u001b[0m\n\u001b[0m",
      "\u001b[0;31mValueError\u001b[0m: math domain error"
     ]
    }
   ],
   "source": [
    "math.sqrt(-1.0)"
   ]
  },
  {
   "cell_type": "markdown",
   "id": "18808ff0",
   "metadata": {},
   "source": [
    "# Representacion numerica."
   ]
  },
  {
   "cell_type": "code",
   "execution_count": 13,
   "id": "b20945b2",
   "metadata": {},
   "outputs": [
    {
     "data": {
      "text/plain": [
       "4"
      ]
     },
     "execution_count": 13,
     "metadata": {},
     "output_type": "execute_result"
    }
   ],
   "source": [
    "2+2 # Suma"
   ]
  },
  {
   "cell_type": "code",
   "execution_count": 14,
   "id": "153a8510",
   "metadata": {},
   "outputs": [
    {
     "data": {
      "text/plain": [
       "-1"
      ]
     },
     "execution_count": 14,
     "metadata": {},
     "output_type": "execute_result"
    }
   ],
   "source": [
    "2-3 # Resta"
   ]
  },
  {
   "cell_type": "code",
   "execution_count": 15,
   "id": "d5934443",
   "metadata": {},
   "outputs": [
    {
     "data": {
      "text/plain": [
       "12"
      ]
     },
     "execution_count": 15,
     "metadata": {},
     "output_type": "execute_result"
    }
   ],
   "source": [
    "3*4 # Multiplicacion"
   ]
  },
  {
   "cell_type": "code",
   "execution_count": 16,
   "id": "6fb517db",
   "metadata": {},
   "outputs": [
    {
     "data": {
      "text/plain": [
       "0.7142857142857143"
      ]
     },
     "execution_count": 16,
     "metadata": {},
     "output_type": "execute_result"
    }
   ],
   "source": [
    "4/5.6 # Division"
   ]
  },
  {
   "cell_type": "code",
   "execution_count": 17,
   "id": "2308f2fe",
   "metadata": {},
   "outputs": [
    {
     "data": {
      "text/plain": [
       "3"
      ]
     },
     "execution_count": 17,
     "metadata": {},
     "output_type": "execute_result"
    }
   ],
   "source": [
    "math.floor(3.4) # Redondeo a la baja"
   ]
  },
  {
   "cell_type": "code",
   "execution_count": 18,
   "id": "d31530ac",
   "metadata": {},
   "outputs": [
    {
     "data": {
      "text/plain": [
       "6"
      ]
     },
     "execution_count": 18,
     "metadata": {},
     "output_type": "execute_result"
    }
   ],
   "source": [
    "math.ceil(5.6) # Redondeo a la alza"
   ]
  },
  {
   "cell_type": "code",
   "execution_count": 19,
   "id": "654d4e43",
   "metadata": {},
   "outputs": [
    {
     "data": {
      "text/plain": [
       "-3.0"
      ]
     },
     "execution_count": 19,
     "metadata": {},
     "output_type": "execute_result"
    }
   ],
   "source": [
    "math.copysign(-3,-54.4)"
   ]
  },
  {
   "cell_type": "code",
   "execution_count": 20,
   "id": "3f26a3f4",
   "metadata": {},
   "outputs": [
    {
     "data": {
      "text/plain": [
       "6.7"
      ]
     },
     "execution_count": 20,
     "metadata": {},
     "output_type": "execute_result"
    }
   ],
   "source": [
    "math.fabs(-6.7)"
   ]
  },
  {
   "cell_type": "code",
   "execution_count": 21,
   "id": "03032493",
   "metadata": {},
   "outputs": [
    {
     "data": {
      "text/plain": [
       "25.75783655629277"
      ]
     },
     "execution_count": 21,
     "metadata": {},
     "output_type": "execute_result"
    }
   ],
   "source": [
    "2.6**3.4"
   ]
  },
  {
   "cell_type": "code",
   "execution_count": 22,
   "id": "c0644169",
   "metadata": {},
   "outputs": [
    {
     "data": {
      "text/plain": [
       "24"
      ]
     },
     "execution_count": 22,
     "metadata": {},
     "output_type": "execute_result"
    }
   ],
   "source": [
    "math.factorial(4)"
   ]
  },
  {
   "cell_type": "code",
   "execution_count": 23,
   "id": "776c6e4e",
   "metadata": {},
   "outputs": [
    {
     "data": {
      "text/plain": [
       "1.3333333333333333"
      ]
     },
     "execution_count": 23,
     "metadata": {},
     "output_type": "execute_result"
    }
   ],
   "source": [
    "4/3"
   ]
  },
  {
   "cell_type": "code",
   "execution_count": 24,
   "id": "85146c96",
   "metadata": {},
   "outputs": [
    {
     "data": {
      "text/plain": [
       "1.0"
      ]
     },
     "execution_count": 24,
     "metadata": {},
     "output_type": "execute_result"
    }
   ],
   "source": [
    "7//3\n",
    "math.fmod(4,3)"
   ]
  },
  {
   "cell_type": "code",
   "execution_count": 25,
   "id": "44d3e475",
   "metadata": {},
   "outputs": [
    {
     "data": {
      "text/plain": [
       "1.0"
      ]
     },
     "execution_count": 25,
     "metadata": {},
     "output_type": "execute_result"
    }
   ],
   "source": [
    "4%3\n",
    "math.remainder(4,3)"
   ]
  },
  {
   "cell_type": "code",
   "execution_count": 26,
   "id": "4a149947",
   "metadata": {},
   "outputs": [
    {
     "data": {
      "text/plain": [
       "(0.5, 4.0)"
      ]
     },
     "execution_count": 26,
     "metadata": {},
     "output_type": "execute_result"
    }
   ],
   "source": [
    "math.modf(4.5)"
   ]
  },
  {
   "cell_type": "code",
   "execution_count": 27,
   "id": "61dbb50e",
   "metadata": {},
   "outputs": [
    {
     "data": {
      "text/plain": [
       "3"
      ]
     },
     "execution_count": 27,
     "metadata": {},
     "output_type": "execute_result"
    }
   ],
   "source": [
    "math.gcd(66,45)"
   ]
  },
  {
   "cell_type": "code",
   "execution_count": 28,
   "id": "c53c8405",
   "metadata": {},
   "outputs": [
    {
     "data": {
      "text/plain": [
       "True"
      ]
     },
     "execution_count": 28,
     "metadata": {},
     "output_type": "execute_result"
    }
   ],
   "source": [
    "math.isfinite(4.5)"
   ]
  },
  {
   "cell_type": "code",
   "execution_count": 29,
   "id": "778211cf",
   "metadata": {},
   "outputs": [
    {
     "data": {
      "text/plain": [
       "False"
      ]
     },
     "execution_count": 29,
     "metadata": {},
     "output_type": "execute_result"
    }
   ],
   "source": [
    "math.isinf(5.6)"
   ]
  },
  {
   "cell_type": "code",
   "execution_count": 30,
   "id": "b69cb053",
   "metadata": {},
   "outputs": [
    {
     "data": {
      "text/plain": [
       "False"
      ]
     },
     "execution_count": 30,
     "metadata": {},
     "output_type": "execute_result"
    }
   ],
   "source": [
    "math.isnan(5.78)"
   ]
  },
  {
   "cell_type": "markdown",
   "id": "b05e1624",
   "metadata": {},
   "source": [
    "# Comandos de entrada y salida de datos."
   ]
  },
  {
   "cell_type": "code",
   "execution_count": 31,
   "id": "30bc64de",
   "metadata": {},
   "outputs": [
    {
     "name": "stdout",
     "output_type": "stream",
     "text": [
      "Hola mundo.\n"
     ]
    }
   ],
   "source": [
    "print(\"Hola mundo.\")"
   ]
  },
  {
   "cell_type": "code",
   "execution_count": 32,
   "id": "ab21fd5e",
   "metadata": {},
   "outputs": [
    {
     "name": "stdout",
     "output_type": "stream",
     "text": [
      "7878.23\n"
     ]
    }
   ],
   "source": [
    "x= 7878.23\n",
    "\n",
    "print(x)"
   ]
  },
  {
   "cell_type": "code",
   "execution_count": 33,
   "id": "efe73248",
   "metadata": {},
   "outputs": [],
   "source": [
    "x1=float(5)"
   ]
  },
  {
   "cell_type": "code",
   "execution_count": 34,
   "id": "18f2e1f3",
   "metadata": {},
   "outputs": [
    {
     "name": "stdout",
     "output_type": "stream",
     "text": [
      "El valor de la variable ingresada es; 7878.23\n"
     ]
    }
   ],
   "source": [
    "print(\"El valor de la variable ingresada es;\",x)"
   ]
  },
  {
   "cell_type": "code",
   "execution_count": 35,
   "id": "0bf7f86b",
   "metadata": {},
   "outputs": [
    {
     "name": "stdout",
     "output_type": "stream",
     "text": [
      "EL valor de la variable ingresada es 7878.23\n"
     ]
    }
   ],
   "source": [
    "print(\"EL valor de la variable ingresada es \"+str(x))"
   ]
  },
  {
   "cell_type": "markdown",
   "id": "4d0087cd",
   "metadata": {},
   "source": [
    "Usamos el comando input para introducir informacion desde pantalla."
   ]
  },
  {
   "cell_type": "code",
   "execution_count": 47,
   "id": "8f95e406",
   "metadata": {},
   "outputs": [
    {
     "name": "stdout",
     "output_type": "stream",
     "text": [
      "Escriba su nombre; Alfonso\n"
     ]
    }
   ],
   "source": [
    "texto= input(\"Escriba su nombre; \")"
   ]
  },
  {
   "cell_type": "code",
   "execution_count": 48,
   "id": "c79e3430",
   "metadata": {},
   "outputs": [
    {
     "data": {
      "text/plain": [
       "str"
      ]
     },
     "execution_count": 48,
     "metadata": {},
     "output_type": "execute_result"
    }
   ],
   "source": [
    "type(texto)"
   ]
  },
  {
   "cell_type": "code",
   "execution_count": 49,
   "id": "8a75bbf3",
   "metadata": {},
   "outputs": [
    {
     "name": "stdout",
     "output_type": "stream",
     "text": [
      "Hola,Alfonso.\n"
     ]
    }
   ],
   "source": [
    "print(\"Hola,\"+str(texto)+\".\" )"
   ]
  },
  {
   "cell_type": "markdown",
   "id": "657924cb",
   "metadata": {},
   "source": [
    "# Operadores de desicion (and, or, !)."
   ]
  },
  {
   "cell_type": "markdown",
   "id": "b3f47561",
   "metadata": {},
   "source": [
    "if o1:\n",
    "\n",
    "   accion1\n",
    "   \n",
    "elif o2:\n",
    "   \n",
    "   accion2\n",
    "\n",
    "elif o3:\n",
    "   \n",
    "   action3\n",
    "  \n",
    "  .\n",
    "  .\n",
    "  .\n",
    "  \n",
    "else:    \n",
    "\n",
    "   action \n",
    "    \n",
    "    "
   ]
  },
  {
   "cell_type": "markdown",
   "id": "f94a2a56",
   "metadata": {},
   "source": [
    "Escriba instrucciones de codigo que identifiquen si un numero esta en el intervalo [9,19]"
   ]
  },
  {
   "cell_type": "code",
   "execution_count": 50,
   "id": "1ed2f15e",
   "metadata": {},
   "outputs": [
    {
     "name": "stdout",
     "output_type": "stream",
     "text": [
      "Ingrese un numero45\n",
      "El numero, 45.0  esta en el intervalo [9,19]\n"
     ]
    }
   ],
   "source": [
    "x= float(input(\"Ingrese un numero\"))\n",
    "\n",
    "if not(9<=x and 19>= x):\n",
    "    print(\"El numero, \"+str(x)+\"  esta en el intervalo [9,19]\")\n",
    "    \n",
    "else:\n",
    "    print(\"El numero, \"+str(x)+\" no esta en el intervalo [9,19]\")\n",
    "    \n",
    "#<=, >=, ==, !=,<>\n",
    "# and, or"
   ]
  },
  {
   "cell_type": "code",
   "execution_count": 52,
   "id": "14a4035c",
   "metadata": {},
   "outputs": [
    {
     "name": "stdout",
     "output_type": "stream",
     "text": [
      "Su numero no es 5\n"
     ]
    }
   ],
   "source": [
    "x=7.0\n",
    "if x != 5 :\n",
    "    print(\"Su numero no es 5\")\n",
    "    \n",
    "#elif x<5:\n",
    "    \n",
    " #   print(\"Su numero es menor que 5\")\n",
    "    "
   ]
  },
  {
   "cell_type": "markdown",
   "id": "978cf883",
   "metadata": {},
   "source": [
    "## Funciones matematicas"
   ]
  },
  {
   "cell_type": "code",
   "execution_count": 53,
   "id": "85208d3e",
   "metadata": {},
   "outputs": [
    {
     "data": {
      "text/plain": [
       "29.96410004739701"
      ]
     },
     "execution_count": 53,
     "metadata": {},
     "output_type": "execute_result"
    }
   ],
   "source": [
    "math.exp(3.4)"
   ]
  },
  {
   "cell_type": "code",
   "execution_count": 54,
   "id": "77992327",
   "metadata": {},
   "outputs": [
    {
     "data": {
      "text/plain": [
       "8.0"
      ]
     },
     "execution_count": 54,
     "metadata": {},
     "output_type": "execute_result"
    }
   ],
   "source": [
    "math.pow(2,3)"
   ]
  },
  {
   "cell_type": "code",
   "execution_count": 55,
   "id": "72b3a4d6",
   "metadata": {},
   "outputs": [
    {
     "data": {
      "text/plain": [
       "2.509599262378372"
      ]
     },
     "execution_count": 55,
     "metadata": {},
     "output_type": "execute_result"
    }
   ],
   "source": [
    "math.log(12.3)"
   ]
  },
  {
   "cell_type": "code",
   "execution_count": 56,
   "id": "6609ed38",
   "metadata": {},
   "outputs": [
    {
     "data": {
      "text/plain": [
       "3.0"
      ]
     },
     "execution_count": 56,
     "metadata": {},
     "output_type": "execute_result"
    }
   ],
   "source": [
    "math.log(8,2)"
   ]
  },
  {
   "cell_type": "markdown",
   "id": "e2f6fdcd",
   "metadata": {},
   "source": [
    "$Funciones \\hspace{3mm} trigonometricas$"
   ]
  },
  {
   "cell_type": "markdown",
   "id": "f63adcea",
   "metadata": {},
   "source": [
    "$\\pi$ Rad = 180 Deg"
   ]
  },
  {
   "cell_type": "code",
   "execution_count": 57,
   "id": "b04be2be",
   "metadata": {},
   "outputs": [
    {
     "data": {
      "text/plain": [
       "-0.34887519008606005"
      ]
     },
     "execution_count": 57,
     "metadata": {},
     "output_type": "execute_result"
    }
   ],
   "source": [
    "math.sin(12.21)"
   ]
  },
  {
   "cell_type": "code",
   "execution_count": 58,
   "id": "9e985007",
   "metadata": {},
   "outputs": [
    {
     "data": {
      "text/plain": [
       "-0.32370707015536226"
      ]
     },
     "execution_count": 58,
     "metadata": {},
     "output_type": "execute_result"
    }
   ],
   "source": [
    "math.cos(23.2323)"
   ]
  },
  {
   "cell_type": "code",
   "execution_count": 59,
   "id": "536ed8ff",
   "metadata": {},
   "outputs": [
    {
     "data": {
      "text/plain": [
       "0.9427849959890139"
      ]
     },
     "execution_count": 59,
     "metadata": {},
     "output_type": "execute_result"
    }
   ],
   "source": [
    "math.tan(324.34)"
   ]
  },
  {
   "cell_type": "code",
   "execution_count": 60,
   "id": "dda9dbf5",
   "metadata": {},
   "outputs": [
    {
     "ename": "AttributeError",
     "evalue": "module 'math' has no attribute 'cot'",
     "output_type": "error",
     "traceback": [
      "\u001b[0;31m---------------------------------------------------------------------------\u001b[0m",
      "\u001b[0;31mAttributeError\u001b[0m                            Traceback (most recent call last)",
      "\u001b[0;32m<ipython-input-60-543aa14e8d5c>\u001b[0m in \u001b[0;36m<module>\u001b[0;34m\u001b[0m\n\u001b[0;32m----> 1\u001b[0;31m \u001b[0mmath\u001b[0m\u001b[0;34m.\u001b[0m\u001b[0mcot\u001b[0m\u001b[0;34m(\u001b[0m\u001b[0;36m324.34\u001b[0m\u001b[0;34m)\u001b[0m\u001b[0;34m\u001b[0m\u001b[0;34m\u001b[0m\u001b[0m\n\u001b[0m",
      "\u001b[0;31mAttributeError\u001b[0m: module 'math' has no attribute 'cot'"
     ]
    }
   ],
   "source": [
    "math.cot(324.34)"
   ]
  },
  {
   "cell_type": "code",
   "execution_count": 61,
   "id": "8594c9fc",
   "metadata": {},
   "outputs": [
    {
     "data": {
      "text/plain": [
       "6132404857.104842"
      ]
     },
     "execution_count": 61,
     "metadata": {},
     "output_type": "execute_result"
    }
   ],
   "source": [
    "math.sinh(23.23)"
   ]
  },
  {
   "cell_type": "code",
   "execution_count": 62,
   "id": "75e16f64",
   "metadata": {},
   "outputs": [
    {
     "data": {
      "text/plain": [
       "45.014120148530026"
      ]
     },
     "execution_count": 62,
     "metadata": {},
     "output_type": "execute_result"
    }
   ],
   "source": [
    "math.cosh(4.5)"
   ]
  },
  {
   "cell_type": "code",
   "execution_count": 63,
   "id": "e35909f3",
   "metadata": {},
   "outputs": [
    {
     "data": {
      "text/plain": [
       "496.6060775736907"
      ]
     },
     "execution_count": 63,
     "metadata": {},
     "output_type": "execute_result"
    }
   ],
   "source": [
    "math.gamma(6.8)"
   ]
  },
  {
   "cell_type": "markdown",
   "id": "dc2c5e01",
   "metadata": {},
   "source": [
    "# Definicion de funciones."
   ]
  },
  {
   "cell_type": "code",
   "execution_count": 64,
   "id": "3f9ec45e",
   "metadata": {},
   "outputs": [],
   "source": [
    "def saludar():\n",
    "    x= input(\"Escriba su nombre\")\n",
    "    print(\"Hola\"+x)\n"
   ]
  },
  {
   "cell_type": "code",
   "execution_count": 65,
   "id": "2388a41e",
   "metadata": {},
   "outputs": [
    {
     "name": "stdout",
     "output_type": "stream",
     "text": [
      "Escriba su nombreAlfonso\n",
      "HolaAlfonso\n"
     ]
    }
   ],
   "source": [
    "saludar()"
   ]
  },
  {
   "cell_type": "code",
   "execution_count": 67,
   "id": "0a00672a",
   "metadata": {},
   "outputs": [
    {
     "name": "stdout",
     "output_type": "stream",
     "text": [
      "7\n"
     ]
    }
   ],
   "source": [
    "def suma(a,b):\n",
    "    \n",
    "    r= a+b\n",
    "    \n",
    "    return r  \n",
    "\n",
    "z= suma(3,4)\n",
    "print(z)"
   ]
  },
  {
   "cell_type": "markdown",
   "id": "48b0d6a6",
   "metadata": {},
   "source": [
    "Creemos una funcion que, dado un numero x nos indique si un numero esta en el intervalo [a,b]"
   ]
  },
  {
   "cell_type": "markdown",
   "id": "04914555",
   "metadata": {},
   "source": [
    "Clases y programacion orientada a objetos(POO)."
   ]
  },
  {
   "cell_type": "markdown",
   "id": "2b80142e",
   "metadata": {},
   "source": [
    "# Crearemos una clase, que emula el comportamieto de una tarjea de credito"
   ]
  },
  {
   "cell_type": "code",
   "execution_count": 68,
   "id": "839a51e2",
   "metadata": {},
   "outputs": [],
   "source": [
    "class CreditCard:\n",
    "        \n",
    "    def  __init__(self,cliente,banco,cuenta,cod_seg,limit,Date_Cut):\n",
    "    \n",
    "   # Instancias\n",
    "        self._cliente=cliente\n",
    "        self._banco=banco\n",
    "        self._cuenta= cuenta\n",
    "        self._cod_seg=cod_seg\n",
    "        self._limit=limit\n",
    "        self._Data_cut=Date_Cut\n",
    "        self._balance = 0\n",
    "    \n",
    "    # Metodos\n",
    "    def get_cliente(self):\n",
    "        \n",
    "        return self._cliente\n",
    "    \n",
    "    def get_banco(self):\n",
    "        \n",
    "        return self._banco\n",
    "    \n",
    "    def get_cuenta(self):\n",
    "        \n",
    "        return self._cuenta\n",
    "    \n",
    "    def get_limit(self):\n",
    "        \n",
    "        return self._limit\n",
    "        \n",
    "    def get_balance(self):\n",
    "        \n",
    "        return self._balance\n",
    "    \n",
    "    def allow_charge(self,precio):\n",
    "        \n",
    "        if precio+self._balance<= self._limit:\n",
    "            self._balance= precio+ self._balance\n",
    "            print(\" Compra aceptada\")\n",
    "        else:    \n",
    "            print(\"Compra no aceptada\")"
   ]
  },
  {
   "cell_type": "code",
   "execution_count": 69,
   "id": "482e4d7d",
   "metadata": {},
   "outputs": [],
   "source": [
    "Tarjeta1= CreditCard(\"Alfonso S.A.\",\"BN\",123456,123,1000,\"23-08\")\n"
   ]
  },
  {
   "cell_type": "code",
   "execution_count": 70,
   "id": "98d1ea84",
   "metadata": {},
   "outputs": [
    {
     "data": {
      "text/plain": [
       "0"
      ]
     },
     "execution_count": 70,
     "metadata": {},
     "output_type": "execute_result"
    }
   ],
   "source": [
    "Tarjeta1.get_balance()"
   ]
  },
  {
   "cell_type": "code",
   "execution_count": 71,
   "id": "46d073fb",
   "metadata": {},
   "outputs": [
    {
     "name": "stdout",
     "output_type": "stream",
     "text": [
      " Compra aceptada\n"
     ]
    }
   ],
   "source": [
    "Tarjeta1.allow_charge(1000.0)"
   ]
  },
  {
   "cell_type": "markdown",
   "id": "90bf8296",
   "metadata": {},
   "source": [
    "# Estructuras de datos."
   ]
  },
  {
   "cell_type": "markdown",
   "id": "72555e4a",
   "metadata": {},
   "source": [
    "### Las listas de Python."
   ]
  },
  {
   "cell_type": "markdown",
   "id": "f1f2892d",
   "metadata": {},
   "source": [
    "Las listas de python son contenedores que permiten almacenar una coleccion de objetos en un orden determinado. Se pueden acceder añadir o eliminar objetos de forma sencilla."
   ]
  },
  {
   "cell_type": "code",
   "execution_count": 72,
   "id": "42174a01",
   "metadata": {},
   "outputs": [],
   "source": [
    "L1=[] # Lista vacia"
   ]
  },
  {
   "cell_type": "code",
   "execution_count": 73,
   "id": "d93eaf6c",
   "metadata": {},
   "outputs": [],
   "source": [
    "L2=[\"a\", \"e\", \"i\", 12, 45.6, True]"
   ]
  },
  {
   "cell_type": "code",
   "execution_count": 74,
   "id": "cc3fe4c4",
   "metadata": {},
   "outputs": [
    {
     "data": {
      "text/plain": [
       "['a', 'e', 'i', 12, 45.6, True, 'a', 'e', 'i', 12, 45.6, True]"
      ]
     },
     "execution_count": 74,
     "metadata": {},
     "output_type": "execute_result"
    }
   ],
   "source": [
    "L2= 2*L2\n",
    "L2"
   ]
  },
  {
   "cell_type": "code",
   "execution_count": 75,
   "id": "65772e2f",
   "metadata": {},
   "outputs": [
    {
     "data": {
      "text/plain": [
       "('e', 45.6, True)"
      ]
     },
     "execution_count": 75,
     "metadata": {},
     "output_type": "execute_result"
    }
   ],
   "source": [
    "L2[1],L2[10],L2[11]\n"
   ]
  },
  {
   "cell_type": "code",
   "execution_count": 76,
   "id": "afe79e8d",
   "metadata": {},
   "outputs": [
    {
     "data": {
      "text/plain": [
       "['a', 'e']"
      ]
     },
     "execution_count": 76,
     "metadata": {},
     "output_type": "execute_result"
    }
   ],
   "source": [
    "L2[0:2]"
   ]
  },
  {
   "cell_type": "code",
   "execution_count": 77,
   "id": "7244a25e",
   "metadata": {},
   "outputs": [],
   "source": [
    "L3=[3,[1,23.3],[12.34,True],[\"Hola\", 12.34, ]]"
   ]
  },
  {
   "cell_type": "code",
   "execution_count": 78,
   "id": "75d36a5d",
   "metadata": {},
   "outputs": [],
   "source": [
    "L3.append(\"VAA\") # Anadimos objetos a nuestra lista"
   ]
  },
  {
   "cell_type": "code",
   "execution_count": 79,
   "id": "bc0c4106",
   "metadata": {},
   "outputs": [
    {
     "data": {
      "text/plain": [
       "[3, [1, 23.3], [12.34, True], ['Hola', 12.34], 'VAA']"
      ]
     },
     "execution_count": 79,
     "metadata": {},
     "output_type": "execute_result"
    }
   ],
   "source": [
    "L3"
   ]
  },
  {
   "cell_type": "code",
   "execution_count": 80,
   "id": "e434fdc2",
   "metadata": {},
   "outputs": [],
   "source": [
    "L3.append([1.2,\"Char\",5]) # Incluso podemos anadir otras listas"
   ]
  },
  {
   "cell_type": "code",
   "execution_count": 81,
   "id": "05eafaa0",
   "metadata": {},
   "outputs": [
    {
     "data": {
      "text/plain": [
       "[3, [1, 23.3], [12.34, True], ['Hola', 12.34], 'VAA', [1.2, 'Char', 5], 3]"
      ]
     },
     "execution_count": 81,
     "metadata": {},
     "output_type": "execute_result"
    }
   ],
   "source": [
    "L3.append(3)\n",
    "L3"
   ]
  },
  {
   "cell_type": "code",
   "execution_count": 82,
   "id": "b0ac1ba6",
   "metadata": {},
   "outputs": [],
   "source": [
    "L3.remove(3) # Elimina la primera ocurrencia del objeto "
   ]
  },
  {
   "cell_type": "code",
   "execution_count": 83,
   "id": "8079fdea",
   "metadata": {},
   "outputs": [
    {
     "data": {
      "text/plain": [
       "[[1, 23.3], [12.34, True], ['Hola', 12.34], 'VAA', [1.2, 'Char', 5], 3]"
      ]
     },
     "execution_count": 83,
     "metadata": {},
     "output_type": "execute_result"
    }
   ],
   "source": [
    "L3"
   ]
  },
  {
   "cell_type": "code",
   "execution_count": 84,
   "id": "becb67b7",
   "metadata": {},
   "outputs": [],
   "source": [
    "L3.append(3)"
   ]
  },
  {
   "cell_type": "code",
   "execution_count": 85,
   "id": "4bbb9d86",
   "metadata": {},
   "outputs": [
    {
     "data": {
      "text/plain": [
       "[[1, 23.3], [12.34, True], ['Hola', 12.34], 'VAA', [1.2, 'Char', 5], 3, 3]"
      ]
     },
     "execution_count": 85,
     "metadata": {},
     "output_type": "execute_result"
    }
   ],
   "source": [
    "L3"
   ]
  },
  {
   "cell_type": "code",
   "execution_count": 86,
   "id": "df3c769c",
   "metadata": {},
   "outputs": [
    {
     "data": {
      "text/plain": [
       "2"
      ]
     },
     "execution_count": 86,
     "metadata": {},
     "output_type": "execute_result"
    }
   ],
   "source": [
    "L3.count(3)"
   ]
  },
  {
   "cell_type": "code",
   "execution_count": 87,
   "id": "0eca9690",
   "metadata": {},
   "outputs": [],
   "source": [
    "L3.reverse()"
   ]
  },
  {
   "cell_type": "code",
   "execution_count": 88,
   "id": "88274ce6",
   "metadata": {},
   "outputs": [
    {
     "data": {
      "text/plain": [
       "[3, 3, [1.2, 'Char', 5], 'VAA', ['Hola', 12.34], [12.34, True], [1, 23.3]]"
      ]
     },
     "execution_count": 88,
     "metadata": {},
     "output_type": "execute_result"
    }
   ],
   "source": [
    "L3"
   ]
  },
  {
   "cell_type": "code",
   "execution_count": 89,
   "id": "ff905e3d",
   "metadata": {},
   "outputs": [
    {
     "data": {
      "text/plain": [
       "0"
      ]
     },
     "execution_count": 89,
     "metadata": {},
     "output_type": "execute_result"
    }
   ],
   "source": [
    "L3.index(3)\n"
   ]
  },
  {
   "cell_type": "code",
   "execution_count": 90,
   "id": "f72952cf",
   "metadata": {},
   "outputs": [
    {
     "data": {
      "text/plain": [
       "0"
      ]
     },
     "execution_count": 90,
     "metadata": {},
     "output_type": "execute_result"
    }
   ],
   "source": [
    "L3.index(3,0,2)# Buscamos el primer indice donde aparece el 3, en el intervalo de indice del 0 al 2"
   ]
  },
  {
   "cell_type": "code",
   "execution_count": 91,
   "id": "f9b04701",
   "metadata": {},
   "outputs": [
    {
     "data": {
      "text/plain": [
       "7"
      ]
     },
     "execution_count": 91,
     "metadata": {},
     "output_type": "execute_result"
    }
   ],
   "source": [
    "len(L3)"
   ]
  },
  {
   "cell_type": "code",
   "execution_count": 92,
   "id": "ec44b564",
   "metadata": {},
   "outputs": [],
   "source": [
    "L=[1,2,3,4,5,6,7]"
   ]
  },
  {
   "cell_type": "code",
   "execution_count": 93,
   "id": "66942c1f",
   "metadata": {},
   "outputs": [
    {
     "data": {
      "text/plain": [
       "[1, 2, 3, 4, 5, 6, 7]"
      ]
     },
     "execution_count": 93,
     "metadata": {},
     "output_type": "execute_result"
    }
   ],
   "source": [
    "L"
   ]
  },
  {
   "cell_type": "markdown",
   "id": "17faa27e",
   "metadata": {},
   "source": [
    "### Bucles y listas."
   ]
  },
  {
   "cell_type": "code",
   "execution_count": 94,
   "id": "f16b2746",
   "metadata": {},
   "outputs": [
    {
     "name": "stdout",
     "output_type": "stream",
     "text": [
      "1\n",
      "2\n",
      "3\n",
      "4\n",
      "5\n",
      "6\n",
      "7\n"
     ]
    }
   ],
   "source": [
    "for numero in L:\n",
    "    print(numero)"
   ]
  },
  {
   "cell_type": "code",
   "execution_count": 95,
   "id": "1f433ec3",
   "metadata": {},
   "outputs": [
    {
     "name": "stdout",
     "output_type": "stream",
     "text": [
      "Ingrese un conjunto de numeros separados por una coma.1,2,3,4,5\n"
     ]
    },
    {
     "data": {
      "text/plain": [
       "['1', '2', '3', '4', '5']"
      ]
     },
     "execution_count": 95,
     "metadata": {},
     "output_type": "execute_result"
    }
   ],
   "source": [
    "C1= input(\"Ingrese un conjunto de numeros separados por una coma.\")\n",
    "L1= C1.split(\",\")\n",
    "L1"
   ]
  },
  {
   "cell_type": "code",
   "execution_count": 96,
   "id": "aea2dd56",
   "metadata": {},
   "outputs": [],
   "source": [
    "l= len(L1)\n",
    "\n",
    "for i in range(l):\n",
    "    \n",
    "    L1[i]=int(L1[i])"
   ]
  },
  {
   "cell_type": "code",
   "execution_count": 97,
   "id": "ff081cc6",
   "metadata": {},
   "outputs": [
    {
     "data": {
      "text/plain": [
       "[1, 2, 3, 4, 5]"
      ]
     },
     "execution_count": 97,
     "metadata": {},
     "output_type": "execute_result"
    }
   ],
   "source": [
    "L1"
   ]
  },
  {
   "cell_type": "code",
   "execution_count": 98,
   "id": "474bf2f4",
   "metadata": {},
   "outputs": [
    {
     "name": "stdout",
     "output_type": "stream",
     "text": [
      "0\n",
      "1\n",
      "2\n",
      "3\n",
      "4\n",
      "5\n",
      "6\n",
      "7\n",
      "8\n",
      "9\n"
     ]
    }
   ],
   "source": [
    "for x in range(0,10):\n",
    "    print(x)"
   ]
  },
  {
   "cell_type": "code",
   "execution_count": 99,
   "id": "c6be1766",
   "metadata": {},
   "outputs": [
    {
     "name": "stdout",
     "output_type": "stream",
     "text": [
      "B\n",
      "u\n",
      "e\n",
      "n\n",
      "o\n",
      "s\n",
      " \n",
      "d\n",
      "i\n",
      "a\n",
      "s\n"
     ]
    }
   ],
   "source": [
    "for c in \"Buenos dias\":\n",
    "    print(c)"
   ]
  },
  {
   "cell_type": "markdown",
   "id": "b55f0e15",
   "metadata": {},
   "source": [
    "### Tuplas"
   ]
  },
  {
   "cell_type": "markdown",
   "id": "141e69fe",
   "metadata": {},
   "source": [
    "Una tupla es una coleccion de objetos que no puede modificarse (tiene tamano y contenido fijo)."
   ]
  },
  {
   "cell_type": "code",
   "execution_count": 100,
   "id": "da2ba7f1",
   "metadata": {},
   "outputs": [
    {
     "data": {
      "text/plain": [
       "(1, 2, 3, 4)"
      ]
     },
     "execution_count": 100,
     "metadata": {},
     "output_type": "execute_result"
    }
   ],
   "source": [
    "T1=(1,2,3,4)\n",
    "T1"
   ]
  },
  {
   "cell_type": "code",
   "execution_count": 101,
   "id": "d37a2725",
   "metadata": {},
   "outputs": [
    {
     "data": {
      "text/plain": [
       "(1, 2, 3, 'Tupla 2', 3.45, 5.6)"
      ]
     },
     "execution_count": 101,
     "metadata": {},
     "output_type": "execute_result"
    }
   ],
   "source": [
    "T2= (1,2,3,\"Tupla 2\",3.45,5.6)\n",
    "T2"
   ]
  },
  {
   "cell_type": "code",
   "execution_count": 102,
   "id": "bf21f715",
   "metadata": {},
   "outputs": [
    {
     "data": {
      "text/plain": [
       "1"
      ]
     },
     "execution_count": 102,
     "metadata": {},
     "output_type": "execute_result"
    }
   ],
   "source": [
    "T2[0]"
   ]
  },
  {
   "cell_type": "code",
   "execution_count": 103,
   "id": "ffea9a5b",
   "metadata": {},
   "outputs": [
    {
     "data": {
      "text/plain": [
       "((3,), ('Tupla 2', 3.45, 5.6), (1, 2, 3, 'Tupla 2'))"
      ]
     },
     "execution_count": 103,
     "metadata": {},
     "output_type": "execute_result"
    }
   ],
   "source": [
    "T2[2:3],T2[3:],T2[:4]"
   ]
  },
  {
   "cell_type": "code",
   "execution_count": 104,
   "id": "214be8b9",
   "metadata": {},
   "outputs": [
    {
     "name": "stdout",
     "output_type": "stream",
     "text": [
      "[1, 2, 3, 4, 5]\n",
      "(1, 2, 3, 4)\n"
     ]
    }
   ],
   "source": [
    "print(L1)\n",
    "print(T1)"
   ]
  },
  {
   "cell_type": "code",
   "execution_count": 105,
   "id": "777d1a35",
   "metadata": {},
   "outputs": [],
   "source": [
    "L4=[3.4,5.6,6,\"Clase\"]"
   ]
  },
  {
   "cell_type": "code",
   "execution_count": 106,
   "id": "cb4458cd",
   "metadata": {},
   "outputs": [
    {
     "data": {
      "text/plain": [
       "(3.4, 5.6, 6, 'Clase')"
      ]
     },
     "execution_count": 106,
     "metadata": {},
     "output_type": "execute_result"
    }
   ],
   "source": [
    "T3= tuple(L4)\n",
    "T3"
   ]
  },
  {
   "cell_type": "code",
   "execution_count": 107,
   "id": "4c9bcbe9",
   "metadata": {},
   "outputs": [
    {
     "data": {
      "text/plain": [
       "[1, 2, 3, 'Tupla 2', 3.45, 5.6]"
      ]
     },
     "execution_count": 107,
     "metadata": {},
     "output_type": "execute_result"
    }
   ],
   "source": [
    "L5=list(T2)\n",
    "L5"
   ]
  },
  {
   "cell_type": "markdown",
   "id": "ccc50744",
   "metadata": {},
   "source": [
    "### Diccionarios."
   ]
  },
  {
   "cell_type": "markdown",
   "id": "2a012520",
   "metadata": {},
   "source": [
    "Tambien conocidos como arreglos asociativos, son colecciones NO ordenadas de pares de objetos (claves y valores). Se indexa no por posicion, si no utilizando claves"
   ]
  },
  {
   "cell_type": "code",
   "execution_count": 108,
   "id": "5f7c1c22",
   "metadata": {},
   "outputs": [],
   "source": [
    "Cuenta={\n",
    "        \"Karl Friedrich\": 123, \n",
    "        \"Alan Turin\":345,\n",
    "        \"Evarite Galois\": 567 \n",
    "       }"
   ]
  },
  {
   "cell_type": "code",
   "execution_count": 109,
   "id": "7c842cb6",
   "metadata": {},
   "outputs": [
    {
     "name": "stdout",
     "output_type": "stream",
     "text": [
      "{'Karl Friedrich': 123, 'Alan Turin': 345, 'Evarite Galois': 567}\n"
     ]
    }
   ],
   "source": [
    "  print(Cuenta)"
   ]
  },
  {
   "cell_type": "code",
   "execution_count": 110,
   "id": "5ddbb14d",
   "metadata": {},
   "outputs": [
    {
     "data": {
      "text/plain": [
       "123"
      ]
     },
     "execution_count": 110,
     "metadata": {},
     "output_type": "execute_result"
    }
   ],
   "source": [
    "Cuenta[\"Karl Friedrich\"]"
   ]
  },
  {
   "cell_type": "code",
   "execution_count": 111,
   "id": "854603af",
   "metadata": {},
   "outputs": [],
   "source": [
    "Cuenta[\"Karl Friedrich\"]= 000"
   ]
  },
  {
   "cell_type": "code",
   "execution_count": 112,
   "id": "d1152ea5",
   "metadata": {},
   "outputs": [
    {
     "data": {
      "text/plain": [
       "0"
      ]
     },
     "execution_count": 112,
     "metadata": {},
     "output_type": "execute_result"
    }
   ],
   "source": [
    "Cuenta[\"Karl Friedrich\"]"
   ]
  },
  {
   "cell_type": "code",
   "execution_count": 113,
   "id": "6f686101",
   "metadata": {},
   "outputs": [
    {
     "data": {
      "text/plain": [
       "dict_keys(['Karl Friedrich', 'Alan Turin', 'Evarite Galois'])"
      ]
     },
     "execution_count": 113,
     "metadata": {},
     "output_type": "execute_result"
    }
   ],
   "source": [
    "Cuenta.keys()"
   ]
  },
  {
   "cell_type": "code",
   "execution_count": 114,
   "id": "3ac21166",
   "metadata": {},
   "outputs": [
    {
     "data": {
      "text/plain": [
       "dict_values([0, 345, 567])"
      ]
     },
     "execution_count": 114,
     "metadata": {},
     "output_type": "execute_result"
    }
   ],
   "source": [
    "Cuenta.values()"
   ]
  },
  {
   "cell_type": "code",
   "execution_count": 115,
   "id": "33195841",
   "metadata": {},
   "outputs": [
    {
     "data": {
      "text/plain": [
       "3"
      ]
     },
     "execution_count": 115,
     "metadata": {},
     "output_type": "execute_result"
    }
   ],
   "source": [
    "len(Cuenta)"
   ]
  },
  {
   "cell_type": "code",
   "execution_count": 116,
   "id": "1b81bdfc",
   "metadata": {},
   "outputs": [
    {
     "data": {
      "text/plain": [
       "False"
      ]
     },
     "execution_count": 116,
     "metadata": {},
     "output_type": "execute_result"
    }
   ],
   "source": [
    "\"Einstein\" in Cuenta"
   ]
  },
  {
   "cell_type": "markdown",
   "id": "0e04ce87",
   "metadata": {},
   "source": [
    "### Arreglos de NumPy"
   ]
  },
  {
   "cell_type": "markdown",
   "id": "e00726c0",
   "metadata": {},
   "source": [
    "Los arreglos de NumPy son estructuras de datos que contienen datos de un mismo tipo."
   ]
  },
  {
   "cell_type": "code",
   "execution_count": 118,
   "id": "3e09c92b",
   "metadata": {},
   "outputs": [],
   "source": [
    "import numpy as np"
   ]
  },
  {
   "cell_type": "code",
   "execution_count": 119,
   "id": "5f4a936a",
   "metadata": {},
   "outputs": [],
   "source": [
    "L1=[1,2,3,4,5,6,7,8,9]"
   ]
  },
  {
   "cell_type": "code",
   "execution_count": 120,
   "id": "103ce137",
   "metadata": {},
   "outputs": [],
   "source": [
    "x1= np.array(L1)"
   ]
  },
  {
   "cell_type": "code",
   "execution_count": 121,
   "id": "70c26a47",
   "metadata": {},
   "outputs": [
    {
     "data": {
      "text/plain": [
       "array([[0., 0., 0., 0.],\n",
       "       [0., 0., 0., 0.],\n",
       "       [0., 0., 0., 0.]])"
      ]
     },
     "execution_count": 121,
     "metadata": {},
     "output_type": "execute_result"
    }
   ],
   "source": [
    "np.zeros((3,4))"
   ]
  },
  {
   "cell_type": "code",
   "execution_count": 122,
   "id": "bf39ca4a",
   "metadata": {},
   "outputs": [],
   "source": [
    "x2= np.ones((3,4))"
   ]
  },
  {
   "cell_type": "code",
   "execution_count": 123,
   "id": "17633841",
   "metadata": {},
   "outputs": [
    {
     "data": {
      "text/plain": [
       "array([0, 1, 2, 3, 4, 5, 6, 7, 8, 9])"
      ]
     },
     "execution_count": 123,
     "metadata": {},
     "output_type": "execute_result"
    }
   ],
   "source": [
    "np.arange(10)"
   ]
  },
  {
   "cell_type": "code",
   "execution_count": 124,
   "id": "78cdfc25",
   "metadata": {},
   "outputs": [
    {
     "data": {
      "text/plain": [
       "array([4. , 4.1, 4.2, 4.3, 4.4, 4.5, 4.6, 4.7, 4.8, 4.9, 5. , 5.1, 5.2,\n",
       "       5.3, 5.4])"
      ]
     },
     "execution_count": 124,
     "metadata": {},
     "output_type": "execute_result"
    }
   ],
   "source": [
    "np.arange(4,5.43,0.1)"
   ]
  },
  {
   "cell_type": "code",
   "execution_count": 125,
   "id": "024df9d9",
   "metadata": {},
   "outputs": [
    {
     "data": {
      "text/plain": [
       "array([1.        , 1.54545455, 2.09090909, 2.63636364, 3.18181818,\n",
       "       3.72727273, 4.27272727, 4.81818182, 5.36363636, 5.90909091,\n",
       "       6.45454545, 7.        ])"
      ]
     },
     "execution_count": 125,
     "metadata": {},
     "output_type": "execute_result"
    }
   ],
   "source": [
    "np.linspace(1,7,12)"
   ]
  },
  {
   "cell_type": "code",
   "execution_count": 126,
   "id": "c99da667",
   "metadata": {},
   "outputs": [
    {
     "data": {
      "text/plain": [
       "array([1., 1., 1., 1., 1., 1., 1., 1., 1., 1., 1., 1.])"
      ]
     },
     "execution_count": 126,
     "metadata": {},
     "output_type": "execute_result"
    }
   ],
   "source": [
    "x2.flatten()"
   ]
  },
  {
   "cell_type": "code",
   "execution_count": 127,
   "id": "e8a5daad",
   "metadata": {},
   "outputs": [
    {
     "data": {
      "text/plain": [
       "array([[1., 1., 1., 1.],\n",
       "       [1., 1., 1., 1.],\n",
       "       [1., 1., 1., 1.]])"
      ]
     },
     "execution_count": 127,
     "metadata": {},
     "output_type": "execute_result"
    }
   ],
   "source": [
    "np.resize(x2,(3,4))"
   ]
  },
  {
   "cell_type": "markdown",
   "id": "74ec14a0",
   "metadata": {},
   "source": [
    "### Universalidad de las funciones"
   ]
  },
  {
   "cell_type": "code",
   "execution_count": 129,
   "id": "88297fa1",
   "metadata": {},
   "outputs": [
    {
     "data": {
      "text/plain": [
       "array([0, 1, 2, 3, 4, 5, 6, 7, 8, 9])"
      ]
     },
     "execution_count": 129,
     "metadata": {},
     "output_type": "execute_result"
    }
   ],
   "source": [
    "x3= np.arange(10)\n",
    "x3"
   ]
  },
  {
   "cell_type": "code",
   "execution_count": 130,
   "id": "37002368",
   "metadata": {},
   "outputs": [
    {
     "data": {
      "text/plain": [
       "array([ 3.4,  4.4,  5.4,  6.4,  7.4,  8.4,  9.4, 10.4, 11.4, 12.4])"
      ]
     },
     "execution_count": 130,
     "metadata": {},
     "output_type": "execute_result"
    }
   ],
   "source": [
    "x3+3.4"
   ]
  },
  {
   "cell_type": "code",
   "execution_count": 131,
   "id": "79191c01",
   "metadata": {},
   "outputs": [
    {
     "data": {
      "text/plain": [
       "array([0.        , 0.31831927, 0.63663855, 0.95495782, 1.2732771 ,\n",
       "       1.59159637, 1.90991565, 2.22823492, 2.54655419, 2.86487347])"
      ]
     },
     "execution_count": 131,
     "metadata": {},
     "output_type": "execute_result"
    }
   ],
   "source": [
    "x3-3.1415\n",
    "3.1415*x3\n",
    "x3/3.1415"
   ]
  },
  {
   "cell_type": "code",
   "execution_count": 152,
   "id": "affc6332",
   "metadata": {},
   "outputs": [],
   "source": [
    "x4= np.linspace(0,2*np.pi,4)"
   ]
  },
  {
   "cell_type": "code",
   "execution_count": 153,
   "id": "d1ba7951",
   "metadata": {},
   "outputs": [],
   "source": [
    "x5= np.arange(12) \n",
    "x5= np.resize(x5,(5,3))"
   ]
  },
  {
   "cell_type": "code",
   "execution_count": 154,
   "id": "f09dac76",
   "metadata": {},
   "outputs": [
    {
     "data": {
      "text/plain": [
       "array([ 3, 12, 21, 30,  3])"
      ]
     },
     "execution_count": 154,
     "metadata": {},
     "output_type": "execute_result"
    }
   ],
   "source": [
    "np.sin(x4)\n",
    "np.cos(x4)\n",
    "np.exp(x4)\n",
    "np.power(3,x4)\n",
    "np.mean(x4)\n",
    "np.median(x4)\n",
    "np.min(x4)\n",
    "np.std(x4)\n",
    "np.var(x4)\n",
    "np.argmin(x4)\n",
    "np.argmax(x4)\n",
    "x5.sum()\n",
    "x5.sum(axis=0)\n",
    "x5.sum(axis=1)"
   ]
  },
  {
   "cell_type": "markdown",
   "id": "412758b3",
   "metadata": {},
   "source": [
    "### Modulo de algebra lineal"
   ]
  },
  {
   "cell_type": "code",
   "execution_count": 146,
   "id": "83c6a0fa",
   "metadata": {},
   "outputs": [],
   "source": [
    "A= np.arange(12) \n",
    "A= np.resize(A,(5,3))\n",
    "B= np.arange(12)\n",
    "B= np.resize(B,(3,5))\n",
    "B= 5+B\n",
    "C= np.arange(16)\n",
    "C= np.resize(C,(4,4))"
   ]
  },
  {
   "cell_type": "code",
   "execution_count": 147,
   "id": "f0d55e19",
   "metadata": {},
   "outputs": [
    {
     "data": {
      "text/plain": [
       "array([[ 40,  43,  22,  25,  28],\n",
       "       [130, 142,  94, 106, 118],\n",
       "       [220, 241, 166, 187, 208],\n",
       "       [310, 340, 238, 268, 298],\n",
       "       [ 40,  43,  22,  25,  28]])"
      ]
     },
     "execution_count": 147,
     "metadata": {},
     "output_type": "execute_result"
    }
   ],
   "source": [
    "np.dot(A,B)"
   ]
  },
  {
   "cell_type": "code",
   "execution_count": 148,
   "id": "3e00f4ac",
   "metadata": {},
   "outputs": [
    {
     "data": {
      "text/plain": [
       "0.0"
      ]
     },
     "execution_count": 148,
     "metadata": {},
     "output_type": "execute_result"
    }
   ],
   "source": [
    "np.transpose(A)\n",
    "np.trace(A)\n",
    "np.linalg.matrix_power(C,5)\n",
    "np.linalg.det(C)\n",
    "#np.linalg.inv(C)"
   ]
  },
  {
   "cell_type": "code",
   "execution_count": null,
   "id": "556a0d43",
   "metadata": {},
   "outputs": [],
   "source": []
  }
 ],
 "metadata": {
  "kernelspec": {
   "display_name": "Python 3 (ipykernel)",
   "language": "python",
   "name": "python3"
  },
  "language_info": {
   "codemirror_mode": {
    "name": "ipython",
    "version": 3
   },
   "file_extension": ".py",
   "mimetype": "text/x-python",
   "name": "python",
   "nbconvert_exporter": "python",
   "pygments_lexer": "ipython3",
   "version": "3.9.7"
  }
 },
 "nbformat": 4,
 "nbformat_minor": 5
}
