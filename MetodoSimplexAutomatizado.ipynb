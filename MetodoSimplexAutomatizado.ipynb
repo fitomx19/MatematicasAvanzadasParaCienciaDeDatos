{
 "cells": [
  {
   "cell_type": "markdown",
   "id": "fa46c291",
   "metadata": {},
   "source": [
    "### Programa para la resolucion de Metodo Simplex\n",
    "\n",
    "##### Michael Adolfo Huerta Ramírez"
   ]
  },
  {
   "cell_type": "markdown",
   "id": "a2a18a7e",
   "metadata": {},
   "source": [
    "<br>\n",
    "Maximize x₁ + x₂ subject to\n",
    "<br>\n",
    "x₁ ≥ 0\n",
    "<br>\n",
    "x₂ ≥ 0\n",
    "<br>\n",
    "-x₁ + x₂ ≤ 2\n",
    "<br>\n",
    "x₁ ≤ 4\n",
    "<br>\n",
    "x₂ ≤ 4\n",
    "<br>\n"
   ]
  },
  {
   "cell_type": "code",
   "execution_count": 1,
   "id": "f25ef622",
   "metadata": {},
   "outputs": [],
   "source": [
    "#las 3 posiciones extra en el arreglo ya incluye los valores de pivoteo\n",
    "\n",
    "c = [1, 1, 0, 0, 0]\n",
    "#aqui se incluyen los valores de pivoteo\n",
    "A = [\n",
    "    [-1, 1, 1, 0, 0],\n",
    "    [ 1, 0, 0, 1, 0],\n",
    "    [ 0, 1, 0, 0, 1]\n",
    "]\n",
    "#se muestran los valores para despues de la desigualdad\n",
    "b = [2, 4, 4]"
   ]
  },
  {
   "cell_type": "code",
   "execution_count": 2,
   "id": "f9430d0b",
   "metadata": {},
   "outputs": [],
   "source": [
    "def to_tableau(c, A, b):\n",
    "    #introduce el valor a utilizar\n",
    "    xb = [eq + [x] for eq, x in zip(A, b)]\n",
    "    print(xb)\n",
    "    z = c + [0]\n",
    "    print(z)\n",
    "    return xb + [z]"
   ]
  },
  {
   "cell_type": "code",
   "execution_count": 3,
   "id": "b9c43104",
   "metadata": {},
   "outputs": [
    {
     "name": "stdout",
     "output_type": "stream",
     "text": [
      "[[-1, 1, 1, 0, 0, 2], [1, 0, 0, 1, 0, 4], [0, 1, 0, 0, 1, 4]]\n",
      "[1, 1, 0, 0, 0, 0]\n"
     ]
    },
    {
     "data": {
      "text/plain": [
       "[[-1, 1, 1, 0, 0, 2],\n",
       " [1, 0, 0, 1, 0, 4],\n",
       " [0, 1, 0, 0, 1, 4],\n",
       " [1, 1, 0, 0, 0, 0]]"
      ]
     },
     "execution_count": 3,
     "metadata": {},
     "output_type": "execute_result"
    }
   ],
   "source": [
    "#unimos el valor resultante de la desigualdad donde corresponse, para poder iterarlo más adelante\n",
    "to_tableau(c,A,b)"
   ]
  },
  {
   "cell_type": "markdown",
   "id": "1596ae62",
   "metadata": {},
   "source": [
    "En esta parte los acomodamos en un arreglo unico cada una de las restricciones"
   ]
  },
  {
   "cell_type": "code",
   "execution_count": 4,
   "id": "625cd06c",
   "metadata": {},
   "outputs": [],
   "source": [
    "def can_be_improved(tabla):\n",
    "    z = tabla[-1]\n",
    "    \n",
    "    return any(x > 0 for x in z[:-1])"
   ]
  },
  {
   "cell_type": "code",
   "execution_count": 5,
   "id": "47db751a",
   "metadata": {},
   "outputs": [],
   "source": [
    "import math\n",
    "import numpy as np\n",
    "\n",
    "def get_pivot_position(tabla):\n",
    "    z = tabla[-1]\n",
    "    column = next(i for i, x in enumerate(z[:-1]) if x > 0)\n",
    "    \n",
    "    restrictions = []\n",
    "    for eq in tabla[:-1]:\n",
    "        el = eq[column]\n",
    "        restrictions.append(math.inf if el <= 0 else eq[-1] / el)\n",
    "\n",
    "    row = restrictions.index(min(restrictions))\n",
    "    return row, column"
   ]
  },
  {
   "cell_type": "code",
   "execution_count": 6,
   "id": "1033b1ab",
   "metadata": {},
   "outputs": [],
   "source": [
    "def pivot_step(tabla, pivot_position):\n",
    "    nueva_tabla = [[] for eq in tabla]\n",
    "    \n",
    "    i, j = pivot_position\n",
    "    pivot_value = tabla[i][j]\n",
    "    nueva_tabla[i] = np.array(tabla[i]) / pivot_value\n",
    "    \n",
    "    for eq_i, eq in enumerate(tabla):\n",
    "        if eq_i != i:\n",
    "            #aqui se pone el multiplicador de cada uno de los pasos de pivoteo\n",
    "            multiplicador = np.array(nueva_tabla[i]) * tabla[eq_i][j]\n",
    "            nueva_tabla[eq_i] = np.array(tabla[eq_i]) - multiplicador\n",
    "   \n",
    "    return nueva_tabla"
   ]
  },
  {
   "cell_type": "code",
   "execution_count": 7,
   "id": "ae4780c7",
   "metadata": {},
   "outputs": [],
   "source": [
    "def is_basic(columna):\n",
    "    return sum(columna) == 1 and len([c for c in columna if c == 0]) == len(columna) - 1\n",
    "\n",
    "def get_solution(tabla):\n",
    "    columns = np.array(tabla).T\n",
    "    soluciones = []\n",
    "    for column in columns:\n",
    "        solucion = 0\n",
    "        if is_basic(column):\n",
    "            one_index = column.tolist().index(1)\n",
    "            solucion = columns[-1][one_index]\n",
    "        soluciones.append(solucion)\n",
    "        \n",
    "    return soluciones"
   ]
  },
  {
   "cell_type": "code",
   "execution_count": 8,
   "id": "c1188c91",
   "metadata": {},
   "outputs": [],
   "source": [
    "def simplex(c, A, b):\n",
    "    tabla = to_tableau(c, A, b)\n",
    "\n",
    "    while can_be_improved(tabla):\n",
    "        pivot_position = get_pivot_position(tabla)\n",
    "        tabla = pivot_step(tabla, pivot_position)\n",
    "\n",
    "    return get_solution(tabla)"
   ]
  },
  {
   "cell_type": "code",
   "execution_count": 9,
   "id": "09c3f83d",
   "metadata": {},
   "outputs": [
    {
     "name": "stdout",
     "output_type": "stream",
     "text": [
      "[[-1, 1, 1, 0, 0, 2], [1, 0, 0, 1, 0, 4], [0, 1, 0, 0, 1, 4]]\n",
      "[1, 1, 0, 0, 0, 0]\n",
      "Solucion:  [4.0, 4.0, 2.0, 0, 0, 0]\n"
     ]
    }
   ],
   "source": [
    "solution = simplex(c, A, b)\n",
    "print('Solucion: ', solution)"
   ]
  },
  {
   "cell_type": "markdown",
   "id": "23d359fb",
   "metadata": {},
   "source": [
    "Para poder visualizarlo ahora haremos lo siguiente: "
   ]
  },
  {
   "cell_type": "code",
   "execution_count": 10,
   "id": "54bcd6e4",
   "metadata": {},
   "outputs": [
    {
     "name": "stderr",
     "output_type": "stream",
     "text": [
      "/Users/adolfohuerta/opt/anaconda3/lib/python3.9/site-packages/scipy/__init__.py:146: UserWarning: A NumPy version >=1.16.5 and <1.23.0 is required for this version of SciPy (detected version 1.23.0\n",
      "  warnings.warn(f\"A NumPy version >={np_minversion} and <{np_maxversion}\"\n"
     ]
    },
    {
     "data": {
      "image/png": "[encoded data removed]",
      "text/plain": [
       "<Figure size 432x288 with 1 Axes>"
      ]
     },
     "metadata": {
      "needs_background": "light"
     },
     "output_type": "display_data"
    }
   ],
   "source": [
    "from scipy.spatial import HalfspaceIntersection, ConvexHull\n",
    "import matplotlib.pyplot as plt\n",
    "from matplotlib.patches import Polygon\n",
    "halfspaces = [\n",
    "    [-1, 0, 0],    # x₁ ≥ 0\n",
    "    [0, -1, 0],    # x₂ ≥ 0\n",
    "    [-1, 1, -2],   # -x₁ + x₂ ≤ 2\n",
    "    [1, 0, -4],    # x₁ ≤ 4\n",
    "    [0, 1, -4],    # x₂ ≤ 4\n",
    "]\n",
    "feasible_point = np.array([0.5, 0.5])\n",
    "xlim = (-1, 5)\n",
    "def render_inequalities(halfspaces, feasible_point, xlim, ylim):\n",
    "    hs = HalfspaceIntersection(np.array(halfspaces), np.array(feasible_point))\n",
    "    fig = plt.figure()\n",
    "    ax = fig.add_subplot(111, aspect='equal')\n",
    "    ax.set_xlim(xlim)\n",
    "    ax.set_ylim(ylim)\n",
    "\n",
    "    x = np.linspace(*xlim, 100)\n",
    "\n",
    "    for h in halfspaces:\n",
    "        if h[1]== 0:\n",
    "            ax.axvline(-h[2]/h[0], color=\"#2c3e50\")\n",
    "        else:\n",
    "            ax.plot(x, (-h[2]-h[0]*x)/h[1], color=\"#2c3e50\")\n",
    "    x, y = zip(*hs.intersections)\n",
    "    points = list(zip(x, y))\n",
    "    convex_hull = ConvexHull(points)\n",
    "    polygon = Polygon([points[v] for v in convex_hull.vertices], color=\"#34495e\")\n",
    "    ax.add_patch(polygon)\n",
    "    ax.plot(x, y, 'o', color=\"#e67e22\")\n",
    "render_inequalities(halfspaces, feasible_point, xlim, xlim)\n",
    "plt.show()"
   ]
  },
  {
   "cell_type": "code",
   "execution_count": 11,
   "id": "ce84b1ff",
   "metadata": {},
   "outputs": [],
   "source": [
    "def simplex_with_visualization(c, A, b, halfspaces, feasible_point):\n",
    "    tabla = to_tableau(c, A, b)\n",
    "\n",
    "    soluciones = [get_solution(tabla)]\n",
    "    while can_be_improved(tabla):\n",
    "        pivot_position = get_pivot_position(tabla)\n",
    "        tabla = pivot_step(tabla, pivot_position)\n",
    "        soluciones.append(get_solution(tabla))\n",
    "    \n",
    "    points = [v[:2] for v in soluciones]\n",
    "    xlim = (-1, max([p[0] for p in points]) + 1)\n",
    "    ylim = (-1, max([p[1] for p in points]) + 1)\n",
    "    render_inequalities(halfspaces, feasible_point, xlim, ylim)\n",
    "\n",
    "    for start, end in zip(points[:-1], points[1:]):\n",
    "        plt.arrow(\n",
    "            start[0],\n",
    "            start[1],\n",
    "            end[0] - start[0],\n",
    "            end[1] - start[1],\n",
    "            width=0.1,\n",
    "            length_includes_head=True,\n",
    "            color='#1abc9c'\n",
    "        )\n",
    "    return get_solution(tabla)"
   ]
  },
  {
   "cell_type": "code",
   "execution_count": 51,
   "id": "a89fb04a",
   "metadata": {},
   "outputs": [
    {
     "name": "stdout",
     "output_type": "stream",
     "text": [
      "[[-1, 1, 1, 0, 0, 2], [1, 0, 0, 1, 0, 4], [0, 1, 0, 0, 1, 4]]\n",
      "[1, 1, 0, 0, 0, 0]\n"
     ]
    },
    {
     "data": {
      "text/plain": [
       "[4.0, 4.0, 2.0, 0, 0, 0]"
      ]
     },
     "execution_count": 51,
     "metadata": {},
     "output_type": "execute_result"
    },
    {
     "data": {
      "image/png": "[encoded data removed]",
      "text/plain": [
       "<Figure size 432x288 with 1 Axes>"
      ]
     },
     "metadata": {
      "needs_background": "light"
     },
     "output_type": "display_data"
    }
   ],
   "source": [
    "simplex_with_visualization(c, A, b, halfspaces, feasible_point)"
   ]
  }
 ],
 "metadata": {
  "kernelspec": {
   "display_name": "Python 3.9.7 ('base')",
   "language": "python",
   "name": "python3"
  },
  "language_info": {
   "codemirror_mode": {
    "name": "ipython",
    "version": 3
   },
   "file_extension": ".py",
   "mimetype": "text/x-python",
   "name": "python",
   "nbconvert_exporter": "python",
   "pygments_lexer": "ipython3",
   "version": "3.9.7"
  },
  "vscode": {
   "interpreter": {
    "hash": "12e7b2db913c7cced4d5bf71ce365c438f2053887e824f813caa9208ccef4b13"
   }
  }
 },
 "nbformat": 4,
 "nbformat_minor": 5
}
