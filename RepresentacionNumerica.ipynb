{
 "cells": [
  {
   "cell_type": "markdown",
   "metadata": {},
   "source": []
  },
  {
   "cell_type": "code",
   "execution_count": 30,
   "metadata": {},
   "outputs": [],
   "source": [
    "from datetime import datetime ,timedelta\n",
    "import math \n",
    "import numpy as np\n",
    "import pandas\n",
    "import matplotlib\n",
    "\n",
    "from math import pi\n",
    "from math import * \n",
    "\n",
    "\n"
   ]
  },
  {
   "cell_type": "code",
   "execution_count": 6,
   "metadata": {},
   "outputs": [
    {
     "data": {
      "text/plain": [
       "inf"
      ]
     },
     "execution_count": 6,
     "metadata": {},
     "output_type": "execute_result"
    }
   ],
   "source": [
    "math.inf\n",
    "-math.inf\n",
    "float(inf)"
   ]
  },
  {
   "cell_type": "code",
   "execution_count": 7,
   "metadata": {},
   "outputs": [
    {
     "name": "stdout",
     "output_type": "stream",
     "text": [
      "3.141592653589793\n"
     ]
    },
    {
     "data": {
      "text/plain": [
       "nan"
      ]
     },
     "execution_count": 7,
     "metadata": {},
     "output_type": "execute_result"
    }
   ],
   "source": [
    "math.pi\n",
    "print(math.pi)\n",
    "\n",
    "math.nan"
   ]
  },
  {
   "cell_type": "code",
   "execution_count": 8,
   "metadata": {},
   "outputs": [
    {
     "ename": "ValueError",
     "evalue": "math domain error",
     "output_type": "error",
     "traceback": [
      "\u001b[0;31m---------------------------------------------------------------------------\u001b[0m",
      "\u001b[0;31mValueError\u001b[0m                                Traceback (most recent call last)",
      "\u001b[0;32m/var/folders/zb/0l4s85s95rzbg13c3_fm6k540000gn/T/ipykernel_76611/3317421085.py\u001b[0m in \u001b[0;36m<module>\u001b[0;34m\u001b[0m\n\u001b[0;32m----> 1\u001b[0;31m \u001b[0mmath\u001b[0m\u001b[0;34m.\u001b[0m\u001b[0msqrt\u001b[0m\u001b[0;34m(\u001b[0m\u001b[0;34m-\u001b[0m\u001b[0;36m1.6\u001b[0m\u001b[0;34m)\u001b[0m\u001b[0;34m\u001b[0m\u001b[0;34m\u001b[0m\u001b[0m\n\u001b[0m",
      "\u001b[0;31mValueError\u001b[0m: math domain error"
     ]
    }
   ],
   "source": [
    "math.sqrt(-1.6)"
   ]
  },
  {
   "cell_type": "code",
   "execution_count": 9,
   "metadata": {},
   "outputs": [
    {
     "data": {
      "text/plain": [
       "1.0"
      ]
     },
     "execution_count": 9,
     "metadata": {},
     "output_type": "execute_result"
    }
   ],
   "source": [
    "math.pow(math.nan,0)"
   ]
  },
  {
   "cell_type": "markdown",
   "metadata": {},
   "source": [
    "Representacion Númerica"
   ]
  },
  {
   "cell_type": "code",
   "execution_count": 10,
   "metadata": {},
   "outputs": [
    {
     "data": {
      "text/plain": [
       "2"
      ]
     },
     "execution_count": 10,
     "metadata": {},
     "output_type": "execute_result"
    }
   ],
   "source": [
    "#cociente\n",
    "7//3"
   ]
  },
  {
   "cell_type": "code",
   "execution_count": 14,
   "metadata": {},
   "outputs": [
    {
     "name": "stdout",
     "output_type": "stream",
     "text": [
      "1\n",
      "(0.2999999999999998, 4.0)\n",
      "1.0\n"
     ]
    }
   ],
   "source": [
    "print(4%3)\n",
    "print(math.modf(4.3))\n",
    "print(math.remainder(4,3))"
   ]
  },
  {
   "cell_type": "code",
   "execution_count": 56,
   "metadata": {},
   "outputs": [
    {
     "name": "stdout",
     "output_type": "stream",
     "text": [
      "segundos :350000000\n",
      "2028-02-03 22:13:20\n"
     ]
    }
   ],
   "source": [
    "class CreditCard:\n",
    "    def __init__(self,cliente,banco,cuenta,cod_seg,limit,Date_cut,balance):\n",
    "    #Instancia de la clase CreditCard\n",
    "        self.cliente = cliente\n",
    "        self.banco = banco\n",
    "        self.cuenta = cuenta\n",
    "        self.cod_seg = cod_seg\n",
    "        self.limit = limit\n",
    "        self.Date_cut = Date_cut\n",
    "        self.balance = 0\n",
    "        \n",
    "#metodo para agregar dinero a la cuenta\n",
    "\n",
    "    def get_cliente(self):\n",
    "        return self.cliente\n",
    "    def get_banco(self):\n",
    "        return self.banco\n",
    "    def get_cuenta(self):\n",
    "        return self.cuenta\n",
    "    def get_cod_seg(self):\n",
    "        return self.cod_seg\n",
    "    def get_limit(self):\n",
    "        return self.limit\n",
    "    def get_Date_cut(self):\n",
    "        return self.Date_cut\n",
    "    def get_balance(self):\n",
    "        return self.balance\n",
    "    \n",
    "    def allow_charge(self,precio):\n",
    "        if precio + self._balance <= self._limit:\n",
    "            self._balance += precio\n",
    "            print(\"Compra aceptada\")\n",
    "        else:\n",
    "            (print(\"Compra rechazada\"))\n",
    "    #Ejercicio 1 realizar abono a la cuenta\n",
    "    def make_payment(self,abono):\n",
    "        self._balance -= abono\n",
    "        print(\"Pago aceptado\")\n",
    "       \n",
    "            \n",
    "class Personaje():\n",
    "    def __init__(self,nombre,edad,altura,peso,genero,direccion,fechaNacimiento):\n",
    "        self.nombre = nombre\n",
    "        self.edad = edad\n",
    "        self.altura = altura\n",
    "        self.peso = peso\n",
    "        self.genero = genero\n",
    "        self.direccion = direccion\n",
    "        self.fechaNacimiento = fechaNacimiento\n",
    "        \n",
    "    def get_nombre(self):\n",
    "        return self.nombre\n",
    "    def get_edad(self):\n",
    "        return self.edad\n",
    "    def get_altura(self):\n",
    "        return self.altura\n",
    "    def get_peso(self):\n",
    "        return self.peso\n",
    "    def get_genero(self):\n",
    "        return self.genero\n",
    "    def get_direccion(self):\n",
    "        return self.direccion\n",
    "    def get_fechaNacimiento(self):\n",
    "        return self.fechaNacimiento\n",
    "    \n",
    "    def set_nombre(self,nombre):\n",
    "        self.nombre = nombre\n",
    "    def set_edad(self,edad):\n",
    "        self.edad = edad\n",
    "    def set_altura(self,altura):\n",
    "        self.altura = altura\n",
    "    def set_peso(self,peso):\n",
    "        self.peso = peso\n",
    "    def set_direccion(self,direccion):\n",
    "        self.direccion = direccion\n",
    "\n",
    "\n",
    "    #cumpleaños\n",
    "def cumpleanios(self,edad):\n",
    "        if self.fechaNacimiento == datetime.today():\n",
    "            self.edad += 1\n",
    "            print(\"Feliz cumpleaños\")\n",
    "    #dieta       \n",
    "def dieta(self):\n",
    "        print(self)\n",
    "        if int(self) <= 150:\n",
    "            print(\"Peso normal , no necesitas dieta\")\n",
    "        else:\n",
    "            print(\"Peso alto, necesitas dieta\")\n",
    "    #contar segundos a partir de 2017\n",
    "def contar_segundos(fecha,segundos):\n",
    "        x = datetime(fecha, 1, 1)\n",
    "        complemento_segundos = 10**7\n",
    "        segundos = segundos*complemento_segundos\n",
    "\n",
    "        resultado = x + timedelta(seconds=segundos)\n",
    "        print(\"segundos :\" + str(segundos))\n",
    "        print(resultado)\n",
    "    #contemos segundos\n",
    "contar_segundos(2017,35)\n",
    "\n",
    "\n",
    "\n",
    "    "
   ]
  },
  {
   "cell_type": "code",
   "execution_count": 54,
   "metadata": {},
   "outputs": [
    {
     "name": "stdout",
     "output_type": "stream",
     "text": [
      "80\n",
      "Peso normal , no necesitas dieta\n"
     ]
    }
   ],
   "source": [
    "#35*10**6\n",
    "#dieta \n",
    "p1 = Personaje(\"Juan\",20,1.70,80,\"Hombre\",\"Calle falsa 123\",datetime(1997,1,1))\n",
    "dieta(p1.peso)"
   ]
  },
  {
   "cell_type": "code",
   "execution_count": null,
   "metadata": {},
   "outputs": [],
   "source": [
    "#clase auto\n",
    "\n",
    "class Auto():\n",
    "    def __init__(self,marca,modelo,color,anio,cilindrada,precio):\n",
    "        self.marca = marca\n",
    "        self.modelo = modelo\n",
    "        self.color = color\n",
    "        self.anio = anio\n",
    "        self.cilindrada = cilindrada\n",
    "        self.precio = precio\n",
    "    def get_marca(self):\n",
    "        return self.marca\n",
    "    def get_modelo(self):\n",
    "        return self.modelo\n",
    "    def get_color(self):\n",
    "        return self.color\n",
    "    def get_anio(self):\n",
    "        return self.anio\n",
    "    def get_cilindrada(self):\n",
    "        return self.cilindrada\n",
    "    def get_precio(self):\n",
    "        return self.precio\n",
    "\n"
   ]
  },
  {
   "cell_type": "markdown",
   "metadata": {},
   "source": [
    "### Diccionarios"
   ]
  },
  {
   "cell_type": "code",
   "execution_count": 55,
   "metadata": {},
   "outputs": [],
   "source": [
    "Cuenta = {\n",
    "    \"cliente\": \"Juan\",\n",
    "    \"banco\": \"Banco de la Nacion\",\n",
    "    \"cuenta\": \"123456789\",\n",
    "}"
   ]
  }
 ],
 "metadata": {
  "kernelspec": {
   "display_name": "Python 3.9.7 ('base')",
   "language": "python",
   "name": "python3"
  },
  "language_info": {
   "codemirror_mode": {
    "name": "ipython",
    "version": 3
   },
   "file_extension": ".py",
   "mimetype": "text/x-python",
   "name": "python",
   "nbconvert_exporter": "python",
   "pygments_lexer": "ipython3",
   "version": "3.9.7"
  },
  "orig_nbformat": 4,
  "vscode": {
   "interpreter": {
    "hash": "12e7b2db913c7cced4d5bf71ce365c438f2053887e824f813caa9208ccef4b13"
   }
  }
 },
 "nbformat": 4,
 "nbformat_minor": 2
}
